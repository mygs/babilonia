{
 "cells": [
  {
   "cell_type": "code",
   "execution_count": 3,
   "metadata": {},
   "outputs": [],
   "source": [
    "import json\n",
    "import re\n",
    "import pymysql\n",
    "import pandas as pd\n",
    "%matplotlib inline\n",
    "from matplotlib import pyplot as plt\n",
    "plt.rcParams['figure.figsize'] = [15, 7]\n",
    "pd.options.display.float_format = \"{:.0f}\".format"
   ]
  },
  {
   "cell_type": "code",
   "execution_count": 4,
   "metadata": {},
   "outputs": [],
   "source": [
    "with open('../../server/app/config.json') as json_data_file:\n",
    "    data = json.load(json_data_file)\n",
    "    url = data['SQLALCHEMY_DATABASE_URI']\n",
    "user, password, host, database = re.match('mysql://(.*?):(.*?)@(.*?)/(.*)', url).groups()\n",
    "conn = pymysql.connect(host=host,port=3306,user=user,passwd=password,db=database)"
   ]
  },
  {
   "cell_type": "code",
   "execution_count": 19,
   "metadata": {},
   "outputs": [],
   "source": [
    "query_39732c=\"\"\"\n",
    "    SELECT  TIMESTAMP,\n",
    "            DATA->'$.DATA.NODE.FREE_HEAP' AS FREE_HEAP,\n",
    "            DATA->'$.DATA.CAPACITIVEMOISTURE.MUX0' AS MUX0,\n",
    "            DATA->'$.DATA.CAPACITIVEMOISTURE.MUX1' AS MUX1,\n",
    "            DATA->'$.DATA.CAPACITIVEMOISTURE.MUX2' AS MUX2,\n",
    "            DATA->'$.DATA.CAPACITIVEMOISTURE.MUX3' AS MUX3,\n",
    "            DATA->'$.DATA.CAPACITIVEMOISTURE.MUX4' AS MUX4,\n",
    "            DATA->'$.DATA.CAPACITIVEMOISTURE.MUX5' AS MUX5,\n",
    "            DATA->'$.DATA.CAPACITIVEMOISTURE.MUX6' AS MUX6,\n",
    "            DATA->'$.DATA.CAPACITIVEMOISTURE.MUX7' AS MUX7\n",
    "    FROM OASIS_DATA\n",
    "    WHERE NODE_ID='oasis-39732c'\n",
    "    ORDER BY TIMESTAMP asc\n",
    "    \"\"\"\n",
    "df = pd.read_sql_query(query_39732c, conn).astype(int)\n",
    "query_397c0e=\"\"\"\n",
    "    SELECT  TIMESTAMP,\n",
    "            DATA->'$.DATA.DHT.TEMPERATURE' AS TEMPERATURE,\n",
    "            DATA->'$.DATA.DHT.HUMIDITY' AS HUMIDITY\n",
    "    FROM OASIS_DATA\n",
    "    WHERE NODE_ID='oasis-397c0e'\n",
    "    ORDER BY TIMESTAMP asc\n",
    "    \"\"\"\n",
    "dft = pd.read_sql_query(query_397c0e, conn).astype(int)"
   ]
  },
  {
   "cell_type": "code",
   "execution_count": 13,
   "metadata": {},
   "outputs": [
    {
     "name": "stdout",
     "output_type": "stream",
     "text": [
      "Interval: 60 secs\n",
      "Duration: 12.05 hrs\n"
     ]
    }
   ],
   "source": [
    "print(\"Interval:\", df['TIMESTAMP'][1] - df['TIMESTAMP'][0], \"secs\")\n",
    "print(\"Duration:\", int(df['TIMESTAMP'].tail(1) - df['TIMESTAMP'][0])/3600, \"hrs\")"
   ]
  },
  {
   "cell_type": "code",
   "execution_count": 14,
   "metadata": {},
   "outputs": [
    {
     "data": {
      "text/html": [
       "<div>\n",
       "<style scoped>\n",
       "    .dataframe tbody tr th:only-of-type {\n",
       "        vertical-align: middle;\n",
       "    }\n",
       "\n",
       "    .dataframe tbody tr th {\n",
       "        vertical-align: top;\n",
       "    }\n",
       "\n",
       "    .dataframe thead th {\n",
       "        text-align: right;\n",
       "    }\n",
       "</style>\n",
       "<table border=\"1\" class=\"dataframe\">\n",
       "  <thead>\n",
       "    <tr style=\"text-align: right;\">\n",
       "      <th></th>\n",
       "      <th>FREE_HEAP</th>\n",
       "      <th>MUX0</th>\n",
       "      <th>MUX1</th>\n",
       "      <th>MUX2</th>\n",
       "      <th>MUX3</th>\n",
       "      <th>MUX4</th>\n",
       "      <th>MUX5</th>\n",
       "      <th>MUX6</th>\n",
       "      <th>MUX7</th>\n",
       "    </tr>\n",
       "  </thead>\n",
       "  <tbody>\n",
       "    <tr>\n",
       "      <th>count</th>\n",
       "      <td>724</td>\n",
       "      <td>724</td>\n",
       "      <td>724</td>\n",
       "      <td>724</td>\n",
       "      <td>724</td>\n",
       "      <td>724</td>\n",
       "      <td>724</td>\n",
       "      <td>724</td>\n",
       "      <td>724</td>\n",
       "    </tr>\n",
       "    <tr>\n",
       "      <th>mean</th>\n",
       "      <td>33487</td>\n",
       "      <td>245</td>\n",
       "      <td>245</td>\n",
       "      <td>262</td>\n",
       "      <td>248</td>\n",
       "      <td>253</td>\n",
       "      <td>273</td>\n",
       "      <td>541</td>\n",
       "      <td>257</td>\n",
       "    </tr>\n",
       "    <tr>\n",
       "      <th>std</th>\n",
       "      <td>27</td>\n",
       "      <td>7</td>\n",
       "      <td>7</td>\n",
       "      <td>7</td>\n",
       "      <td>7</td>\n",
       "      <td>7</td>\n",
       "      <td>7</td>\n",
       "      <td>160</td>\n",
       "      <td>8</td>\n",
       "    </tr>\n",
       "    <tr>\n",
       "      <th>min</th>\n",
       "      <td>32816</td>\n",
       "      <td>228</td>\n",
       "      <td>229</td>\n",
       "      <td>242</td>\n",
       "      <td>231</td>\n",
       "      <td>236</td>\n",
       "      <td>258</td>\n",
       "      <td>277</td>\n",
       "      <td>240</td>\n",
       "    </tr>\n",
       "    <tr>\n",
       "      <th>25%</th>\n",
       "      <td>33488</td>\n",
       "      <td>240</td>\n",
       "      <td>241</td>\n",
       "      <td>256</td>\n",
       "      <td>244</td>\n",
       "      <td>248</td>\n",
       "      <td>268</td>\n",
       "      <td>327</td>\n",
       "      <td>250</td>\n",
       "    </tr>\n",
       "    <tr>\n",
       "      <th>50%</th>\n",
       "      <td>33488</td>\n",
       "      <td>244</td>\n",
       "      <td>245</td>\n",
       "      <td>261</td>\n",
       "      <td>248</td>\n",
       "      <td>253</td>\n",
       "      <td>272</td>\n",
       "      <td>632</td>\n",
       "      <td>257</td>\n",
       "    </tr>\n",
       "    <tr>\n",
       "      <th>75%</th>\n",
       "      <td>33488</td>\n",
       "      <td>250</td>\n",
       "      <td>250</td>\n",
       "      <td>268</td>\n",
       "      <td>254</td>\n",
       "      <td>258</td>\n",
       "      <td>280</td>\n",
       "      <td>677</td>\n",
       "      <td>265</td>\n",
       "    </tr>\n",
       "    <tr>\n",
       "      <th>max</th>\n",
       "      <td>33656</td>\n",
       "      <td>258</td>\n",
       "      <td>258</td>\n",
       "      <td>278</td>\n",
       "      <td>260</td>\n",
       "      <td>266</td>\n",
       "      <td>286</td>\n",
       "      <td>704</td>\n",
       "      <td>273</td>\n",
       "    </tr>\n",
       "  </tbody>\n",
       "</table>\n",
       "</div>"
      ],
      "text/plain": [
       "       FREE_HEAP  MUX0  MUX1  MUX2  MUX3  MUX4  MUX5  MUX6  MUX7\n",
       "count        724   724   724   724   724   724   724   724   724\n",
       "mean       33487   245   245   262   248   253   273   541   257\n",
       "std           27     7     7     7     7     7     7   160     8\n",
       "min        32816   228   229   242   231   236   258   277   240\n",
       "25%        33488   240   241   256   244   248   268   327   250\n",
       "50%        33488   244   245   261   248   253   272   632   257\n",
       "75%        33488   250   250   268   254   258   280   677   265\n",
       "max        33656   258   258   278   260   266   286   704   273"
      ]
     },
     "execution_count": 14,
     "metadata": {},
     "output_type": "execute_result"
    }
   ],
   "source": [
    "df[['FREE_HEAP','MUX0','MUX1','MUX2','MUX3','MUX4','MUX5','MUX6','MUX7']].describe()"
   ]
  },
  {
   "cell_type": "code",
   "execution_count": null,
   "metadata": {},
   "outputs": [],
   "source": [
    "df[['FREE_HEAP','MUX0','MUX1','MUX2','MUX3','MUX4','MUX5','MUX6','MUX7']].describe()"
   ]
  },
  {
   "cell_type": "code",
   "execution_count": 21,
   "metadata": {},
   "outputs": [
    {
     "data": {
      "text/html": [
       "<div>\n",
       "<style scoped>\n",
       "    .dataframe tbody tr th:only-of-type {\n",
       "        vertical-align: middle;\n",
       "    }\n",
       "\n",
       "    .dataframe tbody tr th {\n",
       "        vertical-align: top;\n",
       "    }\n",
       "\n",
       "    .dataframe thead th {\n",
       "        text-align: right;\n",
       "    }\n",
       "</style>\n",
       "<table border=\"1\" class=\"dataframe\">\n",
       "  <thead>\n",
       "    <tr style=\"text-align: right;\">\n",
       "      <th></th>\n",
       "      <th>TEMPERATURE</th>\n",
       "      <th>HUMIDITY</th>\n",
       "    </tr>\n",
       "  </thead>\n",
       "  <tbody>\n",
       "    <tr>\n",
       "      <th>count</th>\n",
       "      <td>1448</td>\n",
       "      <td>1448</td>\n",
       "    </tr>\n",
       "    <tr>\n",
       "      <th>mean</th>\n",
       "      <td>27</td>\n",
       "      <td>22</td>\n",
       "    </tr>\n",
       "    <tr>\n",
       "      <th>std</th>\n",
       "      <td>1</td>\n",
       "      <td>8</td>\n",
       "    </tr>\n",
       "    <tr>\n",
       "      <th>min</th>\n",
       "      <td>25</td>\n",
       "      <td>14</td>\n",
       "    </tr>\n",
       "    <tr>\n",
       "      <th>25%</th>\n",
       "      <td>26</td>\n",
       "      <td>17</td>\n",
       "    </tr>\n",
       "    <tr>\n",
       "      <th>50%</th>\n",
       "      <td>27</td>\n",
       "      <td>18</td>\n",
       "    </tr>\n",
       "    <tr>\n",
       "      <th>75%</th>\n",
       "      <td>27</td>\n",
       "      <td>29</td>\n",
       "    </tr>\n",
       "    <tr>\n",
       "      <th>max</th>\n",
       "      <td>35</td>\n",
       "      <td>43</td>\n",
       "    </tr>\n",
       "  </tbody>\n",
       "</table>\n",
       "</div>"
      ],
      "text/plain": [
       "       TEMPERATURE  HUMIDITY\n",
       "count         1448      1448\n",
       "mean            27        22\n",
       "std              1         8\n",
       "min             25        14\n",
       "25%             26        17\n",
       "50%             27        18\n",
       "75%             27        29\n",
       "max             35        43"
      ]
     },
     "execution_count": 21,
     "metadata": {},
     "output_type": "execute_result"
    }
   ],
   "source": [
    "dft[['TEMPERATURE','HUMIDITY']].describe()"
   ]
  },
  {
   "cell_type": "code",
   "execution_count": 23,
   "metadata": {},
   "outputs": [
    {
     "data": {
      "text/html": [
       "<div>\n",
       "<style scoped>\n",
       "    .dataframe tbody tr th:only-of-type {\n",
       "        vertical-align: middle;\n",
       "    }\n",
       "\n",
       "    .dataframe tbody tr th {\n",
       "        vertical-align: top;\n",
       "    }\n",
       "\n",
       "    .dataframe thead th {\n",
       "        text-align: right;\n",
       "    }\n",
       "</style>\n",
       "<table border=\"1\" class=\"dataframe\">\n",
       "  <thead>\n",
       "    <tr style=\"text-align: right;\">\n",
       "      <th></th>\n",
       "      <th>FREE_HEAP</th>\n",
       "      <th>MUX0</th>\n",
       "      <th>MUX1</th>\n",
       "      <th>MUX2</th>\n",
       "      <th>MUX3</th>\n",
       "      <th>MUX4</th>\n",
       "      <th>MUX5</th>\n",
       "      <th>MUX6</th>\n",
       "      <th>MUX7</th>\n",
       "    </tr>\n",
       "  </thead>\n",
       "  <tbody>\n",
       "    <tr>\n",
       "      <th>count</th>\n",
       "      <td>724</td>\n",
       "      <td>724</td>\n",
       "      <td>724</td>\n",
       "      <td>724</td>\n",
       "      <td>724</td>\n",
       "      <td>724</td>\n",
       "      <td>724</td>\n",
       "      <td>724</td>\n",
       "      <td>724</td>\n",
       "    </tr>\n",
       "    <tr>\n",
       "      <th>mean</th>\n",
       "      <td>33487</td>\n",
       "      <td>245</td>\n",
       "      <td>245</td>\n",
       "      <td>262</td>\n",
       "      <td>248</td>\n",
       "      <td>253</td>\n",
       "      <td>273</td>\n",
       "      <td>541</td>\n",
       "      <td>257</td>\n",
       "    </tr>\n",
       "    <tr>\n",
       "      <th>std</th>\n",
       "      <td>27</td>\n",
       "      <td>7</td>\n",
       "      <td>7</td>\n",
       "      <td>7</td>\n",
       "      <td>7</td>\n",
       "      <td>7</td>\n",
       "      <td>7</td>\n",
       "      <td>160</td>\n",
       "      <td>8</td>\n",
       "    </tr>\n",
       "    <tr>\n",
       "      <th>min</th>\n",
       "      <td>32816</td>\n",
       "      <td>228</td>\n",
       "      <td>229</td>\n",
       "      <td>242</td>\n",
       "      <td>231</td>\n",
       "      <td>236</td>\n",
       "      <td>258</td>\n",
       "      <td>277</td>\n",
       "      <td>240</td>\n",
       "    </tr>\n",
       "    <tr>\n",
       "      <th>25%</th>\n",
       "      <td>33488</td>\n",
       "      <td>240</td>\n",
       "      <td>241</td>\n",
       "      <td>256</td>\n",
       "      <td>244</td>\n",
       "      <td>248</td>\n",
       "      <td>268</td>\n",
       "      <td>327</td>\n",
       "      <td>250</td>\n",
       "    </tr>\n",
       "    <tr>\n",
       "      <th>50%</th>\n",
       "      <td>33488</td>\n",
       "      <td>244</td>\n",
       "      <td>245</td>\n",
       "      <td>261</td>\n",
       "      <td>248</td>\n",
       "      <td>253</td>\n",
       "      <td>272</td>\n",
       "      <td>632</td>\n",
       "      <td>257</td>\n",
       "    </tr>\n",
       "    <tr>\n",
       "      <th>75%</th>\n",
       "      <td>33488</td>\n",
       "      <td>250</td>\n",
       "      <td>250</td>\n",
       "      <td>268</td>\n",
       "      <td>254</td>\n",
       "      <td>258</td>\n",
       "      <td>280</td>\n",
       "      <td>677</td>\n",
       "      <td>265</td>\n",
       "    </tr>\n",
       "    <tr>\n",
       "      <th>max</th>\n",
       "      <td>33656</td>\n",
       "      <td>258</td>\n",
       "      <td>258</td>\n",
       "      <td>278</td>\n",
       "      <td>260</td>\n",
       "      <td>266</td>\n",
       "      <td>286</td>\n",
       "      <td>704</td>\n",
       "      <td>273</td>\n",
       "    </tr>\n",
       "  </tbody>\n",
       "</table>\n",
       "</div>"
      ],
      "text/plain": [
       "       FREE_HEAP  MUX0  MUX1  MUX2  MUX3  MUX4  MUX5  MUX6  MUX7\n",
       "count        724   724   724   724   724   724   724   724   724\n",
       "mean       33487   245   245   262   248   253   273   541   257\n",
       "std           27     7     7     7     7     7     7   160     8\n",
       "min        32816   228   229   242   231   236   258   277   240\n",
       "25%        33488   240   241   256   244   248   268   327   250\n",
       "50%        33488   244   245   261   248   253   272   632   257\n",
       "75%        33488   250   250   268   254   258   280   677   265\n",
       "max        33656   258   258   278   260   266   286   704   273"
      ]
     },
     "execution_count": 23,
     "metadata": {},
     "output_type": "execute_result"
    }
   ],
   "source": [
    "df[['FREE_HEAP','MUX0','MUX1','MUX2','MUX3','MUX4','MUX5','MUX6','MUX7']].describe()"
   ]
  },
  {
   "cell_type": "code",
   "execution_count": 22,
   "metadata": {},
   "outputs": [
    {
     "data": {
      "text/plain": [
       "<matplotlib.axes._subplots.AxesSubplot at 0x7f4b991109e8>"
      ]
     },
     "execution_count": 22,
     "metadata": {},
     "output_type": "execute_result"
    },
    {
     "data": {
      "image/png": "[encoded data removed]",
      "text/plain": [
       "<Figure size 432x288 with 1 Axes>"
      ]
     },
     "metadata": {
      "needs_background": "light"
     },
     "output_type": "display_data"
    }
   ],
   "source": [
    "df[['MUX0','MUX1','MUX2','MUX3','MUX4','MUX5','MUX6','MUX7']].rolling(60).mean().plot()"
   ]
  },
  {
   "cell_type": "code",
   "execution_count": 26,
   "metadata": {},
   "outputs": [
    {
     "data": {
      "text/plain": [
       "<matplotlib.axes._subplots.AxesSubplot at 0x7f4b94c49c18>"
      ]
     },
     "execution_count": 26,
     "metadata": {},
     "output_type": "execute_result"
    },
    {
     "data": {
      "image/png": "[encoded data removed]",
      "text/plain": [
       "<Figure size 432x288 with 1 Axes>"
      ]
     },
     "metadata": {
      "needs_background": "light"
     },
     "output_type": "display_data"
    }
   ],
   "source": [
    "dft[['TEMPERATURE','HUMIDITY']].rolling(60).mean().plot()"
   ]
  },
  {
   "cell_type": "code",
   "execution_count": null,
   "metadata": {},
   "outputs": [],
   "source": []
  }
 ],
 "metadata": {
  "kernelspec": {
   "display_name": "Python 3",
   "language": "python",
   "name": "python3"
  },
  "language_info": {
   "codemirror_mode": {
    "name": "ipython",
    "version": 3
   },
   "file_extension": ".py",
   "mimetype": "text/x-python",
   "name": "python",
   "nbconvert_exporter": "python",
   "pygments_lexer": "ipython3",
   "version": "3.6.9"
  }
 },
 "nbformat": 4,
 "nbformat_minor": 2
}
