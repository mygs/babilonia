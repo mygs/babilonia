{
 "cells": [
  {
   "cell_type": "code",
   "execution_count": 79,
   "metadata": {},
   "outputs": [],
   "source": [
    "%matplotlib inline\n",
    "import pandas as pd\n",
    "from matplotlib import pyplot as plt\n",
    "plt.rcParams['figure.figsize'] = [10, 5]"
   ]
  },
  {
   "cell_type": "markdown",
   "metadata": {},
   "source": [
    "# TEST0001"
   ]
  },
  {
   "cell_type": "code",
   "execution_count": 80,
   "metadata": {},
   "outputs": [],
   "source": [
    "df1 = pd.read_csv(\"test0001.csv\")"
   ]
  },
  {
   "cell_type": "code",
   "execution_count": 81,
   "metadata": {},
   "outputs": [
    {
     "name": "stdout",
     "output_type": "stream",
     "text": [
      "Duration: 30.0 hours\n"
     ]
    }
   ],
   "source": [
    "print(\"Duration:\", df1.shape[0]/(60*60), \"hours\")"
   ]
  },
  {
   "cell_type": "code",
   "execution_count": 82,
   "metadata": {},
   "outputs": [
    {
     "data": {
      "text/html": [
       "<div>\n",
       "<style scoped>\n",
       "    .dataframe tbody tr th:only-of-type {\n",
       "        vertical-align: middle;\n",
       "    }\n",
       "\n",
       "    .dataframe tbody tr th {\n",
       "        vertical-align: top;\n",
       "    }\n",
       "\n",
       "    .dataframe thead th {\n",
       "        text-align: right;\n",
       "    }\n",
       "</style>\n",
       "<table border=\"1\" class=\"dataframe\">\n",
       "  <thead>\n",
       "    <tr style=\"text-align: right;\">\n",
       "      <th></th>\n",
       "      <th>TIMESTAMP</th>\n",
       "      <th>MUX0</th>\n",
       "      <th>MUX1</th>\n",
       "      <th>MUX2</th>\n",
       "      <th>MUX3</th>\n",
       "      <th>MUX4</th>\n",
       "      <th>MUX5</th>\n",
       "      <th>MUX6</th>\n",
       "      <th>MUX7</th>\n",
       "    </tr>\n",
       "  </thead>\n",
       "  <tbody>\n",
       "    <tr>\n",
       "      <th>0</th>\n",
       "      <td>1572788808</td>\n",
       "      <td>619</td>\n",
       "      <td>714</td>\n",
       "      <td>465</td>\n",
       "      <td>404</td>\n",
       "      <td>13</td>\n",
       "      <td>13</td>\n",
       "      <td>14</td>\n",
       "      <td>15</td>\n",
       "    </tr>\n",
       "    <tr>\n",
       "      <th>1</th>\n",
       "      <td>1572788809</td>\n",
       "      <td>619</td>\n",
       "      <td>721</td>\n",
       "      <td>465</td>\n",
       "      <td>404</td>\n",
       "      <td>14</td>\n",
       "      <td>14</td>\n",
       "      <td>14</td>\n",
       "      <td>15</td>\n",
       "    </tr>\n",
       "    <tr>\n",
       "      <th>2</th>\n",
       "      <td>1572788810</td>\n",
       "      <td>617</td>\n",
       "      <td>713</td>\n",
       "      <td>465</td>\n",
       "      <td>406</td>\n",
       "      <td>15</td>\n",
       "      <td>14</td>\n",
       "      <td>13</td>\n",
       "      <td>14</td>\n",
       "    </tr>\n",
       "    <tr>\n",
       "      <th>3</th>\n",
       "      <td>1572788811</td>\n",
       "      <td>618</td>\n",
       "      <td>720</td>\n",
       "      <td>465</td>\n",
       "      <td>404</td>\n",
       "      <td>13</td>\n",
       "      <td>14</td>\n",
       "      <td>14</td>\n",
       "      <td>14</td>\n",
       "    </tr>\n",
       "    <tr>\n",
       "      <th>4</th>\n",
       "      <td>1572788813</td>\n",
       "      <td>618</td>\n",
       "      <td>713</td>\n",
       "      <td>463</td>\n",
       "      <td>403</td>\n",
       "      <td>14</td>\n",
       "      <td>14</td>\n",
       "      <td>13</td>\n",
       "      <td>13</td>\n",
       "    </tr>\n",
       "  </tbody>\n",
       "</table>\n",
       "</div>"
      ],
      "text/plain": [
       "    TIMESTAMP  MUX0  MUX1  MUX2  MUX3  MUX4  MUX5  MUX6  MUX7\n",
       "0  1572788808   619   714   465   404    13    13    14    15\n",
       "1  1572788809   619   721   465   404    14    14    14    15\n",
       "2  1572788810   617   713   465   406    15    14    13    14\n",
       "3  1572788811   618   720   465   404    13    14    14    14\n",
       "4  1572788813   618   713   463   403    14    14    13    13"
      ]
     },
     "execution_count": 82,
     "metadata": {},
     "output_type": "execute_result"
    }
   ],
   "source": [
    "df1.head()"
   ]
  },
  {
   "cell_type": "code",
   "execution_count": null,
   "metadata": {},
   "outputs": [],
   "source": [
    "# MUX0 -> TUBE   I: 130g (glass+soil)\n",
    "# MUX1 -> TUBE  II: 130g (glass+soil); 150g (glass+soil+water) ~ 20g (water)\n",
    "# MUX2 -> TUBE III: 130g (glass+soil); 170g (glass+soil+water) ~ 40g (water)\n",
    "# MUX3 -> TUBE  IV: XXXg (glass+water)\n",
    "\n",
    "df1[['MUX0','MUX1','MUX2','MUX3']].rolling(90).mean().plot()"
   ]
  },
  {
   "cell_type": "code",
   "execution_count": 73,
   "metadata": {},
   "outputs": [
    {
     "data": {
      "text/html": [
       "<div>\n",
       "<style scoped>\n",
       "    .dataframe tbody tr th:only-of-type {\n",
       "        vertical-align: middle;\n",
       "    }\n",
       "\n",
       "    .dataframe tbody tr th {\n",
       "        vertical-align: top;\n",
       "    }\n",
       "\n",
       "    .dataframe thead th {\n",
       "        text-align: right;\n",
       "    }\n",
       "</style>\n",
       "<table border=\"1\" class=\"dataframe\">\n",
       "  <thead>\n",
       "    <tr style=\"text-align: right;\">\n",
       "      <th></th>\n",
       "      <th>MUX0</th>\n",
       "      <th>MUX3</th>\n",
       "    </tr>\n",
       "  </thead>\n",
       "  <tbody>\n",
       "    <tr>\n",
       "      <th>count</th>\n",
       "      <td>108000.000000</td>\n",
       "      <td>108000.000000</td>\n",
       "    </tr>\n",
       "    <tr>\n",
       "      <th>mean</th>\n",
       "      <td>631.447815</td>\n",
       "      <td>374.284463</td>\n",
       "    </tr>\n",
       "    <tr>\n",
       "      <th>std</th>\n",
       "      <td>8.472036</td>\n",
       "      <td>3.307222</td>\n",
       "    </tr>\n",
       "    <tr>\n",
       "      <th>min</th>\n",
       "      <td>612.000000</td>\n",
       "      <td>367.000000</td>\n",
       "    </tr>\n",
       "    <tr>\n",
       "      <th>25%</th>\n",
       "      <td>625.000000</td>\n",
       "      <td>372.000000</td>\n",
       "    </tr>\n",
       "    <tr>\n",
       "      <th>50%</th>\n",
       "      <td>631.000000</td>\n",
       "      <td>374.000000</td>\n",
       "    </tr>\n",
       "    <tr>\n",
       "      <th>75%</th>\n",
       "      <td>639.000000</td>\n",
       "      <td>375.000000</td>\n",
       "    </tr>\n",
       "    <tr>\n",
       "      <th>max</th>\n",
       "      <td>650.000000</td>\n",
       "      <td>406.000000</td>\n",
       "    </tr>\n",
       "  </tbody>\n",
       "</table>\n",
       "</div>"
      ],
      "text/plain": [
       "                MUX0           MUX3\n",
       "count  108000.000000  108000.000000\n",
       "mean      631.447815     374.284463\n",
       "std         8.472036       3.307222\n",
       "min       612.000000     367.000000\n",
       "25%       625.000000     372.000000\n",
       "50%       631.000000     374.000000\n",
       "75%       639.000000     375.000000\n",
       "max       650.000000     406.000000"
      ]
     },
     "execution_count": 73,
     "metadata": {},
     "output_type": "execute_result"
    }
   ],
   "source": [
    "df1[['MUX0','MUX3']].describe()"
   ]
  },
  {
   "cell_type": "code",
   "execution_count": 76,
   "metadata": {},
   "outputs": [
    {
     "data": {
      "text/plain": [
       "<matplotlib.axes._subplots.AxesSubplot at 0x1453ff8d0>"
      ]
     },
     "execution_count": 76,
     "metadata": {},
     "output_type": "execute_result"
    },
    {
     "data": {
      "image/png": "[encoded data removed]",
      "text/plain": [
       "<Figure size 432x288 with 1 Axes>"
      ]
     },
     "metadata": {
      "needs_background": "light"
     },
     "output_type": "display_data"
    }
   ],
   "source": [
    "# MUX4 -> none\n",
    "# MUX5 -> none\n",
    "# MUX6 -> none\n",
    "# MUX7 -> none\n",
    "\n",
    "df1[['MUX4','MUX5','MUX6','MUX7']].rolling(90).mean().plot()"
   ]
  },
  {
   "cell_type": "code",
   "execution_count": 52,
   "metadata": {},
   "outputs": [
    {
     "data": {
      "text/html": [
       "<div>\n",
       "<style scoped>\n",
       "    .dataframe tbody tr th:only-of-type {\n",
       "        vertical-align: middle;\n",
       "    }\n",
       "\n",
       "    .dataframe tbody tr th {\n",
       "        vertical-align: top;\n",
       "    }\n",
       "\n",
       "    .dataframe thead th {\n",
       "        text-align: right;\n",
       "    }\n",
       "</style>\n",
       "<table border=\"1\" class=\"dataframe\">\n",
       "  <thead>\n",
       "    <tr style=\"text-align: right;\">\n",
       "      <th></th>\n",
       "      <th>MUX4</th>\n",
       "      <th>MUX5</th>\n",
       "      <th>MUX6</th>\n",
       "      <th>MUX7</th>\n",
       "    </tr>\n",
       "  </thead>\n",
       "  <tbody>\n",
       "    <tr>\n",
       "      <th>count</th>\n",
       "      <td>108000.000000</td>\n",
       "      <td>108000.000000</td>\n",
       "      <td>108000.000000</td>\n",
       "      <td>108000.000000</td>\n",
       "    </tr>\n",
       "    <tr>\n",
       "      <th>mean</th>\n",
       "      <td>13.150130</td>\n",
       "      <td>13.496269</td>\n",
       "      <td>13.711796</td>\n",
       "      <td>13.826250</td>\n",
       "    </tr>\n",
       "    <tr>\n",
       "      <th>std</th>\n",
       "      <td>0.849916</td>\n",
       "      <td>1.787010</td>\n",
       "      <td>2.296291</td>\n",
       "      <td>2.377721</td>\n",
       "    </tr>\n",
       "    <tr>\n",
       "      <th>min</th>\n",
       "      <td>5.000000</td>\n",
       "      <td>8.000000</td>\n",
       "      <td>7.000000</td>\n",
       "      <td>8.000000</td>\n",
       "    </tr>\n",
       "    <tr>\n",
       "      <th>25%</th>\n",
       "      <td>13.000000</td>\n",
       "      <td>13.000000</td>\n",
       "      <td>13.000000</td>\n",
       "      <td>13.000000</td>\n",
       "    </tr>\n",
       "    <tr>\n",
       "      <th>50%</th>\n",
       "      <td>13.000000</td>\n",
       "      <td>13.000000</td>\n",
       "      <td>13.000000</td>\n",
       "      <td>13.000000</td>\n",
       "    </tr>\n",
       "    <tr>\n",
       "      <th>75%</th>\n",
       "      <td>14.000000</td>\n",
       "      <td>14.000000</td>\n",
       "      <td>14.000000</td>\n",
       "      <td>14.000000</td>\n",
       "    </tr>\n",
       "    <tr>\n",
       "      <th>max</th>\n",
       "      <td>25.000000</td>\n",
       "      <td>24.000000</td>\n",
       "      <td>25.000000</td>\n",
       "      <td>25.000000</td>\n",
       "    </tr>\n",
       "  </tbody>\n",
       "</table>\n",
       "</div>"
      ],
      "text/plain": [
       "                MUX4           MUX5           MUX6           MUX7\n",
       "count  108000.000000  108000.000000  108000.000000  108000.000000\n",
       "mean       13.150130      13.496269      13.711796      13.826250\n",
       "std         0.849916       1.787010       2.296291       2.377721\n",
       "min         5.000000       8.000000       7.000000       8.000000\n",
       "25%        13.000000      13.000000      13.000000      13.000000\n",
       "50%        13.000000      13.000000      13.000000      13.000000\n",
       "75%        14.000000      14.000000      14.000000      14.000000\n",
       "max        25.000000      24.000000      25.000000      25.000000"
      ]
     },
     "execution_count": 52,
     "metadata": {},
     "output_type": "execute_result"
    }
   ],
   "source": [
    "df1[['MUX4','MUX5','MUX6','MUX7']].describe()"
   ]
  },
  {
   "cell_type": "markdown",
   "metadata": {},
   "source": [
    "# TEST0002"
   ]
  },
  {
   "cell_type": "code",
   "execution_count": 54,
   "metadata": {},
   "outputs": [],
   "source": [
    "df2 = pd.read_csv(\"test0002.csv\")"
   ]
  },
  {
   "cell_type": "code",
   "execution_count": 61,
   "metadata": {},
   "outputs": [
    {
     "name": "stdout",
     "output_type": "stream",
     "text": [
      "Duration: 50.0 hours\n"
     ]
    }
   ],
   "source": [
    "print(\"Duration:\", df2.shape[0]/(60*60), \"hours\")"
   ]
  },
  {
   "cell_type": "code",
   "execution_count": 62,
   "metadata": {},
   "outputs": [
    {
     "data": {
      "text/html": [
       "<div>\n",
       "<style scoped>\n",
       "    .dataframe tbody tr th:only-of-type {\n",
       "        vertical-align: middle;\n",
       "    }\n",
       "\n",
       "    .dataframe tbody tr th {\n",
       "        vertical-align: top;\n",
       "    }\n",
       "\n",
       "    .dataframe thead th {\n",
       "        text-align: right;\n",
       "    }\n",
       "</style>\n",
       "<table border=\"1\" class=\"dataframe\">\n",
       "  <thead>\n",
       "    <tr style=\"text-align: right;\">\n",
       "      <th></th>\n",
       "      <th>TIMESTAMP</th>\n",
       "      <th>MUX0</th>\n",
       "      <th>MUX1</th>\n",
       "      <th>MUX2</th>\n",
       "      <th>MUX3</th>\n",
       "      <th>MUX4</th>\n",
       "      <th>MUX5</th>\n",
       "      <th>MUX6</th>\n",
       "      <th>MUX7</th>\n",
       "    </tr>\n",
       "  </thead>\n",
       "  <tbody>\n",
       "    <tr>\n",
       "      <th>0</th>\n",
       "      <td>1573165047</td>\n",
       "      <td>336</td>\n",
       "      <td>343</td>\n",
       "      <td>339</td>\n",
       "      <td>709</td>\n",
       "      <td>13</td>\n",
       "      <td>13</td>\n",
       "      <td>10</td>\n",
       "      <td>13</td>\n",
       "    </tr>\n",
       "    <tr>\n",
       "      <th>1</th>\n",
       "      <td>1573165048</td>\n",
       "      <td>336</td>\n",
       "      <td>334</td>\n",
       "      <td>339</td>\n",
       "      <td>705</td>\n",
       "      <td>12</td>\n",
       "      <td>13</td>\n",
       "      <td>19</td>\n",
       "      <td>13</td>\n",
       "    </tr>\n",
       "    <tr>\n",
       "      <th>2</th>\n",
       "      <td>1573165049</td>\n",
       "      <td>332</td>\n",
       "      <td>339</td>\n",
       "      <td>339</td>\n",
       "      <td>705</td>\n",
       "      <td>12</td>\n",
       "      <td>12</td>\n",
       "      <td>21</td>\n",
       "      <td>24</td>\n",
       "    </tr>\n",
       "    <tr>\n",
       "      <th>3</th>\n",
       "      <td>1573165050</td>\n",
       "      <td>332</td>\n",
       "      <td>336</td>\n",
       "      <td>339</td>\n",
       "      <td>703</td>\n",
       "      <td>13</td>\n",
       "      <td>12</td>\n",
       "      <td>20</td>\n",
       "      <td>22</td>\n",
       "    </tr>\n",
       "    <tr>\n",
       "      <th>4</th>\n",
       "      <td>1573165051</td>\n",
       "      <td>339</td>\n",
       "      <td>342</td>\n",
       "      <td>339</td>\n",
       "      <td>706</td>\n",
       "      <td>16</td>\n",
       "      <td>14</td>\n",
       "      <td>14</td>\n",
       "      <td>13</td>\n",
       "    </tr>\n",
       "  </tbody>\n",
       "</table>\n",
       "</div>"
      ],
      "text/plain": [
       "    TIMESTAMP  MUX0  MUX1  MUX2  MUX3  MUX4  MUX5  MUX6  MUX7\n",
       "0  1573165047   336   343   339   709    13    13    10    13\n",
       "1  1573165048   336   334   339   705    12    13    19    13\n",
       "2  1573165049   332   339   339   705    12    12    21    24\n",
       "3  1573165050   332   336   339   703    13    12    20    22\n",
       "4  1573165051   339   342   339   706    16    14    14    13"
      ]
     },
     "execution_count": 62,
     "metadata": {},
     "output_type": "execute_result"
    }
   ],
   "source": [
    "df2.head()"
   ]
  },
  {
   "cell_type": "code",
   "execution_count": 77,
   "metadata": {},
   "outputs": [
    {
     "data": {
      "text/plain": [
       "<matplotlib.axes._subplots.AxesSubplot at 0x1468365c0>"
      ]
     },
     "execution_count": 77,
     "metadata": {},
     "output_type": "execute_result"
    },
    {
     "data": {
      "image/png": "[encoded data removed]",
      "text/plain": [
       "<Figure size 432x288 with 1 Axes>"
      ]
     },
     "metadata": {
      "needs_background": "light"
     },
     "output_type": "display_data"
    }
   ],
   "source": [
    "# MUX0 -> TUBE  IV: XXXg (glass+water) \n",
    "# MUX1 -> TUBE  II: 130g (glass+soil); 160g (glass+soil+water) ~ 30g (water)\n",
    "# MUX2 -> TUBE III: 130g (glass+soil); 181g (glass+soil+water) ~ 51g (water)\n",
    "# MUX3 -> TUBE   I: 130g (glass+soil)\n",
    "df2[['MUX0','MUX1','MUX2','MUX3']].rolling(90).mean().plot()"
   ]
  },
  {
   "cell_type": "code",
   "execution_count": 74,
   "metadata": {},
   "outputs": [
    {
     "data": {
      "text/html": [
       "<div>\n",
       "<style scoped>\n",
       "    .dataframe tbody tr th:only-of-type {\n",
       "        vertical-align: middle;\n",
       "    }\n",
       "\n",
       "    .dataframe tbody tr th {\n",
       "        vertical-align: top;\n",
       "    }\n",
       "\n",
       "    .dataframe thead th {\n",
       "        text-align: right;\n",
       "    }\n",
       "</style>\n",
       "<table border=\"1\" class=\"dataframe\">\n",
       "  <thead>\n",
       "    <tr style=\"text-align: right;\">\n",
       "      <th></th>\n",
       "      <th>MUX0</th>\n",
       "      <th>MUX1</th>\n",
       "      <th>MUX2</th>\n",
       "      <th>MUX3</th>\n",
       "    </tr>\n",
       "  </thead>\n",
       "  <tbody>\n",
       "    <tr>\n",
       "      <th>count</th>\n",
       "      <td>180000.000000</td>\n",
       "      <td>180000.000000</td>\n",
       "      <td>180000.000000</td>\n",
       "      <td>180000.000000</td>\n",
       "    </tr>\n",
       "    <tr>\n",
       "      <th>mean</th>\n",
       "      <td>338.896744</td>\n",
       "      <td>338.638467</td>\n",
       "      <td>279.534183</td>\n",
       "      <td>699.090850</td>\n",
       "    </tr>\n",
       "    <tr>\n",
       "      <th>std</th>\n",
       "      <td>4.016586</td>\n",
       "      <td>4.728442</td>\n",
       "      <td>34.639593</td>\n",
       "      <td>3.100637</td>\n",
       "    </tr>\n",
       "    <tr>\n",
       "      <th>min</th>\n",
       "      <td>329.000000</td>\n",
       "      <td>324.000000</td>\n",
       "      <td>248.000000</td>\n",
       "      <td>690.000000</td>\n",
       "    </tr>\n",
       "    <tr>\n",
       "      <th>25%</th>\n",
       "      <td>337.000000</td>\n",
       "      <td>337.000000</td>\n",
       "      <td>256.000000</td>\n",
       "      <td>697.000000</td>\n",
       "    </tr>\n",
       "    <tr>\n",
       "      <th>50%</th>\n",
       "      <td>339.000000</td>\n",
       "      <td>340.000000</td>\n",
       "      <td>262.000000</td>\n",
       "      <td>699.000000</td>\n",
       "    </tr>\n",
       "    <tr>\n",
       "      <th>75%</th>\n",
       "      <td>342.000000</td>\n",
       "      <td>342.000000</td>\n",
       "      <td>336.000000</td>\n",
       "      <td>701.000000</td>\n",
       "    </tr>\n",
       "    <tr>\n",
       "      <th>max</th>\n",
       "      <td>351.000000</td>\n",
       "      <td>352.000000</td>\n",
       "      <td>343.000000</td>\n",
       "      <td>713.000000</td>\n",
       "    </tr>\n",
       "  </tbody>\n",
       "</table>\n",
       "</div>"
      ],
      "text/plain": [
       "                MUX0           MUX1           MUX2           MUX3\n",
       "count  180000.000000  180000.000000  180000.000000  180000.000000\n",
       "mean      338.896744     338.638467     279.534183     699.090850\n",
       "std         4.016586       4.728442      34.639593       3.100637\n",
       "min       329.000000     324.000000     248.000000     690.000000\n",
       "25%       337.000000     337.000000     256.000000     697.000000\n",
       "50%       339.000000     340.000000     262.000000     699.000000\n",
       "75%       342.000000     342.000000     336.000000     701.000000\n",
       "max       351.000000     352.000000     343.000000     713.000000"
      ]
     },
     "execution_count": 74,
     "metadata": {},
     "output_type": "execute_result"
    }
   ],
   "source": [
    "df2[['MUX0','MUX1','MUX2','MUX3']].describe()"
   ]
  },
  {
   "cell_type": "code",
   "execution_count": 71,
   "metadata": {},
   "outputs": [
    {
     "data": {
      "text/plain": [
       "<matplotlib.axes._subplots.AxesSubplot at 0x13a13c5f8>"
      ]
     },
     "execution_count": 71,
     "metadata": {},
     "output_type": "execute_result"
    },
    {
     "data": {
      "image/png": "[encoded data removed]",
      "text/plain": [
       "<Figure size 432x288 with 1 Axes>"
      ]
     },
     "metadata": {
      "needs_background": "light"
     },
     "output_type": "display_data"
    }
   ],
   "source": [
    "# MUX4 -> none\n",
    "# MUX5 -> none\n",
    "# MUX6 -> none\n",
    "# MUX7 -> none\n",
    "\n",
    "df2[['MUX4','MUX5','MUX6','MUX7']].rolling(1800).mean().plot()"
   ]
  },
  {
   "cell_type": "code",
   "execution_count": 72,
   "metadata": {},
   "outputs": [
    {
     "data": {
      "text/html": [
       "<div>\n",
       "<style scoped>\n",
       "    .dataframe tbody tr th:only-of-type {\n",
       "        vertical-align: middle;\n",
       "    }\n",
       "\n",
       "    .dataframe tbody tr th {\n",
       "        vertical-align: top;\n",
       "    }\n",
       "\n",
       "    .dataframe thead th {\n",
       "        text-align: right;\n",
       "    }\n",
       "</style>\n",
       "<table border=\"1\" class=\"dataframe\">\n",
       "  <thead>\n",
       "    <tr style=\"text-align: right;\">\n",
       "      <th></th>\n",
       "      <th>MUX4</th>\n",
       "      <th>MUX5</th>\n",
       "      <th>MUX6</th>\n",
       "      <th>MUX7</th>\n",
       "    </tr>\n",
       "  </thead>\n",
       "  <tbody>\n",
       "    <tr>\n",
       "      <th>count</th>\n",
       "      <td>180000.000000</td>\n",
       "      <td>180000.000000</td>\n",
       "      <td>180000.000000</td>\n",
       "      <td>180000.000000</td>\n",
       "    </tr>\n",
       "    <tr>\n",
       "      <th>mean</th>\n",
       "      <td>13.674172</td>\n",
       "      <td>13.861417</td>\n",
       "      <td>14.259511</td>\n",
       "      <td>14.413328</td>\n",
       "    </tr>\n",
       "    <tr>\n",
       "      <th>std</th>\n",
       "      <td>1.537556</td>\n",
       "      <td>2.296823</td>\n",
       "      <td>2.922098</td>\n",
       "      <td>3.022823</td>\n",
       "    </tr>\n",
       "    <tr>\n",
       "      <th>min</th>\n",
       "      <td>7.000000</td>\n",
       "      <td>9.000000</td>\n",
       "      <td>8.000000</td>\n",
       "      <td>9.000000</td>\n",
       "    </tr>\n",
       "    <tr>\n",
       "      <th>25%</th>\n",
       "      <td>12.000000</td>\n",
       "      <td>12.000000</td>\n",
       "      <td>13.000000</td>\n",
       "      <td>13.000000</td>\n",
       "    </tr>\n",
       "    <tr>\n",
       "      <th>50%</th>\n",
       "      <td>14.000000</td>\n",
       "      <td>14.000000</td>\n",
       "      <td>14.000000</td>\n",
       "      <td>14.000000</td>\n",
       "    </tr>\n",
       "    <tr>\n",
       "      <th>75%</th>\n",
       "      <td>15.000000</td>\n",
       "      <td>14.000000</td>\n",
       "      <td>15.000000</td>\n",
       "      <td>15.000000</td>\n",
       "    </tr>\n",
       "    <tr>\n",
       "      <th>max</th>\n",
       "      <td>27.000000</td>\n",
       "      <td>26.000000</td>\n",
       "      <td>27.000000</td>\n",
       "      <td>27.000000</td>\n",
       "    </tr>\n",
       "  </tbody>\n",
       "</table>\n",
       "</div>"
      ],
      "text/plain": [
       "                MUX4           MUX5           MUX6           MUX7\n",
       "count  180000.000000  180000.000000  180000.000000  180000.000000\n",
       "mean       13.674172      13.861417      14.259511      14.413328\n",
       "std         1.537556       2.296823       2.922098       3.022823\n",
       "min         7.000000       9.000000       8.000000       9.000000\n",
       "25%        12.000000      12.000000      13.000000      13.000000\n",
       "50%        14.000000      14.000000      14.000000      14.000000\n",
       "75%        15.000000      14.000000      15.000000      15.000000\n",
       "max        27.000000      26.000000      27.000000      27.000000"
      ]
     },
     "execution_count": 72,
     "metadata": {},
     "output_type": "execute_result"
    }
   ],
   "source": [
    "df2[['MUX4','MUX5','MUX6','MUX7']].describe()"
   ]
  },
  {
   "cell_type": "code",
   "execution_count": null,
   "metadata": {},
   "outputs": [],
   "source": []
  }
 ],
 "metadata": {
  "kernelspec": {
   "display_name": "Python 3",
   "language": "python",
   "name": "python3"
  },
  "language_info": {
   "codemirror_mode": {
    "name": "ipython",
    "version": 3
   },
   "file_extension": ".py",
   "mimetype": "text/x-python",
   "name": "python",
   "nbconvert_exporter": "python",
   "pygments_lexer": "ipython3",
   "version": "3.7.3"
  }
 },
 "nbformat": 4,
 "nbformat_minor": 2
}
