{
 "cells": [
  {
   "cell_type": "code",
   "execution_count": 1,
   "metadata": {},
   "outputs": [],
   "source": [
    "%matplotlib inline\n",
    "import pandas as pd\n",
    "from matplotlib import pyplot as plt\n",
    "#plt.rcParams['figure.figsize'] = [15, 7]\n",
    "pd.options.display.float_format = \"{:.0f}\".format"
   ]
  },
  {
   "cell_type": "markdown",
   "metadata": {},
   "source": [
    "# TEST0001"
   ]
  },
  {
   "cell_type": "code",
   "execution_count": 4,
   "metadata": {},
   "outputs": [],
   "source": [
    "df1 = pd.read_csv(\"test0001.csv\")"
   ]
  },
  {
   "cell_type": "code",
   "execution_count": 5,
   "metadata": {},
   "outputs": [
    {
     "name": "stdout",
     "output_type": "stream",
     "text": [
      "Duration: 30.0 hours\n"
     ]
    }
   ],
   "source": [
    "print(\"Duration:\", df1.shape[0]/(60*60), \"hours\")"
   ]
  },
  {
   "cell_type": "code",
   "execution_count": 6,
   "metadata": {},
   "outputs": [
    {
     "data": {
      "text/html": [
       "<div>\n",
       "<style scoped>\n",
       "    .dataframe tbody tr th:only-of-type {\n",
       "        vertical-align: middle;\n",
       "    }\n",
       "\n",
       "    .dataframe tbody tr th {\n",
       "        vertical-align: top;\n",
       "    }\n",
       "\n",
       "    .dataframe thead th {\n",
       "        text-align: right;\n",
       "    }\n",
       "</style>\n",
       "<table border=\"1\" class=\"dataframe\">\n",
       "  <thead>\n",
       "    <tr style=\"text-align: right;\">\n",
       "      <th></th>\n",
       "      <th>TIMESTAMP</th>\n",
       "      <th>MUX0</th>\n",
       "      <th>MUX1</th>\n",
       "      <th>MUX2</th>\n",
       "      <th>MUX3</th>\n",
       "      <th>MUX4</th>\n",
       "      <th>MUX5</th>\n",
       "      <th>MUX6</th>\n",
       "      <th>MUX7</th>\n",
       "    </tr>\n",
       "  </thead>\n",
       "  <tbody>\n",
       "    <tr>\n",
       "      <th>0</th>\n",
       "      <td>1572788808</td>\n",
       "      <td>619</td>\n",
       "      <td>714</td>\n",
       "      <td>465</td>\n",
       "      <td>404</td>\n",
       "      <td>13</td>\n",
       "      <td>13</td>\n",
       "      <td>14</td>\n",
       "      <td>15</td>\n",
       "    </tr>\n",
       "    <tr>\n",
       "      <th>1</th>\n",
       "      <td>1572788809</td>\n",
       "      <td>619</td>\n",
       "      <td>721</td>\n",
       "      <td>465</td>\n",
       "      <td>404</td>\n",
       "      <td>14</td>\n",
       "      <td>14</td>\n",
       "      <td>14</td>\n",
       "      <td>15</td>\n",
       "    </tr>\n",
       "    <tr>\n",
       "      <th>2</th>\n",
       "      <td>1572788810</td>\n",
       "      <td>617</td>\n",
       "      <td>713</td>\n",
       "      <td>465</td>\n",
       "      <td>406</td>\n",
       "      <td>15</td>\n",
       "      <td>14</td>\n",
       "      <td>13</td>\n",
       "      <td>14</td>\n",
       "    </tr>\n",
       "    <tr>\n",
       "      <th>3</th>\n",
       "      <td>1572788811</td>\n",
       "      <td>618</td>\n",
       "      <td>720</td>\n",
       "      <td>465</td>\n",
       "      <td>404</td>\n",
       "      <td>13</td>\n",
       "      <td>14</td>\n",
       "      <td>14</td>\n",
       "      <td>14</td>\n",
       "    </tr>\n",
       "    <tr>\n",
       "      <th>4</th>\n",
       "      <td>1572788813</td>\n",
       "      <td>618</td>\n",
       "      <td>713</td>\n",
       "      <td>463</td>\n",
       "      <td>403</td>\n",
       "      <td>14</td>\n",
       "      <td>14</td>\n",
       "      <td>13</td>\n",
       "      <td>13</td>\n",
       "    </tr>\n",
       "  </tbody>\n",
       "</table>\n",
       "</div>"
      ],
      "text/plain": [
       "    TIMESTAMP  MUX0  MUX1  MUX2  MUX3  MUX4  MUX5  MUX6  MUX7\n",
       "0  1572788808   619   714   465   404    13    13    14    15\n",
       "1  1572788809   619   721   465   404    14    14    14    15\n",
       "2  1572788810   617   713   465   406    15    14    13    14\n",
       "3  1572788811   618   720   465   404    13    14    14    14\n",
       "4  1572788813   618   713   463   403    14    14    13    13"
      ]
     },
     "execution_count": 6,
     "metadata": {},
     "output_type": "execute_result"
    }
   ],
   "source": [
    "df1.head()"
   ]
  },
  {
   "cell_type": "code",
   "execution_count": 7,
   "metadata": {},
   "outputs": [
    {
     "data": {
      "text/plain": [
       "<matplotlib.axes._subplots.AxesSubplot at 0x7fbb233a46d8>"
      ]
     },
     "execution_count": 7,
     "metadata": {},
     "output_type": "execute_result"
    },
    {
     "data": {
      "image/png": "[encoded data removed]",
      "text/plain": [
       "<Figure size 432x288 with 1 Axes>"
      ]
     },
     "metadata": {
      "needs_background": "light"
     },
     "output_type": "display_data"
    }
   ],
   "source": [
    "# MUX0 -> TUBE   I: 130g (glass+soil)\n",
    "# MUX1 -> TUBE  II: 130g (glass+soil); 150g (glass+soil+water) ~ 20g (water)\n",
    "# MUX2 -> TUBE III: 130g (glass+soil); 170g (glass+soil+water) ~ 40g (water)\n",
    "# MUX3 -> TUBE  IV: XXXg (glass+water)\n",
    "\n",
    "df1[['MUX0','MUX1','MUX2','MUX3']].rolling(90).mean().plot()"
   ]
  },
  {
   "cell_type": "code",
   "execution_count": 8,
   "metadata": {},
   "outputs": [
    {
     "data": {
      "text/html": [
       "<div>\n",
       "<style scoped>\n",
       "    .dataframe tbody tr th:only-of-type {\n",
       "        vertical-align: middle;\n",
       "    }\n",
       "\n",
       "    .dataframe tbody tr th {\n",
       "        vertical-align: top;\n",
       "    }\n",
       "\n",
       "    .dataframe thead th {\n",
       "        text-align: right;\n",
       "    }\n",
       "</style>\n",
       "<table border=\"1\" class=\"dataframe\">\n",
       "  <thead>\n",
       "    <tr style=\"text-align: right;\">\n",
       "      <th></th>\n",
       "      <th>MUX0</th>\n",
       "      <th>MUX1</th>\n",
       "      <th>MUX2</th>\n",
       "      <th>MUX3</th>\n",
       "    </tr>\n",
       "  </thead>\n",
       "  <tbody>\n",
       "    <tr>\n",
       "      <th>count</th>\n",
       "      <td>108000.000000</td>\n",
       "      <td>108000.000000</td>\n",
       "      <td>108000.000000</td>\n",
       "      <td>108000.000000</td>\n",
       "    </tr>\n",
       "    <tr>\n",
       "      <th>mean</th>\n",
       "      <td>631.447815</td>\n",
       "      <td>572.470389</td>\n",
       "      <td>382.095287</td>\n",
       "      <td>374.284463</td>\n",
       "    </tr>\n",
       "    <tr>\n",
       "      <th>std</th>\n",
       "      <td>8.472036</td>\n",
       "      <td>80.447872</td>\n",
       "      <td>29.325372</td>\n",
       "      <td>3.307222</td>\n",
       "    </tr>\n",
       "    <tr>\n",
       "      <th>min</th>\n",
       "      <td>612.000000</td>\n",
       "      <td>459.000000</td>\n",
       "      <td>352.000000</td>\n",
       "      <td>367.000000</td>\n",
       "    </tr>\n",
       "    <tr>\n",
       "      <th>25%</th>\n",
       "      <td>625.000000</td>\n",
       "      <td>500.000000</td>\n",
       "      <td>360.000000</td>\n",
       "      <td>372.000000</td>\n",
       "    </tr>\n",
       "    <tr>\n",
       "      <th>50%</th>\n",
       "      <td>631.000000</td>\n",
       "      <td>554.000000</td>\n",
       "      <td>368.000000</td>\n",
       "      <td>374.000000</td>\n",
       "    </tr>\n",
       "    <tr>\n",
       "      <th>75%</th>\n",
       "      <td>639.000000</td>\n",
       "      <td>663.000000</td>\n",
       "      <td>401.000000</td>\n",
       "      <td>375.000000</td>\n",
       "    </tr>\n",
       "    <tr>\n",
       "      <th>max</th>\n",
       "      <td>650.000000</td>\n",
       "      <td>735.000000</td>\n",
       "      <td>465.000000</td>\n",
       "      <td>406.000000</td>\n",
       "    </tr>\n",
       "  </tbody>\n",
       "</table>\n",
       "</div>"
      ],
      "text/plain": [
       "                MUX0           MUX1           MUX2           MUX3\n",
       "count  108000.000000  108000.000000  108000.000000  108000.000000\n",
       "mean      631.447815     572.470389     382.095287     374.284463\n",
       "std         8.472036      80.447872      29.325372       3.307222\n",
       "min       612.000000     459.000000     352.000000     367.000000\n",
       "25%       625.000000     500.000000     360.000000     372.000000\n",
       "50%       631.000000     554.000000     368.000000     374.000000\n",
       "75%       639.000000     663.000000     401.000000     375.000000\n",
       "max       650.000000     735.000000     465.000000     406.000000"
      ]
     },
     "execution_count": 8,
     "metadata": {},
     "output_type": "execute_result"
    }
   ],
   "source": [
    "df1[['MUX0','MUX1','MUX2','MUX3']].describe()"
   ]
  },
  {
   "cell_type": "code",
   "execution_count": 7,
   "metadata": {},
   "outputs": [
    {
     "data": {
      "text/plain": [
       "<matplotlib.axes._subplots.AxesSubplot at 0x7f8b86afec18>"
      ]
     },
     "execution_count": 7,
     "metadata": {},
     "output_type": "execute_result"
    },
    {
     "data": {
      "image/png": "[encoded data removed]",
      "text/plain": [
       "<Figure size 432x288 with 1 Axes>"
      ]
     },
     "metadata": {
      "needs_background": "light"
     },
     "output_type": "display_data"
    }
   ],
   "source": [
    "# MUX4 -> none\n",
    "# MUX5 -> none\n",
    "# MUX6 -> none\n",
    "# MUX7 -> none\n",
    "\n",
    "df1[['MUX4','MUX5','MUX6','MUX7']].rolling(1800).mean().plot()"
   ]
  },
  {
   "cell_type": "code",
   "execution_count": 8,
   "metadata": {},
   "outputs": [
    {
     "data": {
      "text/html": [
       "<div>\n",
       "<style scoped>\n",
       "    .dataframe tbody tr th:only-of-type {\n",
       "        vertical-align: middle;\n",
       "    }\n",
       "\n",
       "    .dataframe tbody tr th {\n",
       "        vertical-align: top;\n",
       "    }\n",
       "\n",
       "    .dataframe thead th {\n",
       "        text-align: right;\n",
       "    }\n",
       "</style>\n",
       "<table border=\"1\" class=\"dataframe\">\n",
       "  <thead>\n",
       "    <tr style=\"text-align: right;\">\n",
       "      <th></th>\n",
       "      <th>MUX4</th>\n",
       "      <th>MUX5</th>\n",
       "      <th>MUX6</th>\n",
       "      <th>MUX7</th>\n",
       "    </tr>\n",
       "  </thead>\n",
       "  <tbody>\n",
       "    <tr>\n",
       "      <th>count</th>\n",
       "      <td>108000.000000</td>\n",
       "      <td>108000.000000</td>\n",
       "      <td>108000.000000</td>\n",
       "      <td>108000.000000</td>\n",
       "    </tr>\n",
       "    <tr>\n",
       "      <th>mean</th>\n",
       "      <td>13.150130</td>\n",
       "      <td>13.496269</td>\n",
       "      <td>13.711796</td>\n",
       "      <td>13.826250</td>\n",
       "    </tr>\n",
       "    <tr>\n",
       "      <th>std</th>\n",
       "      <td>0.849916</td>\n",
       "      <td>1.787010</td>\n",
       "      <td>2.296291</td>\n",
       "      <td>2.377721</td>\n",
       "    </tr>\n",
       "    <tr>\n",
       "      <th>min</th>\n",
       "      <td>5.000000</td>\n",
       "      <td>8.000000</td>\n",
       "      <td>7.000000</td>\n",
       "      <td>8.000000</td>\n",
       "    </tr>\n",
       "    <tr>\n",
       "      <th>25%</th>\n",
       "      <td>13.000000</td>\n",
       "      <td>13.000000</td>\n",
       "      <td>13.000000</td>\n",
       "      <td>13.000000</td>\n",
       "    </tr>\n",
       "    <tr>\n",
       "      <th>50%</th>\n",
       "      <td>13.000000</td>\n",
       "      <td>13.000000</td>\n",
       "      <td>13.000000</td>\n",
       "      <td>13.000000</td>\n",
       "    </tr>\n",
       "    <tr>\n",
       "      <th>75%</th>\n",
       "      <td>14.000000</td>\n",
       "      <td>14.000000</td>\n",
       "      <td>14.000000</td>\n",
       "      <td>14.000000</td>\n",
       "    </tr>\n",
       "    <tr>\n",
       "      <th>max</th>\n",
       "      <td>25.000000</td>\n",
       "      <td>24.000000</td>\n",
       "      <td>25.000000</td>\n",
       "      <td>25.000000</td>\n",
       "    </tr>\n",
       "  </tbody>\n",
       "</table>\n",
       "</div>"
      ],
      "text/plain": [
       "                MUX4           MUX5           MUX6           MUX7\n",
       "count  108000.000000  108000.000000  108000.000000  108000.000000\n",
       "mean       13.150130      13.496269      13.711796      13.826250\n",
       "std         0.849916       1.787010       2.296291       2.377721\n",
       "min         5.000000       8.000000       7.000000       8.000000\n",
       "25%        13.000000      13.000000      13.000000      13.000000\n",
       "50%        13.000000      13.000000      13.000000      13.000000\n",
       "75%        14.000000      14.000000      14.000000      14.000000\n",
       "max        25.000000      24.000000      25.000000      25.000000"
      ]
     },
     "execution_count": 8,
     "metadata": {},
     "output_type": "execute_result"
    }
   ],
   "source": [
    "df1[['MUX4','MUX5','MUX6','MUX7']].describe()"
   ]
  },
  {
   "cell_type": "markdown",
   "metadata": {},
   "source": [
    "# TEST0002"
   ]
  },
  {
   "cell_type": "code",
   "execution_count": 9,
   "metadata": {},
   "outputs": [],
   "source": [
    "df2 = pd.read_csv(\"test0002.csv\")"
   ]
  },
  {
   "cell_type": "code",
   "execution_count": 10,
   "metadata": {},
   "outputs": [
    {
     "name": "stdout",
     "output_type": "stream",
     "text": [
      "Duration: 50.0 hours\n"
     ]
    }
   ],
   "source": [
    "print(\"Duration:\", df2.shape[0]/(60*60), \"hours\")"
   ]
  },
  {
   "cell_type": "code",
   "execution_count": 11,
   "metadata": {},
   "outputs": [
    {
     "data": {
      "text/html": [
       "<div>\n",
       "<style scoped>\n",
       "    .dataframe tbody tr th:only-of-type {\n",
       "        vertical-align: middle;\n",
       "    }\n",
       "\n",
       "    .dataframe tbody tr th {\n",
       "        vertical-align: top;\n",
       "    }\n",
       "\n",
       "    .dataframe thead th {\n",
       "        text-align: right;\n",
       "    }\n",
       "</style>\n",
       "<table border=\"1\" class=\"dataframe\">\n",
       "  <thead>\n",
       "    <tr style=\"text-align: right;\">\n",
       "      <th></th>\n",
       "      <th>TIMESTAMP</th>\n",
       "      <th>MUX0</th>\n",
       "      <th>MUX1</th>\n",
       "      <th>MUX2</th>\n",
       "      <th>MUX3</th>\n",
       "      <th>MUX4</th>\n",
       "      <th>MUX5</th>\n",
       "      <th>MUX6</th>\n",
       "      <th>MUX7</th>\n",
       "    </tr>\n",
       "  </thead>\n",
       "  <tbody>\n",
       "    <tr>\n",
       "      <th>0</th>\n",
       "      <td>1573165047</td>\n",
       "      <td>336</td>\n",
       "      <td>343</td>\n",
       "      <td>339</td>\n",
       "      <td>709</td>\n",
       "      <td>13</td>\n",
       "      <td>13</td>\n",
       "      <td>10</td>\n",
       "      <td>13</td>\n",
       "    </tr>\n",
       "    <tr>\n",
       "      <th>1</th>\n",
       "      <td>1573165048</td>\n",
       "      <td>336</td>\n",
       "      <td>334</td>\n",
       "      <td>339</td>\n",
       "      <td>705</td>\n",
       "      <td>12</td>\n",
       "      <td>13</td>\n",
       "      <td>19</td>\n",
       "      <td>13</td>\n",
       "    </tr>\n",
       "    <tr>\n",
       "      <th>2</th>\n",
       "      <td>1573165049</td>\n",
       "      <td>332</td>\n",
       "      <td>339</td>\n",
       "      <td>339</td>\n",
       "      <td>705</td>\n",
       "      <td>12</td>\n",
       "      <td>12</td>\n",
       "      <td>21</td>\n",
       "      <td>24</td>\n",
       "    </tr>\n",
       "    <tr>\n",
       "      <th>3</th>\n",
       "      <td>1573165050</td>\n",
       "      <td>332</td>\n",
       "      <td>336</td>\n",
       "      <td>339</td>\n",
       "      <td>703</td>\n",
       "      <td>13</td>\n",
       "      <td>12</td>\n",
       "      <td>20</td>\n",
       "      <td>22</td>\n",
       "    </tr>\n",
       "    <tr>\n",
       "      <th>4</th>\n",
       "      <td>1573165051</td>\n",
       "      <td>339</td>\n",
       "      <td>342</td>\n",
       "      <td>339</td>\n",
       "      <td>706</td>\n",
       "      <td>16</td>\n",
       "      <td>14</td>\n",
       "      <td>14</td>\n",
       "      <td>13</td>\n",
       "    </tr>\n",
       "  </tbody>\n",
       "</table>\n",
       "</div>"
      ],
      "text/plain": [
       "    TIMESTAMP  MUX0  MUX1  MUX2  MUX3  MUX4  MUX5  MUX6  MUX7\n",
       "0  1573165047   336   343   339   709    13    13    10    13\n",
       "1  1573165048   336   334   339   705    12    13    19    13\n",
       "2  1573165049   332   339   339   705    12    12    21    24\n",
       "3  1573165050   332   336   339   703    13    12    20    22\n",
       "4  1573165051   339   342   339   706    16    14    14    13"
      ]
     },
     "execution_count": 11,
     "metadata": {},
     "output_type": "execute_result"
    }
   ],
   "source": [
    "df2.head()"
   ]
  },
  {
   "cell_type": "code",
   "execution_count": 12,
   "metadata": {},
   "outputs": [
    {
     "data": {
      "text/plain": [
       "<matplotlib.axes._subplots.AxesSubplot at 0x7f8b863bb6a0>"
      ]
     },
     "execution_count": 12,
     "metadata": {},
     "output_type": "execute_result"
    },
    {
     "data": {
      "image/png": "[encoded data removed]",
      "text/plain": [
       "<Figure size 432x288 with 1 Axes>"
      ]
     },
     "metadata": {
      "needs_background": "light"
     },
     "output_type": "display_data"
    }
   ],
   "source": [
    "# MUX0 -> TUBE  IV: XXXg (glass+water) \n",
    "# MUX1 -> TUBE  II: 130g (glass+soil); 160g (glass+soil+water) ~ 30g (water)\n",
    "# MUX2 -> TUBE III: 130g (glass+soil); 181g (glass+soil+water) ~ 51g (water)\n",
    "# MUX3 -> TUBE   I: 130g (glass+soil)\n",
    "df2[['MUX0','MUX1','MUX2','MUX3']].rolling(90).mean().plot()"
   ]
  },
  {
   "cell_type": "code",
   "execution_count": 13,
   "metadata": {},
   "outputs": [
    {
     "data": {
      "text/html": [
       "<div>\n",
       "<style scoped>\n",
       "    .dataframe tbody tr th:only-of-type {\n",
       "        vertical-align: middle;\n",
       "    }\n",
       "\n",
       "    .dataframe tbody tr th {\n",
       "        vertical-align: top;\n",
       "    }\n",
       "\n",
       "    .dataframe thead th {\n",
       "        text-align: right;\n",
       "    }\n",
       "</style>\n",
       "<table border=\"1\" class=\"dataframe\">\n",
       "  <thead>\n",
       "    <tr style=\"text-align: right;\">\n",
       "      <th></th>\n",
       "      <th>MUX0</th>\n",
       "      <th>MUX1</th>\n",
       "      <th>MUX2</th>\n",
       "      <th>MUX3</th>\n",
       "    </tr>\n",
       "  </thead>\n",
       "  <tbody>\n",
       "    <tr>\n",
       "      <th>count</th>\n",
       "      <td>180000.000000</td>\n",
       "      <td>180000.000000</td>\n",
       "      <td>180000.000000</td>\n",
       "      <td>180000.000000</td>\n",
       "    </tr>\n",
       "    <tr>\n",
       "      <th>mean</th>\n",
       "      <td>338.896744</td>\n",
       "      <td>338.638467</td>\n",
       "      <td>279.534183</td>\n",
       "      <td>699.090850</td>\n",
       "    </tr>\n",
       "    <tr>\n",
       "      <th>std</th>\n",
       "      <td>4.016586</td>\n",
       "      <td>4.728442</td>\n",
       "      <td>34.639593</td>\n",
       "      <td>3.100637</td>\n",
       "    </tr>\n",
       "    <tr>\n",
       "      <th>min</th>\n",
       "      <td>329.000000</td>\n",
       "      <td>324.000000</td>\n",
       "      <td>248.000000</td>\n",
       "      <td>690.000000</td>\n",
       "    </tr>\n",
       "    <tr>\n",
       "      <th>25%</th>\n",
       "      <td>337.000000</td>\n",
       "      <td>337.000000</td>\n",
       "      <td>256.000000</td>\n",
       "      <td>697.000000</td>\n",
       "    </tr>\n",
       "    <tr>\n",
       "      <th>50%</th>\n",
       "      <td>339.000000</td>\n",
       "      <td>340.000000</td>\n",
       "      <td>262.000000</td>\n",
       "      <td>699.000000</td>\n",
       "    </tr>\n",
       "    <tr>\n",
       "      <th>75%</th>\n",
       "      <td>342.000000</td>\n",
       "      <td>342.000000</td>\n",
       "      <td>336.000000</td>\n",
       "      <td>701.000000</td>\n",
       "    </tr>\n",
       "    <tr>\n",
       "      <th>max</th>\n",
       "      <td>351.000000</td>\n",
       "      <td>352.000000</td>\n",
       "      <td>343.000000</td>\n",
       "      <td>713.000000</td>\n",
       "    </tr>\n",
       "  </tbody>\n",
       "</table>\n",
       "</div>"
      ],
      "text/plain": [
       "                MUX0           MUX1           MUX2           MUX3\n",
       "count  180000.000000  180000.000000  180000.000000  180000.000000\n",
       "mean      338.896744     338.638467     279.534183     699.090850\n",
       "std         4.016586       4.728442      34.639593       3.100637\n",
       "min       329.000000     324.000000     248.000000     690.000000\n",
       "25%       337.000000     337.000000     256.000000     697.000000\n",
       "50%       339.000000     340.000000     262.000000     699.000000\n",
       "75%       342.000000     342.000000     336.000000     701.000000\n",
       "max       351.000000     352.000000     343.000000     713.000000"
      ]
     },
     "execution_count": 13,
     "metadata": {},
     "output_type": "execute_result"
    }
   ],
   "source": [
    "df2[['MUX0','MUX1','MUX2','MUX3']].describe()"
   ]
  },
  {
   "cell_type": "code",
   "execution_count": 14,
   "metadata": {},
   "outputs": [
    {
     "data": {
      "text/plain": [
       "<matplotlib.axes._subplots.AxesSubplot at 0x7f8b8632e470>"
      ]
     },
     "execution_count": 14,
     "metadata": {},
     "output_type": "execute_result"
    },
    {
     "data": {
      "image/png": "[encoded data removed]",
      "text/plain": [
       "<Figure size 432x288 with 1 Axes>"
      ]
     },
     "metadata": {
      "needs_background": "light"
     },
     "output_type": "display_data"
    }
   ],
   "source": [
    "# MUX4 -> none\n",
    "# MUX5 -> none\n",
    "# MUX6 -> none\n",
    "# MUX7 -> none\n",
    "\n",
    "df2[['MUX4','MUX5','MUX6','MUX7']].rolling(1800).mean().plot()"
   ]
  },
  {
   "cell_type": "code",
   "execution_count": 15,
   "metadata": {},
   "outputs": [
    {
     "data": {
      "text/html": [
       "<div>\n",
       "<style scoped>\n",
       "    .dataframe tbody tr th:only-of-type {\n",
       "        vertical-align: middle;\n",
       "    }\n",
       "\n",
       "    .dataframe tbody tr th {\n",
       "        vertical-align: top;\n",
       "    }\n",
       "\n",
       "    .dataframe thead th {\n",
       "        text-align: right;\n",
       "    }\n",
       "</style>\n",
       "<table border=\"1\" class=\"dataframe\">\n",
       "  <thead>\n",
       "    <tr style=\"text-align: right;\">\n",
       "      <th></th>\n",
       "      <th>MUX4</th>\n",
       "      <th>MUX5</th>\n",
       "      <th>MUX6</th>\n",
       "      <th>MUX7</th>\n",
       "    </tr>\n",
       "  </thead>\n",
       "  <tbody>\n",
       "    <tr>\n",
       "      <th>count</th>\n",
       "      <td>180000.000000</td>\n",
       "      <td>180000.000000</td>\n",
       "      <td>180000.000000</td>\n",
       "      <td>180000.000000</td>\n",
       "    </tr>\n",
       "    <tr>\n",
       "      <th>mean</th>\n",
       "      <td>13.674172</td>\n",
       "      <td>13.861417</td>\n",
       "      <td>14.259511</td>\n",
       "      <td>14.413328</td>\n",
       "    </tr>\n",
       "    <tr>\n",
       "      <th>std</th>\n",
       "      <td>1.537556</td>\n",
       "      <td>2.296823</td>\n",
       "      <td>2.922098</td>\n",
       "      <td>3.022823</td>\n",
       "    </tr>\n",
       "    <tr>\n",
       "      <th>min</th>\n",
       "      <td>7.000000</td>\n",
       "      <td>9.000000</td>\n",
       "      <td>8.000000</td>\n",
       "      <td>9.000000</td>\n",
       "    </tr>\n",
       "    <tr>\n",
       "      <th>25%</th>\n",
       "      <td>12.000000</td>\n",
       "      <td>12.000000</td>\n",
       "      <td>13.000000</td>\n",
       "      <td>13.000000</td>\n",
       "    </tr>\n",
       "    <tr>\n",
       "      <th>50%</th>\n",
       "      <td>14.000000</td>\n",
       "      <td>14.000000</td>\n",
       "      <td>14.000000</td>\n",
       "      <td>14.000000</td>\n",
       "    </tr>\n",
       "    <tr>\n",
       "      <th>75%</th>\n",
       "      <td>15.000000</td>\n",
       "      <td>14.000000</td>\n",
       "      <td>15.000000</td>\n",
       "      <td>15.000000</td>\n",
       "    </tr>\n",
       "    <tr>\n",
       "      <th>max</th>\n",
       "      <td>27.000000</td>\n",
       "      <td>26.000000</td>\n",
       "      <td>27.000000</td>\n",
       "      <td>27.000000</td>\n",
       "    </tr>\n",
       "  </tbody>\n",
       "</table>\n",
       "</div>"
      ],
      "text/plain": [
       "                MUX4           MUX5           MUX6           MUX7\n",
       "count  180000.000000  180000.000000  180000.000000  180000.000000\n",
       "mean       13.674172      13.861417      14.259511      14.413328\n",
       "std         1.537556       2.296823       2.922098       3.022823\n",
       "min         7.000000       9.000000       8.000000       9.000000\n",
       "25%        12.000000      12.000000      13.000000      13.000000\n",
       "50%        14.000000      14.000000      14.000000      14.000000\n",
       "75%        15.000000      14.000000      15.000000      15.000000\n",
       "max        27.000000      26.000000      27.000000      27.000000"
      ]
     },
     "execution_count": 15,
     "metadata": {},
     "output_type": "execute_result"
    }
   ],
   "source": [
    "df2[['MUX4','MUX5','MUX6','MUX7']].describe()"
   ]
  },
  {
   "cell_type": "markdown",
   "metadata": {},
   "source": [
    "# TEST0003"
   ]
  },
  {
   "cell_type": "code",
   "execution_count": 16,
   "metadata": {},
   "outputs": [],
   "source": [
    "df3 = pd.read_csv(\"test0003.csv\")"
   ]
  },
  {
   "cell_type": "code",
   "execution_count": 17,
   "metadata": {},
   "outputs": [
    {
     "name": "stdout",
     "output_type": "stream",
     "text": [
      "Duration: 35.829166666666666 hours\n"
     ]
    }
   ],
   "source": [
    "print(\"Duration:\", df3.shape[0]/(60*60), \"hours\")"
   ]
  },
  {
   "cell_type": "code",
   "execution_count": 18,
   "metadata": {},
   "outputs": [
    {
     "data": {
      "text/html": [
       "<div>\n",
       "<style scoped>\n",
       "    .dataframe tbody tr th:only-of-type {\n",
       "        vertical-align: middle;\n",
       "    }\n",
       "\n",
       "    .dataframe tbody tr th {\n",
       "        vertical-align: top;\n",
       "    }\n",
       "\n",
       "    .dataframe thead th {\n",
       "        text-align: right;\n",
       "    }\n",
       "</style>\n",
       "<table border=\"1\" class=\"dataframe\">\n",
       "  <thead>\n",
       "    <tr style=\"text-align: right;\">\n",
       "      <th></th>\n",
       "      <th>TIMESTAMP</th>\n",
       "      <th>MUX0</th>\n",
       "      <th>MUX1</th>\n",
       "      <th>MUX2</th>\n",
       "      <th>MUX3</th>\n",
       "      <th>MUX4</th>\n",
       "      <th>MUX5</th>\n",
       "      <th>MUX6</th>\n",
       "      <th>MUX7</th>\n",
       "    </tr>\n",
       "  </thead>\n",
       "  <tbody>\n",
       "    <tr>\n",
       "      <th>0</th>\n",
       "      <td>1573918262</td>\n",
       "      <td>677</td>\n",
       "      <td>326</td>\n",
       "      <td>819</td>\n",
       "      <td>457</td>\n",
       "      <td>13</td>\n",
       "      <td>12</td>\n",
       "      <td>14</td>\n",
       "      <td>14</td>\n",
       "    </tr>\n",
       "    <tr>\n",
       "      <th>1</th>\n",
       "      <td>1573918264</td>\n",
       "      <td>674</td>\n",
       "      <td>322</td>\n",
       "      <td>819</td>\n",
       "      <td>458</td>\n",
       "      <td>14</td>\n",
       "      <td>14</td>\n",
       "      <td>14</td>\n",
       "      <td>14</td>\n",
       "    </tr>\n",
       "    <tr>\n",
       "      <th>2</th>\n",
       "      <td>1573918265</td>\n",
       "      <td>676</td>\n",
       "      <td>324</td>\n",
       "      <td>819</td>\n",
       "      <td>456</td>\n",
       "      <td>14</td>\n",
       "      <td>14</td>\n",
       "      <td>14</td>\n",
       "      <td>14</td>\n",
       "    </tr>\n",
       "    <tr>\n",
       "      <th>3</th>\n",
       "      <td>1573918266</td>\n",
       "      <td>674</td>\n",
       "      <td>325</td>\n",
       "      <td>819</td>\n",
       "      <td>457</td>\n",
       "      <td>14</td>\n",
       "      <td>14</td>\n",
       "      <td>14</td>\n",
       "      <td>14</td>\n",
       "    </tr>\n",
       "    <tr>\n",
       "      <th>4</th>\n",
       "      <td>1573918268</td>\n",
       "      <td>678</td>\n",
       "      <td>326</td>\n",
       "      <td>819</td>\n",
       "      <td>456</td>\n",
       "      <td>14</td>\n",
       "      <td>14</td>\n",
       "      <td>14</td>\n",
       "      <td>14</td>\n",
       "    </tr>\n",
       "  </tbody>\n",
       "</table>\n",
       "</div>"
      ],
      "text/plain": [
       "    TIMESTAMP  MUX0  MUX1  MUX2  MUX3  MUX4  MUX5  MUX6  MUX7\n",
       "0  1573918262   677   326   819   457    13    12    14    14\n",
       "1  1573918264   674   322   819   458    14    14    14    14\n",
       "2  1573918265   676   324   819   456    14    14    14    14\n",
       "3  1573918266   674   325   819   457    14    14    14    14\n",
       "4  1573918268   678   326   819   456    14    14    14    14"
      ]
     },
     "execution_count": 18,
     "metadata": {},
     "output_type": "execute_result"
    }
   ],
   "source": [
    "df3.head()"
   ]
  },
  {
   "cell_type": "code",
   "execution_count": 19,
   "metadata": {
    "scrolled": true
   },
   "outputs": [
    {
     "data": {
      "text/plain": [
       "<matplotlib.axes._subplots.AxesSubplot at 0x7f8b862ce9e8>"
      ]
     },
     "execution_count": 19,
     "metadata": {},
     "output_type": "execute_result"
    },
    {
     "data": {
      "image/png": "[encoded data removed]",
      "text/plain": [
       "<Figure size 432x288 with 1 Axes>"
      ]
     },
     "metadata": {
      "needs_background": "light"
     },
     "output_type": "display_data"
    }
   ],
   "source": [
    "# MUX0 -> TUBE   I: 130g (glass+soil)\n",
    "# MUX1 -> TUBE  II: 130g (glass+soil); 165g (glass+soil+water) ~ 35g (water)\n",
    "# MUX2 -> TUBE III: air\n",
    "# MUX3 -> TUBE  IV: XXXg (glass+water)\n",
    "df3[['MUX0','MUX1','MUX2','MUX3']].rolling(90).mean().plot()"
   ]
  },
  {
   "cell_type": "code",
   "execution_count": 20,
   "metadata": {},
   "outputs": [
    {
     "data": {
      "text/html": [
       "<div>\n",
       "<style scoped>\n",
       "    .dataframe tbody tr th:only-of-type {\n",
       "        vertical-align: middle;\n",
       "    }\n",
       "\n",
       "    .dataframe tbody tr th {\n",
       "        vertical-align: top;\n",
       "    }\n",
       "\n",
       "    .dataframe thead th {\n",
       "        text-align: right;\n",
       "    }\n",
       "</style>\n",
       "<table border=\"1\" class=\"dataframe\">\n",
       "  <thead>\n",
       "    <tr style=\"text-align: right;\">\n",
       "      <th></th>\n",
       "      <th>MUX0</th>\n",
       "      <th>MUX1</th>\n",
       "      <th>MUX2</th>\n",
       "      <th>MUX3</th>\n",
       "    </tr>\n",
       "  </thead>\n",
       "  <tbody>\n",
       "    <tr>\n",
       "      <th>count</th>\n",
       "      <td>128985.000000</td>\n",
       "      <td>128985.000000</td>\n",
       "      <td>128985.000000</td>\n",
       "      <td>128985.000000</td>\n",
       "    </tr>\n",
       "    <tr>\n",
       "      <th>mean</th>\n",
       "      <td>698.451595</td>\n",
       "      <td>325.841307</td>\n",
       "      <td>830.964934</td>\n",
       "      <td>450.410226</td>\n",
       "    </tr>\n",
       "    <tr>\n",
       "      <th>std</th>\n",
       "      <td>15.005520</td>\n",
       "      <td>3.950569</td>\n",
       "      <td>12.146363</td>\n",
       "      <td>20.445136</td>\n",
       "    </tr>\n",
       "    <tr>\n",
       "      <th>min</th>\n",
       "      <td>670.000000</td>\n",
       "      <td>315.000000</td>\n",
       "      <td>710.000000</td>\n",
       "      <td>396.000000</td>\n",
       "    </tr>\n",
       "    <tr>\n",
       "      <th>25%</th>\n",
       "      <td>689.000000</td>\n",
       "      <td>322.000000</td>\n",
       "      <td>823.000000</td>\n",
       "      <td>433.000000</td>\n",
       "    </tr>\n",
       "    <tr>\n",
       "      <th>50%</th>\n",
       "      <td>693.000000</td>\n",
       "      <td>326.000000</td>\n",
       "      <td>824.000000</td>\n",
       "      <td>445.000000</td>\n",
       "    </tr>\n",
       "    <tr>\n",
       "      <th>75%</th>\n",
       "      <td>701.000000</td>\n",
       "      <td>329.000000</td>\n",
       "      <td>844.000000</td>\n",
       "      <td>471.000000</td>\n",
       "    </tr>\n",
       "    <tr>\n",
       "      <th>max</th>\n",
       "      <td>819.000000</td>\n",
       "      <td>340.000000</td>\n",
       "      <td>943.000000</td>\n",
       "      <td>578.000000</td>\n",
       "    </tr>\n",
       "  </tbody>\n",
       "</table>\n",
       "</div>"
      ],
      "text/plain": [
       "                MUX0           MUX1           MUX2           MUX3\n",
       "count  128985.000000  128985.000000  128985.000000  128985.000000\n",
       "mean      698.451595     325.841307     830.964934     450.410226\n",
       "std        15.005520       3.950569      12.146363      20.445136\n",
       "min       670.000000     315.000000     710.000000     396.000000\n",
       "25%       689.000000     322.000000     823.000000     433.000000\n",
       "50%       693.000000     326.000000     824.000000     445.000000\n",
       "75%       701.000000     329.000000     844.000000     471.000000\n",
       "max       819.000000     340.000000     943.000000     578.000000"
      ]
     },
     "execution_count": 20,
     "metadata": {},
     "output_type": "execute_result"
    }
   ],
   "source": [
    "df3[['MUX0','MUX1','MUX2','MUX3']].describe()"
   ]
  },
  {
   "cell_type": "code",
   "execution_count": 21,
   "metadata": {},
   "outputs": [
    {
     "data": {
      "text/plain": [
       "<matplotlib.axes._subplots.AxesSubplot at 0x7f8b861f3d68>"
      ]
     },
     "execution_count": 21,
     "metadata": {},
     "output_type": "execute_result"
    },
    {
     "data": {
      "image/png": "[encoded data removed]",
      "text/plain": [
       "<Figure size 432x288 with 1 Axes>"
      ]
     },
     "metadata": {
      "needs_background": "light"
     },
     "output_type": "display_data"
    }
   ],
   "source": [
    "# MUX4 -> none\n",
    "# MUX5 -> none\n",
    "# MUX6 -> none\n",
    "# MUX7 -> none\n",
    "\n",
    "df3[['MUX4','MUX5','MUX6','MUX7']].rolling(1800).mean().plot()"
   ]
  },
  {
   "cell_type": "code",
   "execution_count": 22,
   "metadata": {},
   "outputs": [
    {
     "data": {
      "text/html": [
       "<div>\n",
       "<style scoped>\n",
       "    .dataframe tbody tr th:only-of-type {\n",
       "        vertical-align: middle;\n",
       "    }\n",
       "\n",
       "    .dataframe tbody tr th {\n",
       "        vertical-align: top;\n",
       "    }\n",
       "\n",
       "    .dataframe thead th {\n",
       "        text-align: right;\n",
       "    }\n",
       "</style>\n",
       "<table border=\"1\" class=\"dataframe\">\n",
       "  <thead>\n",
       "    <tr style=\"text-align: right;\">\n",
       "      <th></th>\n",
       "      <th>MUX4</th>\n",
       "      <th>MUX5</th>\n",
       "      <th>MUX6</th>\n",
       "      <th>MUX7</th>\n",
       "    </tr>\n",
       "  </thead>\n",
       "  <tbody>\n",
       "    <tr>\n",
       "      <th>count</th>\n",
       "      <td>128985.000000</td>\n",
       "      <td>128985.000000</td>\n",
       "      <td>128985.000000</td>\n",
       "      <td>128985.000000</td>\n",
       "    </tr>\n",
       "    <tr>\n",
       "      <th>mean</th>\n",
       "      <td>13.548855</td>\n",
       "      <td>13.943645</td>\n",
       "      <td>14.324154</td>\n",
       "      <td>14.429802</td>\n",
       "    </tr>\n",
       "    <tr>\n",
       "      <th>std</th>\n",
       "      <td>0.867601</td>\n",
       "      <td>2.167123</td>\n",
       "      <td>2.802545</td>\n",
       "      <td>2.871775</td>\n",
       "    </tr>\n",
       "    <tr>\n",
       "      <th>min</th>\n",
       "      <td>5.000000</td>\n",
       "      <td>8.000000</td>\n",
       "      <td>8.000000</td>\n",
       "      <td>7.000000</td>\n",
       "    </tr>\n",
       "    <tr>\n",
       "      <th>25%</th>\n",
       "      <td>13.000000</td>\n",
       "      <td>13.000000</td>\n",
       "      <td>13.000000</td>\n",
       "      <td>13.000000</td>\n",
       "    </tr>\n",
       "    <tr>\n",
       "      <th>50%</th>\n",
       "      <td>14.000000</td>\n",
       "      <td>13.000000</td>\n",
       "      <td>14.000000</td>\n",
       "      <td>14.000000</td>\n",
       "    </tr>\n",
       "    <tr>\n",
       "      <th>75%</th>\n",
       "      <td>14.000000</td>\n",
       "      <td>14.000000</td>\n",
       "      <td>14.000000</td>\n",
       "      <td>14.000000</td>\n",
       "    </tr>\n",
       "    <tr>\n",
       "      <th>max</th>\n",
       "      <td>25.000000</td>\n",
       "      <td>26.000000</td>\n",
       "      <td>29.000000</td>\n",
       "      <td>27.000000</td>\n",
       "    </tr>\n",
       "  </tbody>\n",
       "</table>\n",
       "</div>"
      ],
      "text/plain": [
       "                MUX4           MUX5           MUX6           MUX7\n",
       "count  128985.000000  128985.000000  128985.000000  128985.000000\n",
       "mean       13.548855      13.943645      14.324154      14.429802\n",
       "std         0.867601       2.167123       2.802545       2.871775\n",
       "min         5.000000       8.000000       8.000000       7.000000\n",
       "25%        13.000000      13.000000      13.000000      13.000000\n",
       "50%        14.000000      13.000000      14.000000      14.000000\n",
       "75%        14.000000      14.000000      14.000000      14.000000\n",
       "max        25.000000      26.000000      29.000000      27.000000"
      ]
     },
     "execution_count": 22,
     "metadata": {},
     "output_type": "execute_result"
    }
   ],
   "source": [
    "df3[['MUX4','MUX5','MUX6','MUX7']].describe()"
   ]
  },
  {
   "cell_type": "markdown",
   "metadata": {},
   "source": [
    "# TEST0004"
   ]
  },
  {
   "cell_type": "code",
   "execution_count": 4,
   "metadata": {},
   "outputs": [
    {
     "name": "stdout",
     "output_type": "stream",
     "text": [
      "Duration: 3.891388888888889 hours\n"
     ]
    }
   ],
   "source": [
    "df4 = pd.read_csv(\"test0004.csv\")\n",
    "print(\"Duration:\", df4.shape[0]/(60*60), \"hours\")"
   ]
  },
  {
   "cell_type": "code",
   "execution_count": 5,
   "metadata": {},
   "outputs": [
    {
     "data": {
      "text/html": [
       "<div>\n",
       "<style scoped>\n",
       "    .dataframe tbody tr th:only-of-type {\n",
       "        vertical-align: middle;\n",
       "    }\n",
       "\n",
       "    .dataframe tbody tr th {\n",
       "        vertical-align: top;\n",
       "    }\n",
       "\n",
       "    .dataframe thead th {\n",
       "        text-align: right;\n",
       "    }\n",
       "</style>\n",
       "<table border=\"1\" class=\"dataframe\">\n",
       "  <thead>\n",
       "    <tr style=\"text-align: right;\">\n",
       "      <th></th>\n",
       "      <th>TIMESTAMP</th>\n",
       "      <th>MUX0</th>\n",
       "      <th>MUX1</th>\n",
       "      <th>MUX2</th>\n",
       "      <th>MUX3</th>\n",
       "      <th>MUX4</th>\n",
       "      <th>MUX5</th>\n",
       "      <th>MUX6</th>\n",
       "      <th>MUX7</th>\n",
       "    </tr>\n",
       "  </thead>\n",
       "  <tbody>\n",
       "    <tr>\n",
       "      <th>0</th>\n",
       "      <td>1574487887</td>\n",
       "      <td>552</td>\n",
       "      <td>604</td>\n",
       "      <td>652</td>\n",
       "      <td>686</td>\n",
       "      <td>13</td>\n",
       "      <td>13</td>\n",
       "      <td>14</td>\n",
       "      <td>15</td>\n",
       "    </tr>\n",
       "    <tr>\n",
       "      <th>1</th>\n",
       "      <td>1574487889</td>\n",
       "      <td>550</td>\n",
       "      <td>603</td>\n",
       "      <td>652</td>\n",
       "      <td>682</td>\n",
       "      <td>13</td>\n",
       "      <td>14</td>\n",
       "      <td>14</td>\n",
       "      <td>15</td>\n",
       "    </tr>\n",
       "    <tr>\n",
       "      <th>2</th>\n",
       "      <td>1574487891</td>\n",
       "      <td>552</td>\n",
       "      <td>603</td>\n",
       "      <td>652</td>\n",
       "      <td>685</td>\n",
       "      <td>14</td>\n",
       "      <td>14</td>\n",
       "      <td>14</td>\n",
       "      <td>14</td>\n",
       "    </tr>\n",
       "    <tr>\n",
       "      <th>3</th>\n",
       "      <td>1574487892</td>\n",
       "      <td>550</td>\n",
       "      <td>602</td>\n",
       "      <td>652</td>\n",
       "      <td>681</td>\n",
       "      <td>13</td>\n",
       "      <td>13</td>\n",
       "      <td>14</td>\n",
       "      <td>14</td>\n",
       "    </tr>\n",
       "    <tr>\n",
       "      <th>4</th>\n",
       "      <td>1574487894</td>\n",
       "      <td>552</td>\n",
       "      <td>602</td>\n",
       "      <td>652</td>\n",
       "      <td>681</td>\n",
       "      <td>13</td>\n",
       "      <td>12</td>\n",
       "      <td>12</td>\n",
       "      <td>13</td>\n",
       "    </tr>\n",
       "  </tbody>\n",
       "</table>\n",
       "</div>"
      ],
      "text/plain": [
       "    TIMESTAMP  MUX0  MUX1  MUX2  MUX3  MUX4  MUX5  MUX6  MUX7\n",
       "0  1574487887   552   604   652   686    13    13    14    15\n",
       "1  1574487889   550   603   652   682    13    14    14    15\n",
       "2  1574487891   552   603   652   685    14    14    14    14\n",
       "3  1574487892   550   602   652   681    13    13    14    14\n",
       "4  1574487894   552   602   652   681    13    12    12    13"
      ]
     },
     "execution_count": 5,
     "metadata": {},
     "output_type": "execute_result"
    }
   ],
   "source": [
    "df4.head()"
   ]
  },
  {
   "cell_type": "code",
   "execution_count": 6,
   "metadata": {},
   "outputs": [
    {
     "data": {
      "text/plain": [
       "<matplotlib.axes._subplots.AxesSubplot at 0x7f493f4eff28>"
      ]
     },
     "execution_count": 6,
     "metadata": {},
     "output_type": "execute_result"
    },
    {
     "data": {
      "image/png": "[encoded data removed]",
      "text/plain": [
       "<Figure size 432x288 with 1 Axes>"
      ]
     },
     "metadata": {
      "needs_background": "light"
     },
     "output_type": "display_data"
    }
   ],
   "source": [
    "# MUX0, MUX1, MUX2, MUX3 >  BOX with soil(1224g) + water: 1500g\n",
    "df4[['MUX0','MUX1','MUX2','MUX3']].rolling(90).mean().plot()"
   ]
  },
  {
   "cell_type": "code",
   "execution_count": 7,
   "metadata": {},
   "outputs": [
    {
     "data": {
      "text/html": [
       "<div>\n",
       "<style scoped>\n",
       "    .dataframe tbody tr th:only-of-type {\n",
       "        vertical-align: middle;\n",
       "    }\n",
       "\n",
       "    .dataframe tbody tr th {\n",
       "        vertical-align: top;\n",
       "    }\n",
       "\n",
       "    .dataframe thead th {\n",
       "        text-align: right;\n",
       "    }\n",
       "</style>\n",
       "<table border=\"1\" class=\"dataframe\">\n",
       "  <thead>\n",
       "    <tr style=\"text-align: right;\">\n",
       "      <th></th>\n",
       "      <th>MUX0</th>\n",
       "      <th>MUX1</th>\n",
       "      <th>MUX2</th>\n",
       "      <th>MUX3</th>\n",
       "    </tr>\n",
       "  </thead>\n",
       "  <tbody>\n",
       "    <tr>\n",
       "      <th>count</th>\n",
       "      <td>14009.000000</td>\n",
       "      <td>14009.000000</td>\n",
       "      <td>14009.000000</td>\n",
       "      <td>14009.000000</td>\n",
       "    </tr>\n",
       "    <tr>\n",
       "      <th>mean</th>\n",
       "      <td>542.187380</td>\n",
       "      <td>582.413877</td>\n",
       "      <td>627.293668</td>\n",
       "      <td>667.650296</td>\n",
       "    </tr>\n",
       "    <tr>\n",
       "      <th>std</th>\n",
       "      <td>12.587929</td>\n",
       "      <td>4.086727</td>\n",
       "      <td>7.955221</td>\n",
       "      <td>10.326141</td>\n",
       "    </tr>\n",
       "    <tr>\n",
       "      <th>min</th>\n",
       "      <td>509.000000</td>\n",
       "      <td>577.000000</td>\n",
       "      <td>613.000000</td>\n",
       "      <td>641.000000</td>\n",
       "    </tr>\n",
       "    <tr>\n",
       "      <th>25%</th>\n",
       "      <td>533.000000</td>\n",
       "      <td>580.000000</td>\n",
       "      <td>622.000000</td>\n",
       "      <td>661.000000</td>\n",
       "    </tr>\n",
       "    <tr>\n",
       "      <th>50%</th>\n",
       "      <td>546.000000</td>\n",
       "      <td>581.000000</td>\n",
       "      <td>625.000000</td>\n",
       "      <td>665.000000</td>\n",
       "    </tr>\n",
       "    <tr>\n",
       "      <th>75%</th>\n",
       "      <td>550.000000</td>\n",
       "      <td>583.000000</td>\n",
       "      <td>632.000000</td>\n",
       "      <td>675.000000</td>\n",
       "    </tr>\n",
       "    <tr>\n",
       "      <th>max</th>\n",
       "      <td>602.000000</td>\n",
       "      <td>604.000000</td>\n",
       "      <td>652.000000</td>\n",
       "      <td>691.000000</td>\n",
       "    </tr>\n",
       "  </tbody>\n",
       "</table>\n",
       "</div>"
      ],
      "text/plain": [
       "               MUX0          MUX1          MUX2          MUX3\n",
       "count  14009.000000  14009.000000  14009.000000  14009.000000\n",
       "mean     542.187380    582.413877    627.293668    667.650296\n",
       "std       12.587929      4.086727      7.955221     10.326141\n",
       "min      509.000000    577.000000    613.000000    641.000000\n",
       "25%      533.000000    580.000000    622.000000    661.000000\n",
       "50%      546.000000    581.000000    625.000000    665.000000\n",
       "75%      550.000000    583.000000    632.000000    675.000000\n",
       "max      602.000000    604.000000    652.000000    691.000000"
      ]
     },
     "execution_count": 7,
     "metadata": {},
     "output_type": "execute_result"
    }
   ],
   "source": [
    "df4[['MUX0','MUX1','MUX2','MUX3']].describe()"
   ]
  },
  {
   "cell_type": "markdown",
   "metadata": {},
   "source": [
    "# TEST1000"
   ]
  },
  {
   "cell_type": "code",
   "execution_count": 4,
   "metadata": {},
   "outputs": [
    {
     "name": "stdout",
     "output_type": "stream",
     "text": [
      "Duration: 10.0 hours\n"
     ]
    }
   ],
   "source": [
    "df1000 = pd.read_csv(\"test1000.csv\")\n",
    "print(\"Duration:\", df1000.shape[0]/(60*60), \"hours\")"
   ]
  },
  {
   "cell_type": "code",
   "execution_count": 5,
   "metadata": {},
   "outputs": [
    {
     "data": {
      "text/html": [
       "<div>\n",
       "<style scoped>\n",
       "    .dataframe tbody tr th:only-of-type {\n",
       "        vertical-align: middle;\n",
       "    }\n",
       "\n",
       "    .dataframe tbody tr th {\n",
       "        vertical-align: top;\n",
       "    }\n",
       "\n",
       "    .dataframe thead th {\n",
       "        text-align: right;\n",
       "    }\n",
       "</style>\n",
       "<table border=\"1\" class=\"dataframe\">\n",
       "  <thead>\n",
       "    <tr style=\"text-align: right;\">\n",
       "      <th></th>\n",
       "      <th>TIMESTAMP</th>\n",
       "      <th>MUX0</th>\n",
       "      <th>MUX1</th>\n",
       "      <th>MUX2</th>\n",
       "      <th>MUX3</th>\n",
       "      <th>MUX4</th>\n",
       "      <th>MUX5</th>\n",
       "      <th>MUX6</th>\n",
       "      <th>MUX7</th>\n",
       "    </tr>\n",
       "  </thead>\n",
       "  <tbody>\n",
       "    <tr>\n",
       "      <th>0</th>\n",
       "      <td>1577193692</td>\n",
       "      <td>243</td>\n",
       "      <td>249</td>\n",
       "      <td>267</td>\n",
       "      <td>241</td>\n",
       "      <td>280</td>\n",
       "      <td>282</td>\n",
       "      <td>266</td>\n",
       "      <td>247</td>\n",
       "    </tr>\n",
       "    <tr>\n",
       "      <th>1</th>\n",
       "      <td>1577193693</td>\n",
       "      <td>228</td>\n",
       "      <td>254</td>\n",
       "      <td>257</td>\n",
       "      <td>240</td>\n",
       "      <td>286</td>\n",
       "      <td>269</td>\n",
       "      <td>269</td>\n",
       "      <td>240</td>\n",
       "    </tr>\n",
       "    <tr>\n",
       "      <th>2</th>\n",
       "      <td>1577193694</td>\n",
       "      <td>231</td>\n",
       "      <td>243</td>\n",
       "      <td>249</td>\n",
       "      <td>254</td>\n",
       "      <td>285</td>\n",
       "      <td>278</td>\n",
       "      <td>266</td>\n",
       "      <td>235</td>\n",
       "    </tr>\n",
       "    <tr>\n",
       "      <th>3</th>\n",
       "      <td>1577193695</td>\n",
       "      <td>237</td>\n",
       "      <td>238</td>\n",
       "      <td>267</td>\n",
       "      <td>246</td>\n",
       "      <td>271</td>\n",
       "      <td>260</td>\n",
       "      <td>265</td>\n",
       "      <td>244</td>\n",
       "    </tr>\n",
       "    <tr>\n",
       "      <th>4</th>\n",
       "      <td>1577193696</td>\n",
       "      <td>241</td>\n",
       "      <td>234</td>\n",
       "      <td>255</td>\n",
       "      <td>255</td>\n",
       "      <td>271</td>\n",
       "      <td>276</td>\n",
       "      <td>269</td>\n",
       "      <td>242</td>\n",
       "    </tr>\n",
       "  </tbody>\n",
       "</table>\n",
       "</div>"
      ],
      "text/plain": [
       "    TIMESTAMP  MUX0  MUX1  MUX2  MUX3  MUX4  MUX5  MUX6  MUX7\n",
       "0  1577193692   243   249   267   241   280   282   266   247\n",
       "1  1577193693   228   254   257   240   286   269   269   240\n",
       "2  1577193694   231   243   249   254   285   278   266   235\n",
       "3  1577193695   237   238   267   246   271   260   265   244\n",
       "4  1577193696   241   234   255   255   271   276   269   242"
      ]
     },
     "execution_count": 5,
     "metadata": {},
     "output_type": "execute_result"
    }
   ],
   "source": [
    "df1000.head()"
   ]
  },
  {
   "cell_type": "code",
   "execution_count": 15,
   "metadata": {},
   "outputs": [
    {
     "data": {
      "text/html": [
       "<div>\n",
       "<style scoped>\n",
       "    .dataframe tbody tr th:only-of-type {\n",
       "        vertical-align: middle;\n",
       "    }\n",
       "\n",
       "    .dataframe tbody tr th {\n",
       "        vertical-align: top;\n",
       "    }\n",
       "\n",
       "    .dataframe thead th {\n",
       "        text-align: right;\n",
       "    }\n",
       "</style>\n",
       "<table border=\"1\" class=\"dataframe\">\n",
       "  <thead>\n",
       "    <tr style=\"text-align: right;\">\n",
       "      <th></th>\n",
       "      <th>MUX0</th>\n",
       "      <th>MUX1</th>\n",
       "      <th>MUX2</th>\n",
       "      <th>MUX3</th>\n",
       "      <th>MUX4</th>\n",
       "      <th>MUX5</th>\n",
       "      <th>MUX6</th>\n",
       "      <th>MUX7</th>\n",
       "    </tr>\n",
       "  </thead>\n",
       "  <tbody>\n",
       "    <tr>\n",
       "      <th>count</th>\n",
       "      <td>36000</td>\n",
       "      <td>36000</td>\n",
       "      <td>36000</td>\n",
       "      <td>36000</td>\n",
       "      <td>36000</td>\n",
       "      <td>36000</td>\n",
       "      <td>36000</td>\n",
       "      <td>36000</td>\n",
       "    </tr>\n",
       "    <tr>\n",
       "      <th>mean</th>\n",
       "      <td>235</td>\n",
       "      <td>242</td>\n",
       "      <td>259</td>\n",
       "      <td>249</td>\n",
       "      <td>276</td>\n",
       "      <td>269</td>\n",
       "      <td>264</td>\n",
       "      <td>242</td>\n",
       "    </tr>\n",
       "    <tr>\n",
       "      <th>std</th>\n",
       "      <td>7</td>\n",
       "      <td>7</td>\n",
       "      <td>7</td>\n",
       "      <td>7</td>\n",
       "      <td>6</td>\n",
       "      <td>6</td>\n",
       "      <td>7</td>\n",
       "      <td>7</td>\n",
       "    </tr>\n",
       "    <tr>\n",
       "      <th>min</th>\n",
       "      <td>220</td>\n",
       "      <td>228</td>\n",
       "      <td>244</td>\n",
       "      <td>235</td>\n",
       "      <td>265</td>\n",
       "      <td>257</td>\n",
       "      <td>249</td>\n",
       "      <td>226</td>\n",
       "    </tr>\n",
       "    <tr>\n",
       "      <th>25%</th>\n",
       "      <td>229</td>\n",
       "      <td>236</td>\n",
       "      <td>253</td>\n",
       "      <td>243</td>\n",
       "      <td>271</td>\n",
       "      <td>264</td>\n",
       "      <td>258</td>\n",
       "      <td>235</td>\n",
       "    </tr>\n",
       "    <tr>\n",
       "      <th>50%</th>\n",
       "      <td>234</td>\n",
       "      <td>242</td>\n",
       "      <td>258</td>\n",
       "      <td>248</td>\n",
       "      <td>277</td>\n",
       "      <td>269</td>\n",
       "      <td>264</td>\n",
       "      <td>242</td>\n",
       "    </tr>\n",
       "    <tr>\n",
       "      <th>75%</th>\n",
       "      <td>241</td>\n",
       "      <td>248</td>\n",
       "      <td>265</td>\n",
       "      <td>255</td>\n",
       "      <td>281</td>\n",
       "      <td>274</td>\n",
       "      <td>271</td>\n",
       "      <td>248</td>\n",
       "    </tr>\n",
       "    <tr>\n",
       "      <th>max</th>\n",
       "      <td>253</td>\n",
       "      <td>258</td>\n",
       "      <td>274</td>\n",
       "      <td>265</td>\n",
       "      <td>290</td>\n",
       "      <td>284</td>\n",
       "      <td>281</td>\n",
       "      <td>257</td>\n",
       "    </tr>\n",
       "  </tbody>\n",
       "</table>\n",
       "</div>"
      ],
      "text/plain": [
       "       MUX0  MUX1  MUX2  MUX3  MUX4  MUX5  MUX6  MUX7\n",
       "count 36000 36000 36000 36000 36000 36000 36000 36000\n",
       "mean    235   242   259   249   276   269   264   242\n",
       "std       7     7     7     7     6     6     7     7\n",
       "min     220   228   244   235   265   257   249   226\n",
       "25%     229   236   253   243   271   264   258   235\n",
       "50%     234   242   258   248   277   269   264   242\n",
       "75%     241   248   265   255   281   274   271   248\n",
       "max     253   258   274   265   290   284   281   257"
      ]
     },
     "execution_count": 15,
     "metadata": {},
     "output_type": "execute_result"
    }
   ],
   "source": [
    "df1000[['MUX0','MUX1','MUX2','MUX3','MUX4','MUX5','MUX6','MUX7']].describe()"
   ]
  },
  {
   "cell_type": "code",
   "execution_count": 16,
   "metadata": {},
   "outputs": [
    {
     "data": {
      "text/plain": [
       "<matplotlib.axes._subplots.AxesSubplot at 0x7fbcfcf93780>"
      ]
     },
     "execution_count": 16,
     "metadata": {},
     "output_type": "execute_result"
    },
    {
     "data": {
      "image/png": "[encoded data removed]",
      "text/plain": [
       "<Figure size 432x288 with 1 Axes>"
      ]
     },
     "metadata": {
      "needs_background": "light"
     },
     "output_type": "display_data"
    }
   ],
   "source": [
    "df1000[['MUX0','MUX1','MUX2','MUX3','MUX4','MUX5','MUX6','MUX7']].rolling(180).mean().plot()"
   ]
  },
  {
   "cell_type": "markdown",
   "metadata": {},
   "source": [
    "# TEST1001"
   ]
  },
  {
   "cell_type": "code",
   "execution_count": 2,
   "metadata": {},
   "outputs": [
    {
     "name": "stdout",
     "output_type": "stream",
     "text": [
      "Duration: 20.0 hours\n"
     ]
    }
   ],
   "source": [
    "df1001 = pd.read_csv(\"test1001.csv\")\n",
    "print(\"Duration:\", df1001.shape[0]/(60*60), \"hours\")"
   ]
  },
  {
   "cell_type": "code",
   "execution_count": 4,
   "metadata": {},
   "outputs": [
    {
     "data": {
      "text/html": [
       "<div>\n",
       "<style scoped>\n",
       "    .dataframe tbody tr th:only-of-type {\n",
       "        vertical-align: middle;\n",
       "    }\n",
       "\n",
       "    .dataframe tbody tr th {\n",
       "        vertical-align: top;\n",
       "    }\n",
       "\n",
       "    .dataframe thead th {\n",
       "        text-align: right;\n",
       "    }\n",
       "</style>\n",
       "<table border=\"1\" class=\"dataframe\">\n",
       "  <thead>\n",
       "    <tr style=\"text-align: right;\">\n",
       "      <th></th>\n",
       "      <th>MUX0</th>\n",
       "      <th>MUX1</th>\n",
       "      <th>MUX2</th>\n",
       "      <th>MUX3</th>\n",
       "      <th>MUX4</th>\n",
       "      <th>MUX5</th>\n",
       "      <th>MUX6</th>\n",
       "      <th>MUX7</th>\n",
       "    </tr>\n",
       "  </thead>\n",
       "  <tbody>\n",
       "    <tr>\n",
       "      <th>count</th>\n",
       "      <td>72000</td>\n",
       "      <td>72000</td>\n",
       "      <td>72000</td>\n",
       "      <td>72000</td>\n",
       "      <td>72000</td>\n",
       "      <td>72000</td>\n",
       "      <td>72000</td>\n",
       "      <td>72000</td>\n",
       "    </tr>\n",
       "    <tr>\n",
       "      <th>mean</th>\n",
       "      <td>240</td>\n",
       "      <td>241</td>\n",
       "      <td>257</td>\n",
       "      <td>249</td>\n",
       "      <td>274</td>\n",
       "      <td>273</td>\n",
       "      <td>265</td>\n",
       "      <td>240</td>\n",
       "    </tr>\n",
       "    <tr>\n",
       "      <th>std</th>\n",
       "      <td>7</td>\n",
       "      <td>7</td>\n",
       "      <td>7</td>\n",
       "      <td>7</td>\n",
       "      <td>6</td>\n",
       "      <td>5</td>\n",
       "      <td>7</td>\n",
       "      <td>8</td>\n",
       "    </tr>\n",
       "    <tr>\n",
       "      <th>min</th>\n",
       "      <td>226</td>\n",
       "      <td>226</td>\n",
       "      <td>242</td>\n",
       "      <td>234</td>\n",
       "      <td>259</td>\n",
       "      <td>260</td>\n",
       "      <td>249</td>\n",
       "      <td>225</td>\n",
       "    </tr>\n",
       "    <tr>\n",
       "      <th>25%</th>\n",
       "      <td>234</td>\n",
       "      <td>234</td>\n",
       "      <td>250</td>\n",
       "      <td>242</td>\n",
       "      <td>268</td>\n",
       "      <td>269</td>\n",
       "      <td>258</td>\n",
       "      <td>234</td>\n",
       "    </tr>\n",
       "    <tr>\n",
       "      <th>50%</th>\n",
       "      <td>240</td>\n",
       "      <td>241</td>\n",
       "      <td>257</td>\n",
       "      <td>248</td>\n",
       "      <td>273</td>\n",
       "      <td>273</td>\n",
       "      <td>265</td>\n",
       "      <td>241</td>\n",
       "    </tr>\n",
       "    <tr>\n",
       "      <th>75%</th>\n",
       "      <td>246</td>\n",
       "      <td>247</td>\n",
       "      <td>264</td>\n",
       "      <td>255</td>\n",
       "      <td>280</td>\n",
       "      <td>278</td>\n",
       "      <td>272</td>\n",
       "      <td>247</td>\n",
       "    </tr>\n",
       "    <tr>\n",
       "      <th>max</th>\n",
       "      <td>260</td>\n",
       "      <td>259</td>\n",
       "      <td>279</td>\n",
       "      <td>269</td>\n",
       "      <td>292</td>\n",
       "      <td>292</td>\n",
       "      <td>285</td>\n",
       "      <td>260</td>\n",
       "    </tr>\n",
       "  </tbody>\n",
       "</table>\n",
       "</div>"
      ],
      "text/plain": [
       "       MUX0  MUX1  MUX2  MUX3  MUX4  MUX5  MUX6  MUX7\n",
       "count 72000 72000 72000 72000 72000 72000 72000 72000\n",
       "mean    240   241   257   249   274   273   265   240\n",
       "std       7     7     7     7     6     5     7     8\n",
       "min     226   226   242   234   259   260   249   225\n",
       "25%     234   234   250   242   268   269   258   234\n",
       "50%     240   241   257   248   273   273   265   241\n",
       "75%     246   247   264   255   280   278   272   247\n",
       "max     260   259   279   269   292   292   285   260"
      ]
     },
     "execution_count": 4,
     "metadata": {},
     "output_type": "execute_result"
    }
   ],
   "source": [
    "df1001[['MUX0','MUX1','MUX2','MUX3','MUX4','MUX5','MUX6','MUX7']].describe()"
   ]
  },
  {
   "cell_type": "code",
   "execution_count": 5,
   "metadata": {},
   "outputs": [
    {
     "data": {
      "text/plain": [
       "<matplotlib.axes._subplots.AxesSubplot at 0x10b0ed8d0>"
      ]
     },
     "execution_count": 5,
     "metadata": {},
     "output_type": "execute_result"
    },
    {
     "data": {
      "image/png": "[encoded data removed]",
      "text/plain": [
       "<Figure size 432x288 with 1 Axes>"
      ]
     },
     "metadata": {
      "needs_background": "light"
     },
     "output_type": "display_data"
    }
   ],
   "source": [
    "df1001[['MUX0','MUX1','MUX2','MUX3','MUX4','MUX5','MUX6','MUX7']].rolling(180).mean().plot()"
   ]
  },
  {
   "cell_type": "markdown",
   "metadata": {},
   "source": [
    "# TEST1002"
   ]
  },
  {
   "cell_type": "code",
   "execution_count": 2,
   "metadata": {},
   "outputs": [
    {
     "name": "stdout",
     "output_type": "stream",
     "text": [
      "Duration: 10.0 hours\n"
     ]
    }
   ],
   "source": [
    "df1002 = pd.read_csv(\"test1002.csv\")\n",
    "print(\"Duration:\", df1002.shape[0]/(60*60), \"hours\")"
   ]
  },
  {
   "cell_type": "code",
   "execution_count": 3,
   "metadata": {},
   "outputs": [
    {
     "data": {
      "text/html": [
       "<div>\n",
       "<style scoped>\n",
       "    .dataframe tbody tr th:only-of-type {\n",
       "        vertical-align: middle;\n",
       "    }\n",
       "\n",
       "    .dataframe tbody tr th {\n",
       "        vertical-align: top;\n",
       "    }\n",
       "\n",
       "    .dataframe thead th {\n",
       "        text-align: right;\n",
       "    }\n",
       "</style>\n",
       "<table border=\"1\" class=\"dataframe\">\n",
       "  <thead>\n",
       "    <tr style=\"text-align: right;\">\n",
       "      <th></th>\n",
       "      <th>MUX0</th>\n",
       "      <th>MUX1</th>\n",
       "      <th>MUX2</th>\n",
       "      <th>MUX3</th>\n",
       "      <th>MUX4</th>\n",
       "      <th>MUX5</th>\n",
       "      <th>MUX6</th>\n",
       "      <th>MUX7</th>\n",
       "    </tr>\n",
       "  </thead>\n",
       "  <tbody>\n",
       "    <tr>\n",
       "      <th>count</th>\n",
       "      <td>36000</td>\n",
       "      <td>36000</td>\n",
       "      <td>36000</td>\n",
       "      <td>36000</td>\n",
       "      <td>36000</td>\n",
       "      <td>36000</td>\n",
       "      <td>36000</td>\n",
       "      <td>36000</td>\n",
       "    </tr>\n",
       "    <tr>\n",
       "      <th>mean</th>\n",
       "      <td>240</td>\n",
       "      <td>240</td>\n",
       "      <td>256</td>\n",
       "      <td>248</td>\n",
       "      <td>272</td>\n",
       "      <td>268</td>\n",
       "      <td>265</td>\n",
       "      <td>239</td>\n",
       "    </tr>\n",
       "    <tr>\n",
       "      <th>std</th>\n",
       "      <td>7</td>\n",
       "      <td>7</td>\n",
       "      <td>7</td>\n",
       "      <td>7</td>\n",
       "      <td>6</td>\n",
       "      <td>5</td>\n",
       "      <td>7</td>\n",
       "      <td>7</td>\n",
       "    </tr>\n",
       "    <tr>\n",
       "      <th>min</th>\n",
       "      <td>228</td>\n",
       "      <td>228</td>\n",
       "      <td>242</td>\n",
       "      <td>235</td>\n",
       "      <td>260</td>\n",
       "      <td>257</td>\n",
       "      <td>250</td>\n",
       "      <td>226</td>\n",
       "    </tr>\n",
       "    <tr>\n",
       "      <th>25%</th>\n",
       "      <td>234</td>\n",
       "      <td>233</td>\n",
       "      <td>249</td>\n",
       "      <td>242</td>\n",
       "      <td>266</td>\n",
       "      <td>264</td>\n",
       "      <td>258</td>\n",
       "      <td>232</td>\n",
       "    </tr>\n",
       "    <tr>\n",
       "      <th>50%</th>\n",
       "      <td>240</td>\n",
       "      <td>240</td>\n",
       "      <td>256</td>\n",
       "      <td>247</td>\n",
       "      <td>272</td>\n",
       "      <td>268</td>\n",
       "      <td>265</td>\n",
       "      <td>238</td>\n",
       "    </tr>\n",
       "    <tr>\n",
       "      <th>75%</th>\n",
       "      <td>247</td>\n",
       "      <td>246</td>\n",
       "      <td>264</td>\n",
       "      <td>255</td>\n",
       "      <td>279</td>\n",
       "      <td>273</td>\n",
       "      <td>271</td>\n",
       "      <td>246</td>\n",
       "    </tr>\n",
       "    <tr>\n",
       "      <th>max</th>\n",
       "      <td>254</td>\n",
       "      <td>253</td>\n",
       "      <td>270</td>\n",
       "      <td>260</td>\n",
       "      <td>285</td>\n",
       "      <td>283</td>\n",
       "      <td>279</td>\n",
       "      <td>254</td>\n",
       "    </tr>\n",
       "  </tbody>\n",
       "</table>\n",
       "</div>"
      ],
      "text/plain": [
       "       MUX0  MUX1  MUX2  MUX3  MUX4  MUX5  MUX6  MUX7\n",
       "count 36000 36000 36000 36000 36000 36000 36000 36000\n",
       "mean    240   240   256   248   272   268   265   239\n",
       "std       7     7     7     7     6     5     7     7\n",
       "min     228   228   242   235   260   257   250   226\n",
       "25%     234   233   249   242   266   264   258   232\n",
       "50%     240   240   256   247   272   268   265   238\n",
       "75%     247   246   264   255   279   273   271   246\n",
       "max     254   253   270   260   285   283   279   254"
      ]
     },
     "execution_count": 3,
     "metadata": {},
     "output_type": "execute_result"
    }
   ],
   "source": [
    "df1002[['MUX0','MUX1','MUX2','MUX3','MUX4','MUX5','MUX6','MUX7']].describe()"
   ]
  },
  {
   "cell_type": "code",
   "execution_count": 5,
   "metadata": {},
   "outputs": [
    {
     "data": {
      "text/plain": [
       "<matplotlib.axes._subplots.AxesSubplot at 0x10eca20b8>"
      ]
     },
     "execution_count": 5,
     "metadata": {},
     "output_type": "execute_result"
    },
    {
     "data": {
      "image/png": "[encoded data removed]",
      "text/plain": [
       "<Figure size 432x288 with 1 Axes>"
      ]
     },
     "metadata": {
      "needs_background": "light"
     },
     "output_type": "display_data"
    }
   ],
   "source": [
    "df1002[['MUX0','MUX1','MUX2','MUX3','MUX4','MUX5','MUX6','MUX7']].rolling(3600).mean().plot()"
   ]
  },
  {
   "cell_type": "markdown",
   "metadata": {},
   "source": [
    "# TEST2000"
   ]
  },
  {
   "cell_type": "code",
   "execution_count": 2,
   "metadata": {},
   "outputs": [
    {
     "name": "stdout",
     "output_type": "stream",
     "text": [
      "Duration: 10.0 hours\n"
     ]
    }
   ],
   "source": [
    "df2000 = pd.read_csv(\"test2000.csv\")\n",
    "print(\"Duration:\", df2000.shape[0]/(60*60), \"hours\")"
   ]
  },
  {
   "cell_type": "code",
   "execution_count": 3,
   "metadata": {},
   "outputs": [
    {
     "data": {
      "text/html": [
       "<div>\n",
       "<style scoped>\n",
       "    .dataframe tbody tr th:only-of-type {\n",
       "        vertical-align: middle;\n",
       "    }\n",
       "\n",
       "    .dataframe tbody tr th {\n",
       "        vertical-align: top;\n",
       "    }\n",
       "\n",
       "    .dataframe thead th {\n",
       "        text-align: right;\n",
       "    }\n",
       "</style>\n",
       "<table border=\"1\" class=\"dataframe\">\n",
       "  <thead>\n",
       "    <tr style=\"text-align: right;\">\n",
       "      <th></th>\n",
       "      <th>MUX0</th>\n",
       "      <th>MUX1</th>\n",
       "      <th>MUX2</th>\n",
       "      <th>MUX3</th>\n",
       "      <th>MUX4</th>\n",
       "      <th>MUX5</th>\n",
       "      <th>MUX6</th>\n",
       "      <th>MUX7</th>\n",
       "    </tr>\n",
       "  </thead>\n",
       "  <tbody>\n",
       "    <tr>\n",
       "      <th>count</th>\n",
       "      <td>36000</td>\n",
       "      <td>36000</td>\n",
       "      <td>36000</td>\n",
       "      <td>36000</td>\n",
       "      <td>36000</td>\n",
       "      <td>36000</td>\n",
       "      <td>36000</td>\n",
       "      <td>36000</td>\n",
       "    </tr>\n",
       "    <tr>\n",
       "      <th>mean</th>\n",
       "      <td>428</td>\n",
       "      <td>372</td>\n",
       "      <td>366</td>\n",
       "      <td>373</td>\n",
       "      <td>475</td>\n",
       "      <td>431</td>\n",
       "      <td>397</td>\n",
       "      <td>382</td>\n",
       "    </tr>\n",
       "    <tr>\n",
       "      <th>std</th>\n",
       "      <td>26</td>\n",
       "      <td>14</td>\n",
       "      <td>11</td>\n",
       "      <td>17</td>\n",
       "      <td>13</td>\n",
       "      <td>16</td>\n",
       "      <td>11</td>\n",
       "      <td>13</td>\n",
       "    </tr>\n",
       "    <tr>\n",
       "      <th>min</th>\n",
       "      <td>384</td>\n",
       "      <td>342</td>\n",
       "      <td>342</td>\n",
       "      <td>346</td>\n",
       "      <td>451</td>\n",
       "      <td>403</td>\n",
       "      <td>368</td>\n",
       "      <td>342</td>\n",
       "    </tr>\n",
       "    <tr>\n",
       "      <th>25%</th>\n",
       "      <td>406</td>\n",
       "      <td>362</td>\n",
       "      <td>357</td>\n",
       "      <td>357</td>\n",
       "      <td>464</td>\n",
       "      <td>420</td>\n",
       "      <td>390</td>\n",
       "      <td>374</td>\n",
       "    </tr>\n",
       "    <tr>\n",
       "      <th>50%</th>\n",
       "      <td>428</td>\n",
       "      <td>369</td>\n",
       "      <td>365</td>\n",
       "      <td>367</td>\n",
       "      <td>473</td>\n",
       "      <td>427</td>\n",
       "      <td>397</td>\n",
       "      <td>382</td>\n",
       "    </tr>\n",
       "    <tr>\n",
       "      <th>75%</th>\n",
       "      <td>448</td>\n",
       "      <td>378</td>\n",
       "      <td>373</td>\n",
       "      <td>388</td>\n",
       "      <td>485</td>\n",
       "      <td>437</td>\n",
       "      <td>404</td>\n",
       "      <td>391</td>\n",
       "    </tr>\n",
       "    <tr>\n",
       "      <th>max</th>\n",
       "      <td>494</td>\n",
       "      <td>413</td>\n",
       "      <td>408</td>\n",
       "      <td>418</td>\n",
       "      <td>518</td>\n",
       "      <td>492</td>\n",
       "      <td>436</td>\n",
       "      <td>424</td>\n",
       "    </tr>\n",
       "  </tbody>\n",
       "</table>\n",
       "</div>"
      ],
      "text/plain": [
       "       MUX0  MUX1  MUX2  MUX3  MUX4  MUX5  MUX6  MUX7\n",
       "count 36000 36000 36000 36000 36000 36000 36000 36000\n",
       "mean    428   372   366   373   475   431   397   382\n",
       "std      26    14    11    17    13    16    11    13\n",
       "min     384   342   342   346   451   403   368   342\n",
       "25%     406   362   357   357   464   420   390   374\n",
       "50%     428   369   365   367   473   427   397   382\n",
       "75%     448   378   373   388   485   437   404   391\n",
       "max     494   413   408   418   518   492   436   424"
      ]
     },
     "execution_count": 3,
     "metadata": {},
     "output_type": "execute_result"
    }
   ],
   "source": [
    "df2000[['MUX0','MUX1','MUX2','MUX3','MUX4','MUX5','MUX6','MUX7']].describe()"
   ]
  },
  {
   "cell_type": "code",
   "execution_count": 5,
   "metadata": {},
   "outputs": [
    {
     "data": {
      "text/plain": [
       "<matplotlib.axes._subplots.AxesSubplot at 0x7fbc920eb9e8>"
      ]
     },
     "execution_count": 5,
     "metadata": {},
     "output_type": "execute_result"
    },
    {
     "data": {
      "image/png": "[encoded data removed]",
      "text/plain": [
       "<Figure size 432x288 with 1 Axes>"
      ]
     },
     "metadata": {
      "needs_background": "light"
     },
     "output_type": "display_data"
    }
   ],
   "source": [
    "df2000[['MUX0','MUX1','MUX2','MUX3','MUX4','MUX5','MUX6','MUX7']].rolling(360).mean().plot()"
   ]
  },
  {
   "cell_type": "code",
   "execution_count": 17,
   "metadata": {},
   "outputs": [],
   "source": [
    "df2000['TIMESTAMP'] = pd.to_datetime(df2000['TIMESTAMP'],unit='s')"
   ]
  },
  {
   "cell_type": "code",
   "execution_count": 18,
   "metadata": {},
   "outputs": [
    {
     "name": "stdout",
     "output_type": "stream",
     "text": [
      "               TIMESTAMP  MUX0  MUX1  MUX2  MUX3  MUX4  MUX5  MUX6  MUX7\n",
      "9493 2019-12-29 17:24:51   473   393   402   408   518   485   410   402\n",
      "9500 2019-12-29 17:25:07   483   406   392   412   518   469   418   409\n"
     ]
    }
   ],
   "source": [
    "print(df2000[df2000['MUX4'] == 518])\n"
   ]
  },
  {
   "cell_type": "code",
   "execution_count": 24,
   "metadata": {},
   "outputs": [
    {
     "data": {
      "text/plain": [
       "<matplotlib.axes._subplots.AxesSubplot at 0x7fbc8f298518>"
      ]
     },
     "execution_count": 24,
     "metadata": {},
     "output_type": "execute_result"
    },
    {
     "data": {
      "image/png": "[encoded data removed]",
      "text/plain": [
       "<Figure size 432x288 with 1 Axes>"
      ]
     },
     "metadata": {
      "needs_background": "light"
     },
     "output_type": "display_data"
    }
   ],
   "source": [
    "df2000.plot(x='TIMESTAMP', y='MUX4')"
   ]
  },
  {
   "cell_type": "code",
   "execution_count": null,
   "metadata": {},
   "outputs": [],
   "source": []
  }
 ],
 "metadata": {
  "kernelspec": {
   "display_name": "Python 3",
   "language": "python",
   "name": "python3"
  },
  "language_info": {
   "codemirror_mode": {
    "name": "ipython",
    "version": 3
   },
   "file_extension": ".py",
   "mimetype": "text/x-python",
   "name": "python",
   "nbconvert_exporter": "python",
   "pygments_lexer": "ipython3",
   "version": "3.6.9"
  }
 },
 "nbformat": 4,
 "nbformat_minor": 2
}
