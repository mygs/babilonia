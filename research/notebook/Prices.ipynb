{
 "cells": [
  {
   "cell_type": "code",
   "execution_count": 1,
   "metadata": {},
   "outputs": [],
   "source": [
    "%matplotlib inline\n",
    "from matplotlib import pyplot as plt\n",
    "from matplotlib import dates as mdate\n",
    "from datetime import datetime\n",
    "import json, re, pymysql,  pandas\n",
    "from pandas.io.json import json_normalize\n",
    "#pandas.options.display.float_format = \"{:.0f}\".format\n",
    "pandas.set_option('display.max_rows', None)\n",
    "from pandas.plotting import register_matplotlib_converters\n",
    "register_matplotlib_converters()\n",
    "import ipywidgets as widgets \n",
    "from IPython.display import display, clear_output, Markdown"
   ]
  },
  {
   "cell_type": "code",
   "execution_count": 2,
   "metadata": {},
   "outputs": [],
   "source": [
    "class BabiloniaPriceDataAnalytics:\n",
    "    __SOURCES=['CEAGESP'] # coming soon ... 'STMARCHE'\n",
    "    __CEAGESP=None #do not need to query db everytime\n",
    "    __CEAGESP_refData=None\n",
    "    __CEAGESP_priceLevel=['Menor','Comun','Maior']\n",
    "    def __init__(self, config_path):\n",
    "        with open(config_path) as json_data_file:\n",
    "            data = json.load(json_data_file)\n",
    "            url = data['SQLALCHEMY_DATABASE_URI']\n",
    "            self.__MUX_PORT_THRESHOLD = data['MUX_PORT_THRESHOLD']\n",
    "        user, password, host, database = re.match('mysql://(.*?):(.*?)@(.*?)/(.*)', url).groups()\n",
    "        self.__CONN = pymysql.connect(host=host,port=3306,user=user,passwd=password,db=database)\n",
    "        with open(\"./ceagesp.json\") as ceagesp:\n",
    "            self.__CEAGESP_refData = json.load(ceagesp)\n",
    "    def get_sources(self):\n",
    "        return self.__SOURCES\n",
    "    def get_ceagesp_refdata(self):\n",
    "        return self.__CEAGESP_refData\n",
    "    def get_ceagesp_price_level(self):\n",
    "        return self.__CEAGESP_priceLevel\n",
    "    def get_ceagesp_data(self):\n",
    "        if self.__CEAGESP is None:\n",
    "            query=\"\"\"\n",
    "                SELECT DATE, DATA\n",
    "                FROM farmland.PRICES \n",
    "                WHERE SOURCE='CEAGESP';\n",
    "                \"\"\"\n",
    "            df = pandas.read_sql_query(query, self.__CONN)\n",
    "            pandas.to_datetime(df['DATE'])\n",
    "            df.set_index('DATE', inplace=True)\n",
    "            self.__CEAGESP = df\n",
    "            \n",
    "            if len(self.__CEAGESP) == 0:\n",
    "                print (\"get_ceagesp_data: no data found for!!!\")\n",
    "                return None\n",
    "            else:\n",
    "                print(\"get_ceagesp_data: data found. Memory usage:\",\n",
    "                      int(self.__CEAGESP.memory_usage(deep=True).sum()/1024),\"KB\")            \n",
    "        return self.__CEAGESP\n",
    "    \n",
    "    def get_ceagesp_dates(self):\n",
    "        self.get_ceagesp_data()\n",
    "        return self.__CEAGESP.index\n",
    "\n",
    "    def get_product_price(self, product, product_type, price_type):\n",
    "        self.get_ceagesp_data()\n",
    "        results =[]\n",
    "        for index, row in self.__CEAGESP.iterrows():\n",
    "            jd = json_normalize(json.loads(json.loads(row['DATA'])))\n",
    "            price = float( jd[(jd['Produto'] == product)& (jd['Classificacao']==product_type)][price_type].values[0].replace(',', '.'))\n",
    "            result={'DATE': index, 'PRICE': price}\n",
    "            results.append(result)\n",
    "        df = pandas.DataFrame(results) \n",
    "        df.set_index('DATE', inplace=True)\n",
    "        return df\n",
    "    \"\"\"\n",
    "    Using this function, you will explore Babilonia prices data\n",
    "    \"\"\"\n",
    "    def plot_price(self):\n",
    "        outt = widgets.Output()\n",
    "        dropdown_src = widgets.Dropdown(options=self.get_sources(), description='Source:')\n",
    "        btn_search = widgets.Button(description='Retrieve data',button_style='warning')\n",
    "        def btn_search_clicked(b):\n",
    "            with outt:\n",
    "                clear_output()\n",
    "                if self.get_ceagesp_data() is not None:\n",
    "                    dropdown_product.disabled = False           \n",
    "                else:\n",
    "                    dropdown_product.disabled = True\n",
    "                    dropdown_class.disabled = True\n",
    "                    dropdown_priceLevel.disabled = True\n",
    "\n",
    "        btn_search.on_click(btn_search_clicked)\n",
    "        menu = widgets.HBox([dropdown_src, btn_search])\n",
    "        def dropdown_product_on_event(change):\n",
    "            if change['type'] == 'change' and change['name'] == 'value':\n",
    "                dropdown_class.disabled = False\n",
    "                dropdown_priceLevel.disabled = False\n",
    "                dropdown_class.options = list(self.get_ceagesp_refdata()[change['new']].keys())\n",
    "\n",
    "        dropdown_product = widgets.Dropdown(options=list(self.get_ceagesp_refdata().keys()), \n",
    "                                             description='Product:', disabled=True)\n",
    "        dropdown_product.observe(dropdown_product_on_event)\n",
    "        \n",
    "        dropdown_class = widgets.Dropdown(options=[''], \n",
    "                                             description='Class:', disabled=True)\n",
    "        \n",
    "        dropdown_priceLevel = widgets.Dropdown(options=self.get_ceagesp_price_level(), \n",
    "                                             description='Price level:', disabled=True)\n",
    "        \n",
    "        btn_plot = widgets.Button(description='Plot!',button_style='danger')\n",
    "        \n",
    "        def on_btn_plot_clicked(b):\n",
    "            with outt:\n",
    "                clear_output()\n",
    "                data = self.get_product_price(dropdown_product.value,\n",
    "                                              dropdown_class.value,\n",
    "                                              dropdown_priceLevel.value)\n",
    "                info = self.get_ceagesp_refdata()[dropdown_product.value][dropdown_class.value]\n",
    "                print(\"Product:\",dropdown_product.value,\n",
    "                      \" Class:\", dropdown_class.value,\n",
    "                      \" Price:\", dropdown_priceLevel.value,\n",
    "                      \" Unit:\", info['unit'],\n",
    "                      \" quilo:\", info['quilo'])\n",
    "                plt.rcParams['figure.figsize'] = [15,7]\n",
    "                fig,ax = plt.subplots()\n",
    "                plt.xticks(rotation=45)\n",
    "                plt.plot(data, linestyle='solid', marker='None')\n",
    "                plt.show()\n",
    "        btn_plot.on_click(on_btn_plot_clicked)\n",
    "        filters = widgets.HBox((dropdown_product,dropdown_class, dropdown_priceLevel, btn_plot))\n",
    "        return widgets.VBox([menu, filters, outt])\n"
   ]
  },
  {
   "cell_type": "code",
   "execution_count": 3,
   "metadata": {},
   "outputs": [],
   "source": [
    "bpda = BabiloniaPriceDataAnalytics('../../server/app/config.json')\n",
    "#data = json.loads(json.loads(bpda.get_ceagesp_data().iloc[0]['DATA']))# first df element"
   ]
  },
  {
   "cell_type": "code",
   "execution_count": 4,
   "metadata": {},
   "outputs": [
    {
     "data": {
      "application/vnd.jupyter.widget-view+json": {
       "model_id": "ce988ac4c7f64c1b8a839c61a0770f7a",
       "version_major": 2,
       "version_minor": 0
      },
      "text/plain": [
       "VBox(children=(HBox(children=(Dropdown(description='Source:', options=('CEAGESP',), value='CEAGESP'), Button(b…"
      ]
     },
     "metadata": {},
     "output_type": "display_data"
    }
   ],
   "source": [
    "bpda.plot_price()"
   ]
  },
  {
   "cell_type": "code",
   "execution_count": null,
   "metadata": {},
   "outputs": [],
   "source": []
  }
 ],
 "metadata": {
  "kernelspec": {
   "display_name": "Python 3",
   "language": "python",
   "name": "python3"
  },
  "language_info": {
   "codemirror_mode": {
    "name": "ipython",
    "version": 3
   },
   "file_extension": ".py",
   "mimetype": "text/x-python",
   "name": "python",
   "nbconvert_exporter": "python",
   "pygments_lexer": "ipython3",
   "version": "3.6.9"
  }
 },
 "nbformat": 4,
 "nbformat_minor": 4
}
