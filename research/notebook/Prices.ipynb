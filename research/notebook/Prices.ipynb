{
 "cells": [
  {
   "cell_type": "code",
   "execution_count": 1,
   "metadata": {},
   "outputs": [],
   "source": [
    "%matplotlib inline\n",
    "from matplotlib import pyplot as plt\n",
    "from matplotlib import dates as mdate\n",
    "from datetime import datetime\n",
    "import json, re, pymysql,  pandas\n",
    "from pandas.io.json import json_normalize\n",
    "pandas.options.display.float_format = \"{:.0f}\".format\n",
    "pandas.set_option('display.max_rows', None)\n",
    "from pandas.plotting import register_matplotlib_converters\n",
    "register_matplotlib_converters()"
   ]
  },
  {
   "cell_type": "code",
   "execution_count": 2,
   "metadata": {},
   "outputs": [],
   "source": [
    "class BabiloniaPriceDataAnalytics:\n",
    "    __CEAGESP=None\n",
    "    \n",
    "    def __init__(self, config_path):\n",
    "        with open(config_path) as json_data_file:\n",
    "            data = json.load(json_data_file)\n",
    "            url = data['SQLALCHEMY_DATABASE_URI']\n",
    "            self.__MUX_PORT_THRESHOLD = data['MUX_PORT_THRESHOLD']\n",
    "        user, password, host, database = re.match('mysql://(.*?):(.*?)@(.*?)/(.*)', url).groups()\n",
    "        self.__CONN = pymysql.connect(host=host,port=3306,user=user,passwd=password,db=database)\n",
    "        \n",
    "    def get_ceagesp_data(self):\n",
    "        if self.__CEAGESP is None:\n",
    "            query=\"\"\"\n",
    "                SELECT DATE, DATA\n",
    "                FROM farmland.PRICES \n",
    "                WHERE SOURCE='CEAGESP';\n",
    "                \"\"\"\n",
    "            df = pandas.read_sql_query(query, self.__CONN)\n",
    "            pandas.to_datetime(df['DATE'])\n",
    "            df.set_index('DATE', inplace=True)\n",
    "            self.__CEAGESP = df\n",
    "        return self.__CEAGESP\n",
    "    \n",
    "    def get_ceagesp_dates(self):\n",
    "        self.get_ceagesp_data()\n",
    "        return self.__CEAGESP.index\n",
    "\n",
    "    def get_product_price(self, product, product_type):\n",
    "        self.get_ceagesp_data()\n",
    "        #TODO\n",
    "        return data"
   ]
  },
  {
   "cell_type": "code",
   "execution_count": 3,
   "metadata": {},
   "outputs": [],
   "source": [
    "bpda = BabiloniaPriceDataAnalytics('../../server/app/config.json')\n",
    "#print(bpda.get_product_price('RUCULA', 'HIDROPONICA'))\n",
    "#data = bpda.get_ceagesp_data()\n",
    "#print(bpda.get_ceagesp_dates())"
   ]
  },
  {
   "cell_type": "code",
   "execution_count": 4,
   "metadata": {},
   "outputs": [],
   "source": [
    "#date = datetime.strptime('2020-05-01', '%Y-%m-%d').date()\n",
    "#print(data[data.index > date])"
   ]
  },
  {
   "cell_type": "code",
   "execution_count": 5,
   "metadata": {},
   "outputs": [
    {
     "name": "stdout",
     "output_type": "stream",
     "text": [
      "                                                         DATA\n",
      "DATE                                                         \n",
      "2020-04-27  \"[{\\\"Produto\\\":\\\"ACELGA\\\",\\\"Classificacao\\\":\\\"...\n",
      "2020-04-29  \"[{\\\"Produto\\\":\\\"ACELGA\\\",\\\"Classificacao\\\":\\\"...\n",
      "2020-05-04  \"[{\\\"Produto\\\":\\\"ACELGA\\\",\\\"Classificacao\\\":\\\"...\n",
      "2020-05-08  \"[{\\\"Produto\\\":\\\"ACELGA\\\",\\\"Classificacao\\\":\\\"...\n",
      "2020-05-11  \"[{\\\"Produto\\\":\\\"ACELGA\\\",\\\"Classificacao\\\":\\\"...\n",
      "2020-05-13  \"[{\\\"Produto\\\":\\\"ACELGA\\\",\\\"Classificacao\\\":\\\"...\n",
      "2020-05-15  \"[{\\\"Produto\\\":\\\"ACELGA\\\",\\\"Classificacao\\\":\\\"...\n"
     ]
    }
   ],
   "source": [
    "product='ALFACE ROMANA'\n",
    "data = bpda.get_ceagesp_data()\n",
    "print(data)"
   ]
  },
  {
   "cell_type": "code",
   "execution_count": null,
   "metadata": {},
   "outputs": [],
   "source": [
    "results =[]\n",
    "for index, row in data.iterrows():\n",
    "    jd = json_normalize(json.loads(json.loads(row['DATA'])))\n",
    "    price = float( jd[(jd['Produto'] == product)]['Comun'].values[0].replace(',', '.'))\n",
    "    result={'DATE': index, 'PRICE': price}\n",
    "    results.append(result)\n",
    "print(results)\n"
   ]
  },
  {
   "cell_type": "code",
   "execution_count": null,
   "metadata": {},
   "outputs": [],
   "source": []
  }
 ],
 "metadata": {
  "kernelspec": {
   "display_name": "Python 3",
   "language": "python",
   "name": "python3"
  },
  "language_info": {
   "codemirror_mode": {
    "name": "ipython",
    "version": 3
   },
   "file_extension": ".py",
   "mimetype": "text/x-python",
   "name": "python",
   "nbconvert_exporter": "python",
   "pygments_lexer": "ipython3",
   "version": "3.6.9"
  }
 },
 "nbformat": 4,
 "nbformat_minor": 4
}
