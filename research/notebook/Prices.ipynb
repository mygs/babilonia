{
 "cells": [
  {
   "cell_type": "code",
   "execution_count": 44,
   "metadata": {},
   "outputs": [],
   "source": [
    "%matplotlib inline\n",
    "from matplotlib import pyplot as plt\n",
    "from matplotlib import dates as mdate\n",
    "import json, re, pymysql, datetime, pandas\n",
    "from pandas.io.json import json_normalize\n",
    "pandas.options.display.float_format = \"{:.0f}\".format\n",
    "from pandas.plotting import register_matplotlib_converters\n",
    "register_matplotlib_converters()"
   ]
  },
  {
   "cell_type": "code",
   "execution_count": 2,
   "metadata": {},
   "outputs": [],
   "source": [
    "class BabiloniaPriceDataAnalytics:\n",
    "    # variables can be access externally\n",
    "    CEAGESP={}\n",
    "    def __init__(self, config_path):\n",
    "        with open(config_path) as json_data_file:\n",
    "            data = json.load(json_data_file)\n",
    "            url = data['SQLALCHEMY_DATABASE_URI']\n",
    "            self.__MUX_PORT_THRESHOLD = data['MUX_PORT_THRESHOLD']\n",
    "        user, password, host, database = re.match('mysql://(.*?):(.*?)@(.*?)/(.*)', url).groups()\n",
    "        self.__CONN = pymysql.connect(host=host,port=3306,user=user,passwd=password,db=database)\n",
    "        \n",
    "    def get_ceagesp_prices(self):\n",
    "        query=\"\"\"\n",
    "            SELECT DATA \n",
    "            FROM farmland.PRICES \n",
    "            WHERE SOURCE='CEAGESP' \n",
    "                AND DATE = '2020-04-27';\n",
    "            \"\"\"\n",
    "        prices = pandas.read_sql_query(query, self.__CONN)\n",
    "        return prices"
   ]
  },
  {
   "cell_type": "code",
   "execution_count": 41,
   "metadata": {},
   "outputs": [],
   "source": [
    "bpda = BabiloniaPriceDataAnalytics('../../server/app/config.json')"
   ]
  },
  {
   "cell_type": "code",
   "execution_count": 49,
   "metadata": {},
   "outputs": [],
   "source": [
    "data = json.loads(bpda.get_ceagesp_prices()['DATA'][0])"
   ]
  },
  {
   "cell_type": "code",
   "execution_count": null,
   "metadata": {},
   "outputs": [],
   "source": [
    "json_normalize(json.loads(data))"
   ]
  },
  {
   "cell_type": "code",
   "execution_count": null,
   "metadata": {},
   "outputs": [],
   "source": []
  }
 ],
 "metadata": {
  "kernelspec": {
   "display_name": "Python 3",
   "language": "python",
   "name": "python3"
  },
  "language_info": {
   "codemirror_mode": {
    "name": "ipython",
    "version": 3
   },
   "file_extension": ".py",
   "mimetype": "text/x-python",
   "name": "python",
   "nbconvert_exporter": "python",
   "pygments_lexer": "ipython3",
   "version": "3.6.9"
  }
 },
 "nbformat": 4,
 "nbformat_minor": 4
}
