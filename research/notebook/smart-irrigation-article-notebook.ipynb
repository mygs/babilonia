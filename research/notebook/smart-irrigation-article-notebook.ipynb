{
 "cells": [
  {
   "cell_type": "code",
   "execution_count": 2,
   "metadata": {},
   "outputs": [],
   "source": [
    "import import_ipynb\n",
    "from BabiloniaDataAnalyticsOffline import BabiloniaDataAnalyticsOffline"
   ]
  },
  {
   "cell_type": "code",
   "execution_count": 21,
   "metadata": {},
   "outputs": [],
   "source": [
    "# 1625713200 >> Thursday, July 8, 2021 00:00:00 GMT-03:00\n",
    "# 1625799599 >> Thursday, July 8, 2021 23:59:59 GMT-03:00\n",
    "bdao = BabiloniaDataAnalyticsOffline(\"./vanda_1625713200_1625799599.pkl\")"
   ]
  },
  {
   "cell_type": "markdown",
   "metadata": {},
   "source": [
    "## Vanda\n",
    "* **Date**: Thursday, July 8, 2021\n",
    "![vanda](./img/vanda-muxes.png)"
   ]
  },
  {
   "cell_type": "code",
   "execution_count": 22,
   "metadata": {},
   "outputs": [
    {
     "data": {
      "application/vnd.jupyter.widget-view+json": {
       "model_id": "5e7be0164d674d71851e78fe5cc06a92",
       "version_major": 2,
       "version_minor": 0
      },
      "text/plain": [
       "VBox(children=(HBox(children=(Button(button_style='warning', description='Load data', style=ButtonStyle()),)),…"
      ]
     },
     "metadata": {},
     "output_type": "display_data"
    }
   ],
   "source": [
    "bdao.plot_node_moisture()\n",
    "# press \"Load data\" and select only \"MUX0\", \"MUX2\" and \"MUX4\" "
   ]
  },
  {
   "cell_type": "code",
   "execution_count": 23,
   "metadata": {},
   "outputs": [],
   "source": [
    "data = bdao.NODE_MOISTURE_DATA"
   ]
  },
  {
   "cell_type": "code",
   "execution_count": 24,
   "metadata": {},
   "outputs": [
    {
     "data": {
      "text/html": [
       "<div>\n",
       "<style scoped>\n",
       "    .dataframe tbody tr th:only-of-type {\n",
       "        vertical-align: middle;\n",
       "    }\n",
       "\n",
       "    .dataframe tbody tr th {\n",
       "        vertical-align: top;\n",
       "    }\n",
       "\n",
       "    .dataframe thead th {\n",
       "        text-align: right;\n",
       "    }\n",
       "</style>\n",
       "<table border=\"1\" class=\"dataframe\">\n",
       "  <thead>\n",
       "    <tr style=\"text-align: right;\">\n",
       "      <th></th>\n",
       "      <th>MUX0</th>\n",
       "      <th>MUX2</th>\n",
       "      <th>MUX4</th>\n",
       "    </tr>\n",
       "  </thead>\n",
       "  <tbody>\n",
       "    <tr>\n",
       "      <th>count</th>\n",
       "      <td>239</td>\n",
       "      <td>239</td>\n",
       "      <td>239</td>\n",
       "    </tr>\n",
       "    <tr>\n",
       "      <th>mean</th>\n",
       "      <td>414</td>\n",
       "      <td>392</td>\n",
       "      <td>454</td>\n",
       "    </tr>\n",
       "    <tr>\n",
       "      <th>std</th>\n",
       "      <td>2</td>\n",
       "      <td>2</td>\n",
       "      <td>3</td>\n",
       "    </tr>\n",
       "    <tr>\n",
       "      <th>min</th>\n",
       "      <td>408</td>\n",
       "      <td>387</td>\n",
       "      <td>448</td>\n",
       "    </tr>\n",
       "    <tr>\n",
       "      <th>25%</th>\n",
       "      <td>415</td>\n",
       "      <td>393</td>\n",
       "      <td>451</td>\n",
       "    </tr>\n",
       "    <tr>\n",
       "      <th>50%</th>\n",
       "      <td>415</td>\n",
       "      <td>393</td>\n",
       "      <td>454</td>\n",
       "    </tr>\n",
       "    <tr>\n",
       "      <th>75%</th>\n",
       "      <td>416</td>\n",
       "      <td>393</td>\n",
       "      <td>456</td>\n",
       "    </tr>\n",
       "    <tr>\n",
       "      <th>max</th>\n",
       "      <td>417</td>\n",
       "      <td>394</td>\n",
       "      <td>457</td>\n",
       "    </tr>\n",
       "  </tbody>\n",
       "</table>\n",
       "</div>"
      ],
      "text/plain": [
       "       MUX0  MUX2  MUX4\n",
       "count   239   239   239\n",
       "mean    414   392   454\n",
       "std       2     2     3\n",
       "min     408   387   448\n",
       "25%     415   393   451\n",
       "50%     415   393   454\n",
       "75%     416   393   456\n",
       "max     417   394   457"
      ]
     },
     "execution_count": 24,
     "metadata": {},
     "output_type": "execute_result"
    }
   ],
   "source": [
    "start = 1625724000 # July 8, 2021 3:00:00 AM GMT-03:00\n",
    "end   = 1625731200 # July 8, 2021 5:00:00 AM GMT-03:00\n",
    "data[(data.index > start) & (data.index < end)].describe()"
   ]
  },
  {
   "cell_type": "code",
   "execution_count": null,
   "metadata": {},
   "outputs": [],
   "source": []
  }
 ],
 "metadata": {
  "kernelspec": {
   "display_name": "Python 3",
   "language": "python",
   "name": "python3"
  },
  "language_info": {
   "codemirror_mode": {
    "name": "ipython",
    "version": 3
   },
   "file_extension": ".py",
   "mimetype": "text/x-python",
   "name": "python",
   "nbconvert_exporter": "python",
   "pygments_lexer": "ipython3",
   "version": "3.8.10"
  },
  "widgets": {
   "application/vnd.jupyter.widget-state+json": {
    "state": {
     "09b866dc757f4b16bd53707332f00851": {
      "model_module": "@jupyter-widgets/controls",
      "model_module_version": "1.5.0",
      "model_name": "CheckboxModel",
      "state": {
       "description": "MUX0",
       "disabled": true,
       "indent": false,
       "layout": "IPY_MODEL_e645ec8087434efeb2ea55ac3352304b",
       "style": "IPY_MODEL_62eb379a10974b669efe1e684e760acc",
       "value": true
      }
     },
     "0ea4077d60cf476089addd8ac5350c3e": {
      "model_module": "@jupyter-widgets/controls",
      "model_module_version": "1.5.0",
      "model_name": "CheckboxModel",
      "state": {
       "description": "Moisture Region",
       "disabled": true,
       "indent": false,
       "layout": "IPY_MODEL_4ddc618f426640f5930adff1a75a612d",
       "style": "IPY_MODEL_e6fb736c90994c4982f8008156925975",
       "value": false
      }
     },
     "1214944883f04e3591018d37faac8c22": {
      "model_module": "@jupyter-widgets/base",
      "model_module_version": "1.2.0",
      "model_name": "LayoutModel",
      "state": {}
     },
     "13a9bc050c734e01964576af76bd6f0a": {
      "model_module": "@jupyter-widgets/controls",
      "model_module_version": "1.5.0",
      "model_name": "ButtonModel",
      "state": {
       "button_style": "info",
       "description": "Today",
       "disabled": true,
       "layout": "IPY_MODEL_f6192aabf4244ef2b98721717825e243",
       "style": "IPY_MODEL_4770e0a1cb7148339154bf5b6e389ab4"
      }
     },
     "14afa65209ae44fc8f2da435b463bec1": {
      "model_module": "@jupyter-widgets/controls",
      "model_module_version": "1.5.0",
      "model_name": "CheckboxModel",
      "state": {
       "description": "MUX2",
       "disabled": true,
       "indent": false,
       "layout": "IPY_MODEL_bf2afb82549a4663887b847997012c6f",
       "style": "IPY_MODEL_cc851797fbe7462882dbc076d7e7f8d0",
       "value": true
      }
     },
     "190f634a615f4587b27065d7b27021ff": {
      "model_module": "@jupyter-widgets/controls",
      "model_module_version": "1.5.0",
      "model_name": "CheckboxModel",
      "state": {
       "description": "MUX3",
       "disabled": true,
       "indent": false,
       "layout": "IPY_MODEL_61f24b33b59c4aa98ddd4e466112182f",
       "style": "IPY_MODEL_601bb67fa48946a697c2b24ac52ed167",
       "value": true
      }
     },
     "1d2a974351784551abe856560b3aa230": {
      "model_module": "@jupyter-widgets/controls",
      "model_module_version": "1.5.0",
      "model_name": "VBoxModel",
      "state": {
       "children": [
        "IPY_MODEL_ed652c484f9043e890497feb667b3eb4",
        "IPY_MODEL_cbb880d983e949c9a88e53adc4cecf30",
        "IPY_MODEL_79d031980d41432d92950ff0a0af29b2",
        "IPY_MODEL_ef57ebd897194c5cb95c288d167982e8",
        "IPY_MODEL_dfb098a4bb9d4d409153229101f15832",
        "IPY_MODEL_ed750242c18b4b11addbcc41fb0cf62d"
       ],
       "layout": "IPY_MODEL_9c7b98ee525a42298268a2749c72d86a"
      }
     },
     "1f1dcf6b86f54c93af86f3511dab74b9": {
      "model_module": "@jupyter-widgets/base",
      "model_module_version": "1.2.0",
      "model_name": "LayoutModel",
      "state": {}
     },
     "2523b6a47f8b471796165d8ab7211eed": {
      "model_module": "@jupyter-widgets/base",
      "model_module_version": "1.2.0",
      "model_name": "LayoutModel",
      "state": {}
     },
     "2de0b467fb564e8bb26600931f8d2b9a": {
      "model_module": "@jupyter-widgets/base",
      "model_module_version": "1.2.0",
      "model_name": "LayoutModel",
      "state": {}
     },
     "342f76c040b345078e8b60feebd720e3": {
      "model_module": "@jupyter-widgets/controls",
      "model_module_version": "1.5.0",
      "model_name": "CheckboxModel",
      "state": {
       "description": "MUX4",
       "disabled": true,
       "indent": false,
       "layout": "IPY_MODEL_7cfdd5673e7640dbb16ebdb234d3604d",
       "style": "IPY_MODEL_cf540d438e324140add4dcdd2dc89aba",
       "value": true
      }
     },
     "36a6a31fbbe54257b4d8e9b6e88651b0": {
      "model_module": "@jupyter-widgets/controls",
      "model_module_version": "1.5.0",
      "model_name": "DescriptionStyleModel",
      "state": {
       "description_width": ""
      }
     },
     "385e87638231402bab5fab4d12b63f5c": {
      "model_module": "@jupyter-widgets/controls",
      "model_module_version": "1.5.0",
      "model_name": "ButtonModel",
      "state": {
       "button_style": "warning",
       "description": "Retrieve data",
       "layout": "IPY_MODEL_ff01c48a197342b68e8fa87299caee8a",
       "style": "IPY_MODEL_eac3f0f97c71463dab945c32bc4e26f6"
      }
     },
     "4770e0a1cb7148339154bf5b6e389ab4": {
      "model_module": "@jupyter-widgets/controls",
      "model_module_version": "1.5.0",
      "model_name": "ButtonStyleModel",
      "state": {}
     },
     "4ddc618f426640f5930adff1a75a612d": {
      "model_module": "@jupyter-widgets/base",
      "model_module_version": "1.2.0",
      "model_name": "LayoutModel",
      "state": {}
     },
     "54e00290426a497186b292ac31ca2c93": {
      "model_module": "@jupyter-widgets/controls",
      "model_module_version": "1.5.0",
      "model_name": "ButtonModel",
      "state": {
       "button_style": "warning",
       "description": "Latest 48 hrs",
       "disabled": true,
       "layout": "IPY_MODEL_a5ebc009e1164821b16d945235f3049d",
       "style": "IPY_MODEL_7056306a6e0b43bfad0f70234dbd7519"
      }
     },
     "5cc10ff93ce549a0a0974b5397fd7a6a": {
      "model_module": "@jupyter-widgets/controls",
      "model_module_version": "1.5.0",
      "model_name": "ButtonStyleModel",
      "state": {}
     },
     "601bb67fa48946a697c2b24ac52ed167": {
      "model_module": "@jupyter-widgets/controls",
      "model_module_version": "1.5.0",
      "model_name": "DescriptionStyleModel",
      "state": {
       "description_width": ""
      }
     },
     "61f24b33b59c4aa98ddd4e466112182f": {
      "model_module": "@jupyter-widgets/base",
      "model_module_version": "1.2.0",
      "model_name": "LayoutModel",
      "state": {}
     },
     "62eb379a10974b669efe1e684e760acc": {
      "model_module": "@jupyter-widgets/controls",
      "model_module_version": "1.5.0",
      "model_name": "DescriptionStyleModel",
      "state": {
       "description_width": ""
      }
     },
     "67723e64a7574e759f92e432f41b5641": {
      "model_module": "@jupyter-widgets/controls",
      "model_module_version": "1.5.0",
      "model_name": "DescriptionStyleModel",
      "state": {
       "description_width": ""
      }
     },
     "6ec23acb0bb74c93820187034b6ab55d": {
      "model_module": "@jupyter-widgets/base",
      "model_module_version": "1.2.0",
      "model_name": "LayoutModel",
      "state": {}
     },
     "7056306a6e0b43bfad0f70234dbd7519": {
      "model_module": "@jupyter-widgets/controls",
      "model_module_version": "1.5.0",
      "model_name": "ButtonStyleModel",
      "state": {}
     },
     "7197a35ab6ad423db69b2349f436cc97": {
      "model_module": "@jupyter-widgets/controls",
      "model_module_version": "1.5.0",
      "model_name": "CheckboxModel",
      "state": {
       "description": "MUX7",
       "disabled": true,
       "indent": false,
       "layout": "IPY_MODEL_2de0b467fb564e8bb26600931f8d2b9a",
       "style": "IPY_MODEL_36a6a31fbbe54257b4d8e9b6e88651b0",
       "value": true
      }
     },
     "79d031980d41432d92950ff0a0af29b2": {
      "model_module": "@jupyter-widgets/controls",
      "model_module_version": "1.5.0",
      "model_name": "FloatSliderModel",
      "state": {
       "description": "Rolling:",
       "disabled": true,
       "layout": "IPY_MODEL_aa23ccec29724dc093a05d8f6cbba63b",
       "max": 200,
       "min": 1,
       "style": "IPY_MODEL_f928be76e32049a183ecc3c149206523",
       "value": 60
      }
     },
     "7cfdd5673e7640dbb16ebdb234d3604d": {
      "model_module": "@jupyter-widgets/base",
      "model_module_version": "1.2.0",
      "model_name": "LayoutModel",
      "state": {}
     },
     "8b99a7375aba4875a0adfedcebd04fff": {
      "model_module": "@jupyter-widgets/base",
      "model_module_version": "1.2.0",
      "model_name": "LayoutModel",
      "state": {}
     },
     "9c59b4ce7efa46ac84060471ca85e25a": {
      "model_module": "@jupyter-widgets/base",
      "model_module_version": "1.2.0",
      "model_name": "LayoutModel",
      "state": {}
     },
     "9c7b98ee525a42298268a2749c72d86a": {
      "model_module": "@jupyter-widgets/base",
      "model_module_version": "1.2.0",
      "model_name": "LayoutModel",
      "state": {}
     },
     "a0642fe721ff455793308d54fb37ae08": {
      "model_module": "@jupyter-widgets/controls",
      "model_module_version": "1.5.0",
      "model_name": "SliderStyleModel",
      "state": {
       "description_width": ""
      }
     },
     "a5ebc009e1164821b16d945235f3049d": {
      "model_module": "@jupyter-widgets/base",
      "model_module_version": "1.2.0",
      "model_name": "LayoutModel",
      "state": {}
     },
     "aa03922c192f426ba5e84be70936d7e6": {
      "model_module": "@jupyter-widgets/controls",
      "model_module_version": "1.5.0",
      "model_name": "ButtonModel",
      "state": {
       "button_style": "success",
       "description": "Yesterday",
       "disabled": true,
       "layout": "IPY_MODEL_ed25699b093b45dfac77543313521d2b",
       "style": "IPY_MODEL_e4649bd06ac24c35bfa01047bc2f06d3"
      }
     },
     "aa23ccec29724dc093a05d8f6cbba63b": {
      "model_module": "@jupyter-widgets/base",
      "model_module_version": "1.2.0",
      "model_name": "LayoutModel",
      "state": {}
     },
     "b1f62c36c19c414980746b838e6c1c28": {
      "model_module": "@jupyter-widgets/base",
      "model_module_version": "1.2.0",
      "model_name": "LayoutModel",
      "state": {
       "width": "95%"
      }
     },
     "b25e58b9f2ff47e6aafbaa4e52fb9ebf": {
      "model_module": "@jupyter-widgets/base",
      "model_module_version": "1.2.0",
      "model_name": "LayoutModel",
      "state": {}
     },
     "bf2afb82549a4663887b847997012c6f": {
      "model_module": "@jupyter-widgets/base",
      "model_module_version": "1.2.0",
      "model_name": "LayoutModel",
      "state": {}
     },
     "c53a42a6c61a43428203bc732e2d7b86": {
      "model_module": "@jupyter-widgets/controls",
      "model_module_version": "1.5.0",
      "model_name": "CheckboxModel",
      "state": {
       "description": "MUX1",
       "disabled": true,
       "indent": false,
       "layout": "IPY_MODEL_8b99a7375aba4875a0adfedcebd04fff",
       "style": "IPY_MODEL_67723e64a7574e759f92e432f41b5641",
       "value": true
      }
     },
     "cbb880d983e949c9a88e53adc4cecf30": {
      "model_module": "@jupyter-widgets/controls",
      "model_module_version": "1.5.0",
      "model_name": "HBoxModel",
      "state": {
       "children": [
        "IPY_MODEL_09b866dc757f4b16bd53707332f00851",
        "IPY_MODEL_c53a42a6c61a43428203bc732e2d7b86",
        "IPY_MODEL_14afa65209ae44fc8f2da435b463bec1",
        "IPY_MODEL_190f634a615f4587b27065d7b27021ff",
        "IPY_MODEL_342f76c040b345078e8b60feebd720e3",
        "IPY_MODEL_d345358a5f7441b19ceb2f6643c47d4c",
        "IPY_MODEL_7197a35ab6ad423db69b2349f436cc97"
       ],
       "layout": "IPY_MODEL_b25e58b9f2ff47e6aafbaa4e52fb9ebf"
      }
     },
     "cc851797fbe7462882dbc076d7e7f8d0": {
      "model_module": "@jupyter-widgets/controls",
      "model_module_version": "1.5.0",
      "model_name": "DescriptionStyleModel",
      "state": {
       "description_width": ""
      }
     },
     "cf540d438e324140add4dcdd2dc89aba": {
      "model_module": "@jupyter-widgets/controls",
      "model_module_version": "1.5.0",
      "model_name": "DescriptionStyleModel",
      "state": {
       "description_width": ""
      }
     },
     "d345358a5f7441b19ceb2f6643c47d4c": {
      "model_module": "@jupyter-widgets/controls",
      "model_module_version": "1.5.0",
      "model_name": "CheckboxModel",
      "state": {
       "description": "MUX5",
       "disabled": true,
       "indent": false,
       "layout": "IPY_MODEL_9c59b4ce7efa46ac84060471ca85e25a",
       "style": "IPY_MODEL_dd644573d9ac4d91bab6da0ed3a66044",
       "value": true
      }
     },
     "dd644573d9ac4d91bab6da0ed3a66044": {
      "model_module": "@jupyter-widgets/controls",
      "model_module_version": "1.5.0",
      "model_name": "DescriptionStyleModel",
      "state": {
       "description_width": ""
      }
     },
     "dfb098a4bb9d4d409153229101f15832": {
      "model_module": "@jupyter-widgets/controls",
      "model_module_version": "1.5.0",
      "model_name": "HBoxModel",
      "state": {
       "children": [
        "IPY_MODEL_e2c00d1400994a3287580ad8e59ba239",
        "IPY_MODEL_13a9bc050c734e01964576af76bd6f0a",
        "IPY_MODEL_aa03922c192f426ba5e84be70936d7e6",
        "IPY_MODEL_54e00290426a497186b292ac31ca2c93",
        "IPY_MODEL_0ea4077d60cf476089addd8ac5350c3e"
       ],
       "layout": "IPY_MODEL_dfc184a252644a2f896ab81a3adad285"
      }
     },
     "dfc184a252644a2f896ab81a3adad285": {
      "model_module": "@jupyter-widgets/base",
      "model_module_version": "1.2.0",
      "model_name": "LayoutModel",
      "state": {}
     },
     "e2c00d1400994a3287580ad8e59ba239": {
      "model_module": "@jupyter-widgets/controls",
      "model_module_version": "1.5.0",
      "model_name": "ButtonModel",
      "state": {
       "button_style": "danger",
       "description": "Filter Range",
       "disabled": true,
       "layout": "IPY_MODEL_2523b6a47f8b471796165d8ab7211eed",
       "style": "IPY_MODEL_5cc10ff93ce549a0a0974b5397fd7a6a"
      }
     },
     "e4649bd06ac24c35bfa01047bc2f06d3": {
      "model_module": "@jupyter-widgets/controls",
      "model_module_version": "1.5.0",
      "model_name": "ButtonStyleModel",
      "state": {}
     },
     "e645ec8087434efeb2ea55ac3352304b": {
      "model_module": "@jupyter-widgets/base",
      "model_module_version": "1.2.0",
      "model_name": "LayoutModel",
      "state": {}
     },
     "e6fb736c90994c4982f8008156925975": {
      "model_module": "@jupyter-widgets/controls",
      "model_module_version": "1.5.0",
      "model_name": "DescriptionStyleModel",
      "state": {
       "description_width": ""
      }
     },
     "ea091393e2c14c9097585d2489259680": {
      "model_module": "@jupyter-widgets/controls",
      "model_module_version": "1.5.0",
      "model_name": "DescriptionStyleModel",
      "state": {
       "description_width": ""
      }
     },
     "eac3f0f97c71463dab945c32bc4e26f6": {
      "model_module": "@jupyter-widgets/controls",
      "model_module_version": "1.5.0",
      "model_name": "ButtonStyleModel",
      "state": {}
     },
     "ed25699b093b45dfac77543313521d2b": {
      "model_module": "@jupyter-widgets/base",
      "model_module_version": "1.2.0",
      "model_name": "LayoutModel",
      "state": {}
     },
     "ed652c484f9043e890497feb667b3eb4": {
      "model_module": "@jupyter-widgets/controls",
      "model_module_version": "1.5.0",
      "model_name": "HBoxModel",
      "state": {
       "children": [
        "IPY_MODEL_fa1a29d486f045a6b1fe38014e2cc849",
        "IPY_MODEL_385e87638231402bab5fab4d12b63f5c"
       ],
       "layout": "IPY_MODEL_1214944883f04e3591018d37faac8c22"
      }
     },
     "ed750242c18b4b11addbcc41fb0cf62d": {
      "model_module": "@jupyter-widgets/output",
      "model_module_version": "1.0.0",
      "model_name": "OutputModel",
      "state": {
       "layout": "IPY_MODEL_1f1dcf6b86f54c93af86f3511dab74b9"
      }
     },
     "ef57ebd897194c5cb95c288d167982e8": {
      "model_module": "@jupyter-widgets/controls",
      "model_module_version": "1.5.0",
      "model_name": "IntRangeSliderModel",
      "state": {
       "_model_name": "IntRangeSliderModel",
       "_view_name": "IntRangeSliderView",
       "continuous_update": false,
       "description": "Range:",
       "disabled": true,
       "layout": "IPY_MODEL_b1f62c36c19c414980746b838e6c1c28",
       "max": 0,
       "step": 5,
       "style": "IPY_MODEL_a0642fe721ff455793308d54fb37ae08",
       "value": [
        0,
        0
       ]
      }
     },
     "f6192aabf4244ef2b98721717825e243": {
      "model_module": "@jupyter-widgets/base",
      "model_module_version": "1.2.0",
      "model_name": "LayoutModel",
      "state": {}
     },
     "f928be76e32049a183ecc3c149206523": {
      "model_module": "@jupyter-widgets/controls",
      "model_module_version": "1.5.0",
      "model_name": "SliderStyleModel",
      "state": {
       "description_width": ""
      }
     },
     "fa1a29d486f045a6b1fe38014e2cc849": {
      "model_module": "@jupyter-widgets/controls",
      "model_module_version": "1.5.0",
      "model_name": "DropdownModel",
      "state": {
       "_options_labels": [
        "oasis-397c0e (Apr-12 11:11)",
        "oasis-39732c (Apr-12 11:11)",
        "oasis-397988 (Feb-29 17:44)",
        "oasis-312193 (Nov-23 09:51)"
       ],
       "description": "Node:",
       "index": 0,
       "layout": "IPY_MODEL_6ec23acb0bb74c93820187034b6ab55d",
       "style": "IPY_MODEL_ea091393e2c14c9097585d2489259680"
      }
     },
     "ff01c48a197342b68e8fa87299caee8a": {
      "model_module": "@jupyter-widgets/base",
      "model_module_version": "1.2.0",
      "model_name": "LayoutModel",
      "state": {}
     }
    },
    "version_major": 2,
    "version_minor": 0
   }
  }
 },
 "nbformat": 4,
 "nbformat_minor": 2
}
