{
 "cells": [
  {
   "cell_type": "markdown",
   "metadata": {},
   "source": [
    "# IRRIGATION ADVICE "
   ]
  },
  {
   "cell_type": "code",
   "execution_count": 194,
   "metadata": {},
   "outputs": [],
   "source": [
    "import import_ipynb\n",
    "import datetime\n",
    "import pandas\n",
    "import json\n",
    "import requests\n",
    "from numpy import nan\n",
    "import matplotlib.pyplot as plt\n",
    "from pandas.plotting import register_matplotlib_converters\n",
    "register_matplotlib_converters()\n",
    "from matplotlib import dates as mdate\n",
    "from sklearn.linear_model import LinearRegression\n",
    "from IPython.display import Image\n",
    "pandas.options.display.float_format = '{:,.3f}'.format\n",
    "from BabiloniaDataAnalyticsOffline import BabiloniaDataAnalyticsOffline\n",
    "\n",
    "#WEATHER_KEY secret\n",
    "WEATHER_KEY = None\n",
    "CFG = None\n",
    "with open('../../server/app/config.json') as json_data_file:\n",
    "    data = json.load(json_data_file)\n",
    "    WEATHER_KEY = data[\"WEATHER_KEY\"]\n",
    "    CFG = data"
   ]
  },
  {
   "cell_type": "code",
   "execution_count": 332,
   "metadata": {},
   "outputs": [],
   "source": [
    "# CONSTANTS\n",
    "\n",
    "MOISTURE_PROBES = ['MUX0','MUX1','MUX2','MUX3','MUX4','MUX5','MUX6','MUX7']\n",
    "ROLLING_WINDOW = 30 # RUPTURE_LEVEL_THRESHOLD and PCT_CHANGE_PERIOD are affected by this value\n",
    "RUPTURE_LEVEL_THRESHOLD = 0.015\n",
    "PCT_CHANGE_PERIOD = 10 # RUPTURE_LEVEL_THRESHOLD is affected by this value\n",
    "HEARTBEAT_PERIOD=30 # (seconds) OMG 2 heartbeats\n",
    "MOISTURE_DATA_PERIOD = 3*3600 # (seconds)\n",
    "FORECAST_TIME_AHEAD = MOISTURE_DATA_PERIOD\n",
    "\n",
    "PRECIPITATION_PROBABILITY_THRESHOLD=0.25\n",
    "LN_SCORE_THRESHOLD=0.3\n",
    "LATEST_LEVEL_CHECK_WINDOW=30\n",
    "LATEST_LEVEL_CHECK_QUANTILE=0.3\n",
    "\n",
    "# FUNCTIONS\n",
    "\n",
    "def plot(series): \n",
    "    plt.rcParams['figure.figsize'] = [15,7]\n",
    "    plt.rcParams['timezone'] = 'America/Sao_Paulo'\n",
    "\n",
    "    fig,ax = plt.subplots()\n",
    "    x = mdate.epoch2num(series.index)\n",
    "    fmt = mdate.DateFormatter('%y-%m-%d %H:%M')\n",
    "\n",
    "    ax.xaxis.set_major_formatter(fmt)\n",
    "    plt.xticks( rotation=25 )\n",
    "    plt.plot_date(x, series, linestyle='solid', marker='None')\n",
    "    plt.legend(MOISTURE_PROBES)\n",
    "    plt.show()\n",
    "    \n",
    "def filter_noise_in_moisture_data_cache(data):\n",
    "    return data.rolling(ROLLING_WINDOW).mean().dropna()\n",
    "    \n",
    "def detect_rupture_oasis(data):\n",
    "    #Percentage change between the current and a prior element\n",
    "    # Finding negative or positive slopes ...\n",
    "    # percent change over given number of period.\n",
    "    pct_change_series = data.pct_change(periods=PCT_CHANGE_PERIOD).dropna()\n",
    "    ### Gathering data\n",
    "    ruptures={}\n",
    "    min_probes={}\n",
    "    max_probes={}\n",
    "    for mux in MOISTURE_PROBES:\n",
    "        min_entry={}\n",
    "        min_entry['epoch'] = pct_change_series[mux].idxmin()\n",
    "        min_entry['value'] = pct_change_series[mux][min_entry['epoch']]\n",
    "        if min_entry['value'] < -RUPTURE_LEVEL_THRESHOLD:\n",
    "            min_probes[mux] = min_entry\n",
    "\n",
    "        max_entry={}\n",
    "        max_entry['epoch'] = pct_change_series[mux].idxmax()\n",
    "        max_entry['value'] = pct_change_series[mux][max_entry['epoch']]\n",
    "        if max_entry['value'] > RUPTURE_LEVEL_THRESHOLD:\n",
    "            max_probes[mux] = max_entry\n",
    "    ruptures['downward'] = pandas.DataFrame(data=min_probes).T\n",
    "    ruptures['upward'] =  pandas.DataFrame(data=max_probes).T\n",
    "    return ruptures\n",
    "\n",
    "def get_latest_moisture_level(data):\n",
    "    return data.tail(LATEST_LEVEL_CHECK_WINDOW).quantile(LATEST_LEVEL_CHECK_QUANTILE).round(0).astype(int)\n",
    "\n",
    "def linear_regressor(data):\n",
    "    X = data.index.to_numpy().reshape(-1, 1)\n",
    "    entries={}\n",
    "    for mux in MOISTURE_PROBES:\n",
    "        Y = data[mux].values.reshape(-1, 1)\n",
    "        linear_regressor = LinearRegression()  # create object for the class\n",
    "        linear_regressor.fit(X, Y)  # perform linear regression\n",
    "        Y_pred = linear_regressor.predict(X)  # make predictions\n",
    "        entry={}\n",
    "        entry['score']=linear_regressor.score(X,Y)\n",
    "        entry['coef'] =linear_regressor.coef_[0][0]\n",
    "        entries[mux] = entry\n",
    "    result = pandas.DataFrame(data=entries).T # transpose\n",
    "    return result\n",
    "\n",
    "def will_rain(now, display):\n",
    "    will_rain = False\n",
    "    lat = -22.019989\n",
    "    long = -47.312531\n",
    "    hourly_forecast={}\n",
    "    try:\n",
    "        response = requests.get(\n",
    "        'https://api.forecast.io/forecast/%s/%s,%s,%s?units=si&lang=pt&exclude=currently,flags,alerts,daily'\n",
    "        %(WEATHER_KEY, lat, long,now))\n",
    "        data = response.json()\n",
    "        hourly_forecast = pandas.DataFrame(data=data[\"hourly\"][\"data\"])\n",
    "        hourly_forecast.set_index('time', inplace=True)\n",
    "        hourly_forecast_filtered = hourly_forecast[(hourly_forecast.index >= now ) & (hourly_forecast.index < now + FORECAST_TIME_AHEAD)]\n",
    "        will_rain = len(hourly_forecast_filtered[\n",
    "                        (hourly_forecast_filtered['precipProbability'] >= PRECIPITATION_PROBABILITY_THRESHOLD) |\n",
    "                        (hourly_forecast_filtered['icon'] == 'rain')]) > 0\n",
    "    except requests.ConnectionError:\n",
    "        self.logger.debug(\"[will_rain] ConnectionError!!!\")\n",
    "    if display:\n",
    "        return hourly_forecast_filtered\n",
    "    return will_rain\n",
    "\n",
    "\n",
    "def moisture_level_valid_value(value):\n",
    "    nosoil = int(CFG['MUX_PORT_THRESHOLD']['NOSOIL'])\n",
    "    offline = int(CFG['MUX_PORT_THRESHOLD']['OFFLINE'])\n",
    "    if len(value) == 0:\n",
    "        return False\n",
    "    else:\n",
    "        iv = int(value)\n",
    "        if (iv < offline) | (iv > nosoil):\n",
    "            return False\n",
    "    return True\n",
    "\n",
    "\n",
    "def moisture_level(node_training):\n",
    "    probes_moisture_level={}\n",
    "    dry = node_training.loc[node_training['VALUE'] == 'soil_dry']\n",
    "    wet = node_training.loc[node_training['VALUE'] == 'soil_wet']\n",
    "    default = int(CFG['MUX_PORT_THRESHOLD']['WET'])\n",
    "\n",
    "    for probe in valid_probes:\n",
    "        if not moisture_level_valid_value(dry[probe]):\n",
    "            if not moisture_level_valid_value(wet[probe]):\n",
    "                # SCENARIO A: No training feedback. Use defaults\n",
    "                probes_moisture_level[probe] = default\n",
    "            else: \n",
    "                wp = int(wet[probe])\n",
    "                #  There is ONLY wet threshold feedback\n",
    "                if wp > default:\n",
    "                    # SCENARIO F: Change wet threshold due the feedback\n",
    "                    probes_moisture_level[probe] = wp\n",
    "                else:\n",
    "                    # SCENARIO E: Do not change wet threshold. Default level might be ok\n",
    "                    probes_moisture_level[probe] = default\n",
    "        else:\n",
    "            if not moisture_level_valid_value(wet[probe]):\n",
    "                #  There is ONLY dry threshold feedback\n",
    "                dp = int(dry[probe])\n",
    "                if dp < default:\n",
    "                    # SCENARIO G: Change wet threshold due the feedback\n",
    "                    probes_moisture_level[probe] = dp\n",
    "                else:\n",
    "                    # SCENARIO D: Do not change wet threshold. Default level might be ok\n",
    "                    probes_moisture_level[probe] = default\n",
    "            else:\n",
    "                # There are dry and wet feedbacks\n",
    "                wp = int(wet[probe])\n",
    "                dp = int(dry[probe])\n",
    "                if wp < default:\n",
    "                    if dp > default:\n",
    "                        # SCENARIO A: Lets keep current default threshold\n",
    "                        probes_moisture_level[probe] = default\n",
    "                    else:\n",
    "                        if wp > dp:\n",
    "                            # Strange scenario\n",
    "                            probes_moisture_level[probe] = default\n",
    "                        else:\n",
    "                        # SCENARIO C: Dry and Wet feedbacks are LOWER than current threshold\n",
    "                            probes_moisture_level[probe] = (dp + wb)/2\n",
    "                else:\n",
    "                    # SCENARIO B: Dry and Wet feedbacks are HIGHER than current threshold\n",
    "                    probes_moisture_level[probe] = (dp + wb)/2\n",
    "\n",
    "    return pandas.Series(probes_moisture_level)"
   ]
  },
  {
   "cell_type": "code",
   "execution_count": 333,
   "metadata": {},
   "outputs": [
    {
     "data": {
      "application/vnd.jupyter.widget-view+json": {
       "model_id": "c1d296b3f0814a43a397b06f99d1f718",
       "version_major": 2,
       "version_minor": 0
      },
      "text/plain": [
       "VBox(children=(HBox(children=(Button(button_style='warning', description='Load data', style=ButtonStyle()),)),…"
      ]
     },
     "metadata": {},
     "output_type": "display_data"
    }
   ],
   "source": [
    "bda = BabiloniaDataAnalyticsOffline(\"./moisture_data_1604935353_1609325379.pkl\")\n",
    "bda.plot_node_moisture()"
   ]
  },
  {
   "cell_type": "code",
   "execution_count": 228,
   "metadata": {},
   "outputs": [],
   "source": [
    "#TEST DATA\n",
    "moisture_data = bda.NODE_MOISTURE_DATA[(bda.NODE_MOISTURE_DATA.index >= bda.START_TIME) & (bda.NODE_MOISTURE_DATA.index <= bda.NOW)]\n",
    "#plot(moisture_data)"
   ]
  },
  {
   "cell_type": "code",
   "execution_count": 229,
   "metadata": {
    "scrolled": true
   },
   "outputs": [
    {
     "data": {
      "image/png": "[encoded data removed]",
      "text/plain": [
       "<Figure size 1080x504 with 1 Axes>"
      ]
     },
     "metadata": {
      "needs_background": "light"
     },
     "output_type": "display_data"
    }
   ],
   "source": [
    "data_noise_filtered = filter_noise_in_moisture_data_cache(moisture_data)\n",
    "plot(data_noise_filtered)"
   ]
  },
  {
   "cell_type": "code",
   "execution_count": 230,
   "metadata": {
    "scrolled": true
   },
   "outputs": [],
   "source": [
    "#plot(data_noise_filtered.pct_change(periods=PCT_CHANGE_PERIOD).dropna())"
   ]
  },
  {
   "cell_type": "code",
   "execution_count": 231,
   "metadata": {},
   "outputs": [
    {
     "data": {
      "text/plain": [
       "True"
      ]
     },
     "execution_count": 231,
     "metadata": {},
     "output_type": "execute_result"
    }
   ],
   "source": [
    "will_rain(bda.NOW, False)"
   ]
  },
  {
   "cell_type": "code",
   "execution_count": 232,
   "metadata": {},
   "outputs": [
    {
     "name": "stdout",
     "output_type": "stream",
     "text": [
      "['MUX0' 'MUX1' 'MUX2' 'MUX3' 'MUX4' 'MUX5' 'MUX6' 'MUX7']\n"
     ]
    }
   ],
   "source": [
    "#Ignoring malfuncional probes\n",
    "latest_moisture_level = get_latest_moisture_level(data_noise_filtered)\n",
    "valid_probes = latest_moisture_level[(latest_moisture_level > CFG['MUX_PORT_THRESHOLD']['OFFLINE']) & (latest_moisture_level < CFG['MUX_PORT_THRESHOLD']['NOSOIL'])].index.values\n",
    "print(valid_probes)"
   ]
  },
  {
   "cell_type": "code",
   "execution_count": 233,
   "metadata": {},
   "outputs": [],
   "source": [
    "latest_moisture_level = latest_moisture_level.loc[latest_moisture_level.index.intersection(valid_probes)]"
   ]
  },
  {
   "cell_type": "markdown",
   "metadata": {},
   "source": [
    "**coef**: 0.001 means each 1000 secs, moisture level increases 1 point.\n",
    "**score**: 1.0 is the best score"
   ]
  },
  {
   "cell_type": "code",
   "execution_count": 246,
   "metadata": {},
   "outputs": [],
   "source": [
    "pandas.options.display.float_format = '{:,.3f}'.format\n",
    "\n",
    "alpha = linear_regressor(data_noise_filtered)"
   ]
  },
  {
   "cell_type": "code",
   "execution_count": 235,
   "metadata": {},
   "outputs": [
    {
     "data": {
      "text/html": [
       "<div>\n",
       "<style scoped>\n",
       "    .dataframe tbody tr th:only-of-type {\n",
       "        vertical-align: middle;\n",
       "    }\n",
       "\n",
       "    .dataframe tbody tr th {\n",
       "        vertical-align: top;\n",
       "    }\n",
       "\n",
       "    .dataframe thead th {\n",
       "        text-align: right;\n",
       "    }\n",
       "</style>\n",
       "<table border=\"1\" class=\"dataframe\">\n",
       "  <thead>\n",
       "    <tr style=\"text-align: right;\">\n",
       "      <th></th>\n",
       "      <th>epoch</th>\n",
       "      <th>value</th>\n",
       "    </tr>\n",
       "  </thead>\n",
       "  <tbody>\n",
       "    <tr>\n",
       "      <th>MUX0</th>\n",
       "      <td>1,607,994,316.000</td>\n",
       "      <td>-0.015</td>\n",
       "    </tr>\n",
       "    <tr>\n",
       "      <th>MUX1</th>\n",
       "      <td>1,608,037,564.000</td>\n",
       "      <td>-0.069</td>\n",
       "    </tr>\n",
       "    <tr>\n",
       "      <th>MUX2</th>\n",
       "      <td>1,608,037,534.000</td>\n",
       "      <td>-0.063</td>\n",
       "    </tr>\n",
       "    <tr>\n",
       "      <th>MUX3</th>\n",
       "      <td>1,607,994,376.000</td>\n",
       "      <td>-0.016</td>\n",
       "    </tr>\n",
       "    <tr>\n",
       "      <th>MUX4</th>\n",
       "      <td>1,608,058,054.000</td>\n",
       "      <td>-0.023</td>\n",
       "    </tr>\n",
       "    <tr>\n",
       "      <th>MUX5</th>\n",
       "      <td>1,607,992,936.000</td>\n",
       "      <td>-0.021</td>\n",
       "    </tr>\n",
       "    <tr>\n",
       "      <th>MUX6</th>\n",
       "      <td>1,608,037,384.000</td>\n",
       "      <td>-0.045</td>\n",
       "    </tr>\n",
       "    <tr>\n",
       "      <th>MUX7</th>\n",
       "      <td>1,607,994,376.000</td>\n",
       "      <td>-0.030</td>\n",
       "    </tr>\n",
       "  </tbody>\n",
       "</table>\n",
       "</div>"
      ],
      "text/plain": [
       "                 epoch  value\n",
       "MUX0 1,607,994,316.000 -0.015\n",
       "MUX1 1,608,037,564.000 -0.069\n",
       "MUX2 1,608,037,534.000 -0.063\n",
       "MUX3 1,607,994,376.000 -0.016\n",
       "MUX4 1,608,058,054.000 -0.023\n",
       "MUX5 1,607,992,936.000 -0.021\n",
       "MUX6 1,608,037,384.000 -0.045\n",
       "MUX7 1,607,994,376.000 -0.030"
      ]
     },
     "execution_count": 235,
     "metadata": {},
     "output_type": "execute_result"
    }
   ],
   "source": [
    "ruptures = detect_rupture_oasis(data_noise_filtered)\n",
    "ruptures['downward'].loc[ruptures['downward'].index.intersection(valid_probes)]"
   ]
  },
  {
   "cell_type": "code",
   "execution_count": 236,
   "metadata": {},
   "outputs": [
    {
     "data": {
      "text/html": [
       "<div>\n",
       "<style scoped>\n",
       "    .dataframe tbody tr th:only-of-type {\n",
       "        vertical-align: middle;\n",
       "    }\n",
       "\n",
       "    .dataframe tbody tr th {\n",
       "        vertical-align: top;\n",
       "    }\n",
       "\n",
       "    .dataframe thead th {\n",
       "        text-align: right;\n",
       "    }\n",
       "</style>\n",
       "<table border=\"1\" class=\"dataframe\">\n",
       "  <thead>\n",
       "    <tr style=\"text-align: right;\">\n",
       "      <th></th>\n",
       "      <th>epoch</th>\n",
       "      <th>value</th>\n",
       "    </tr>\n",
       "  </thead>\n",
       "  <tbody>\n",
       "    <tr>\n",
       "      <th>MUX1</th>\n",
       "      <td>1,608,036,454.000</td>\n",
       "      <td>0.071</td>\n",
       "    </tr>\n",
       "    <tr>\n",
       "      <th>MUX2</th>\n",
       "      <td>1,608,036,454.000</td>\n",
       "      <td>0.063</td>\n",
       "    </tr>\n",
       "    <tr>\n",
       "      <th>MUX4</th>\n",
       "      <td>1,608,052,024.000</td>\n",
       "      <td>0.024</td>\n",
       "    </tr>\n",
       "    <tr>\n",
       "      <th>MUX5</th>\n",
       "      <td>1,608,023,507.000</td>\n",
       "      <td>0.019</td>\n",
       "    </tr>\n",
       "    <tr>\n",
       "      <th>MUX6</th>\n",
       "      <td>1,608,036,664.000</td>\n",
       "      <td>0.046</td>\n",
       "    </tr>\n",
       "    <tr>\n",
       "      <th>MUX7</th>\n",
       "      <td>1,607,995,276.000</td>\n",
       "      <td>0.016</td>\n",
       "    </tr>\n",
       "  </tbody>\n",
       "</table>\n",
       "</div>"
      ],
      "text/plain": [
       "                 epoch  value\n",
       "MUX1 1,608,036,454.000  0.071\n",
       "MUX2 1,608,036,454.000  0.063\n",
       "MUX4 1,608,052,024.000  0.024\n",
       "MUX5 1,608,023,507.000  0.019\n",
       "MUX6 1,608,036,664.000  0.046\n",
       "MUX7 1,607,995,276.000  0.016"
      ]
     },
     "execution_count": 236,
     "metadata": {},
     "output_type": "execute_result"
    }
   ],
   "source": [
    "ruptures['upward'].loc[ruptures['upward'].index.intersection(valid_probes)]"
   ]
  },
  {
   "cell_type": "code",
   "execution_count": 237,
   "metadata": {},
   "outputs": [
    {
     "data": {
      "text/plain": [
       "{'OFFLINE': 50, 'WET': 350, 'NOSOIL': 680}"
      ]
     },
     "execution_count": 237,
     "metadata": {},
     "output_type": "execute_result"
    }
   ],
   "source": [
    "#some fake data\n",
    "training_feedback=[\n",
    "        ['dummy', 'soil_dry', 500, 510, 345, 530, 540, 550, 560, 570],\n",
    "        ['dummy', 'soil_wet', 300, 500, 340, 350, 460, 370, 380, 390],\n",
    "    ]\n",
    "# default configuration\n",
    "CFG['MUX_PORT_THRESHOLD']"
   ]
  },
  {
   "cell_type": "code",
   "execution_count": 238,
   "metadata": {},
   "outputs": [
    {
     "data": {
      "text/html": [
       "<div>\n",
       "<style scoped>\n",
       "    .dataframe tbody tr th:only-of-type {\n",
       "        vertical-align: middle;\n",
       "    }\n",
       "\n",
       "    .dataframe tbody tr th {\n",
       "        vertical-align: top;\n",
       "    }\n",
       "\n",
       "    .dataframe thead th {\n",
       "        text-align: right;\n",
       "    }\n",
       "</style>\n",
       "<table border=\"1\" class=\"dataframe\">\n",
       "  <thead>\n",
       "    <tr style=\"text-align: right;\">\n",
       "      <th></th>\n",
       "      <th>NODE_ID</th>\n",
       "      <th>VALUE</th>\n",
       "      <th>MUX0</th>\n",
       "      <th>MUX1</th>\n",
       "      <th>MUX2</th>\n",
       "      <th>MUX3</th>\n",
       "      <th>MUX4</th>\n",
       "      <th>MUX5</th>\n",
       "      <th>MUX6</th>\n",
       "      <th>MUX7</th>\n",
       "    </tr>\n",
       "  </thead>\n",
       "  <tbody>\n",
       "    <tr>\n",
       "      <th>0</th>\n",
       "      <td>dummy</td>\n",
       "      <td>soil_dry</td>\n",
       "      <td>500</td>\n",
       "      <td>510</td>\n",
       "      <td>345</td>\n",
       "      <td>530</td>\n",
       "      <td>540</td>\n",
       "      <td>550</td>\n",
       "      <td>560</td>\n",
       "      <td>570</td>\n",
       "    </tr>\n",
       "    <tr>\n",
       "      <th>1</th>\n",
       "      <td>dummy</td>\n",
       "      <td>soil_wet</td>\n",
       "      <td>300</td>\n",
       "      <td>500</td>\n",
       "      <td>340</td>\n",
       "      <td>350</td>\n",
       "      <td>460</td>\n",
       "      <td>370</td>\n",
       "      <td>380</td>\n",
       "      <td>390</td>\n",
       "    </tr>\n",
       "    <tr>\n",
       "      <th>2</th>\n",
       "      <td>oasis-39732c</td>\n",
       "      <td>soil_wet</td>\n",
       "      <td>305</td>\n",
       "      <td>341</td>\n",
       "      <td>293</td>\n",
       "      <td>340</td>\n",
       "      <td>428</td>\n",
       "      <td>350</td>\n",
       "      <td>320</td>\n",
       "      <td>285</td>\n",
       "    </tr>\n",
       "  </tbody>\n",
       "</table>\n",
       "</div>"
      ],
      "text/plain": [
       "        NODE_ID     VALUE  MUX0  MUX1  MUX2  MUX3  MUX4  MUX5  MUX6  MUX7\n",
       "0         dummy  soil_dry   500   510   345   530   540   550   560   570\n",
       "1         dummy  soil_wet   300   500   340   350   460   370   380   390\n",
       "2  oasis-39732c  soil_wet   305   341   293   340   428   350   320   285"
      ]
     },
     "execution_count": 238,
     "metadata": {},
     "output_type": "execute_result"
    }
   ],
   "source": [
    "training_feedback.extend ([\n",
    "        ['oasis-39732c', 'soil_wet', 305, 341, 293, 340, 428, 350, 320, 285],\n",
    "    ])\n",
    "\n",
    "training = pandas.DataFrame(training_feedback, columns = \n",
    "        ['NODE_ID', 'VALUE', 'MUX0', 'MUX1', 'MUX2', 'MUX3', 'MUX4', 'MUX5', 'MUX6', 'MUX7'])\n",
    "\n",
    "training"
   ]
  },
  {
   "cell_type": "markdown",
   "metadata": {},
   "source": [
    "![title](./img/threshold.png)\n"
   ]
  },
  {
   "cell_type": "code",
   "execution_count": 243,
   "metadata": {},
   "outputs": [],
   "source": [
    "#node = 'nao_existe'\n",
    "#node = 'dummy'\n",
    "node = 'oasis-39732c'\n",
    "node_training = training.loc[training['NODE_ID'] == node]\n",
    "moisture_threshold_level = moisture_level(node_training)"
   ]
  },
  {
   "cell_type": "code",
   "execution_count": 352,
   "metadata": {},
   "outputs": [
    {
     "data": {
      "text/plain": [
       "'{\"result\": \"0.125\", \"advice\": \"NOTHING\", \"details\": {\"MUX0\": {\"actual_value\": \"304\", \"threshold\": \"350\", \"coef\": \"0.0\", \"score\": \"0.536\", \"future_value\": \"306\"}, \"MUX1\": {\"actual_value\": \"333\", \"threshold\": \"350\", \"coef\": \"0.0\", \"score\": \"0.299\", \"future_value\": \"333\"}, \"MUX2\": {\"actual_value\": \"294\", \"threshold\": \"350\", \"coef\": \"-0.0\", \"score\": \"0.106\", \"future_value\": \"294\"}, \"MUX3\": {\"actual_value\": \"349\", \"threshold\": \"350\", \"coef\": \"0.0\", \"score\": \"0.362\", \"future_value\": \"351\"}, \"MUX4\": {\"actual_value\": \"352\", \"threshold\": \"428\", \"coef\": \"0.001\", \"score\": \"0.653\", \"future_value\": \"362\"}, \"MUX5\": {\"actual_value\": \"314\", \"threshold\": \"350\", \"coef\": \"0.0\", \"score\": \"0.659\", \"future_value\": \"318\"}, \"MUX6\": {\"actual_value\": \"320\", \"threshold\": \"350\", \"coef\": \"0.0\", \"score\": \"0.377\", \"future_value\": \"322\"}, \"MUX7\": {\"actual_value\": \"290\", \"threshold\": \"350\", \"coef\": \"0.0\", \"score\": \"0.078\", \"future_value\": \"290\"}}}'"
      ]
     },
     "execution_count": 352,
     "metadata": {},
     "output_type": "execute_result"
    }
   ],
   "source": [
    "def forecast_moisture_level(will_rain, alpha, latest_moisture_level, moisture_threshold_level):\n",
    "    forecast = {}\n",
    "    need_water_probes = 0\n",
    "    entries={}\n",
    "\n",
    "    total_probes = len(latest_moisture_level)\n",
    "    for index, value in latest_moisture_level.items():\n",
    "        entry={}\n",
    "        threshold = moisture_threshold_level.get(index)\n",
    "        coef = alpha.coef.get(index)\n",
    "        score = alpha.score.get(index)\n",
    "        future_value = value\n",
    "        if score >= LN_SCORE_THRESHOLD:\n",
    "            future_value += (coef*FORECAST_TIME_AHEAD).round(0).astype(int)\n",
    "        if future_value >= threshold:\n",
    "            need_water_probes+=1\n",
    "\n",
    "        entry['actual_value'] = str(value)\n",
    "        entry['threshold'] = str(threshold)\n",
    "        entry['coef'] = str(float(\"{:.3f}\".format(coef)))\n",
    "        entry['score'] = str(float(\"{:.3f}\".format(score)))\n",
    "        entry['future_value'] = str(future_value)\n",
    "        entries[index] = entry\n",
    "    \n",
    "    result =  float(\"{:.3f}\".format(need_water_probes/total_probes))\n",
    "    forecast['result'] = str(result)\n",
    "    if result > 0.5:\n",
    "        if will_rain:\n",
    "            forecast['advice'] = 'POSPONE'\n",
    "        else:\n",
    "            forecast['advice'] = 'IRRIGATE'\n",
    "    else:\n",
    "        forecast['advice'] = 'NOTHING' \n",
    "    forecast['details'] = entries\n",
    "\n",
    "    return json.dumps(forecast)\n",
    "\n",
    "forecast_moisture_level(will_rain, alpha, latest_moisture_level, moisture_threshold_level)"
   ]
  },
  {
   "cell_type": "code",
   "execution_count": 315,
   "metadata": {},
   "outputs": [
    {
     "data": {
      "text/plain": [
       "8"
      ]
     },
     "execution_count": 315,
     "metadata": {},
     "output_type": "execute_result"
    }
   ],
   "source": [
    "len(latest_moisture_level)"
   ]
  },
  {
   "cell_type": "code",
   "execution_count": 316,
   "metadata": {},
   "outputs": [],
   "source": [
    "need_water_probes=0"
   ]
  },
  {
   "cell_type": "code",
   "execution_count": 317,
   "metadata": {},
   "outputs": [],
   "source": [
    "need_water_probes+=1"
   ]
  },
  {
   "cell_type": "code",
   "execution_count": 318,
   "metadata": {},
   "outputs": [
    {
     "data": {
      "text/plain": [
       "1"
      ]
     },
     "execution_count": 318,
     "metadata": {},
     "output_type": "execute_result"
    }
   ],
   "source": [
    "need_water_probes"
   ]
  },
  {
   "cell_type": "code",
   "execution_count": null,
   "metadata": {},
   "outputs": [],
   "source": []
  }
 ],
 "metadata": {
  "kernelspec": {
   "display_name": "Python 3",
   "language": "python",
   "name": "python3"
  },
  "language_info": {
   "codemirror_mode": {
    "name": "ipython",
    "version": 3
   },
   "file_extension": ".py",
   "mimetype": "text/x-python",
   "name": "python",
   "nbconvert_exporter": "python",
   "pygments_lexer": "ipython3",
   "version": "3.7.3"
  },
  "widgets": {
   "application/vnd.jupyter.widget-state+json": {
    "state": {
     "09b866dc757f4b16bd53707332f00851": {
      "model_module": "@jupyter-widgets/controls",
      "model_module_version": "1.5.0",
      "model_name": "CheckboxModel",
      "state": {
       "description": "MUX0",
       "disabled": true,
       "indent": false,
       "layout": "IPY_MODEL_e645ec8087434efeb2ea55ac3352304b",
       "style": "IPY_MODEL_62eb379a10974b669efe1e684e760acc",
       "value": true
      }
     },
     "0ea4077d60cf476089addd8ac5350c3e": {
      "model_module": "@jupyter-widgets/controls",
      "model_module_version": "1.5.0",
      "model_name": "CheckboxModel",
      "state": {
       "description": "Moisture Region",
       "disabled": true,
       "indent": false,
       "layout": "IPY_MODEL_4ddc618f426640f5930adff1a75a612d",
       "style": "IPY_MODEL_e6fb736c90994c4982f8008156925975",
       "value": false
      }
     },
     "1214944883f04e3591018d37faac8c22": {
      "model_module": "@jupyter-widgets/base",
      "model_module_version": "1.2.0",
      "model_name": "LayoutModel",
      "state": {}
     },
     "13a9bc050c734e01964576af76bd6f0a": {
      "model_module": "@jupyter-widgets/controls",
      "model_module_version": "1.5.0",
      "model_name": "ButtonModel",
      "state": {
       "button_style": "info",
       "description": "Today",
       "disabled": true,
       "layout": "IPY_MODEL_f6192aabf4244ef2b98721717825e243",
       "style": "IPY_MODEL_4770e0a1cb7148339154bf5b6e389ab4"
      }
     },
     "14afa65209ae44fc8f2da435b463bec1": {
      "model_module": "@jupyter-widgets/controls",
      "model_module_version": "1.5.0",
      "model_name": "CheckboxModel",
      "state": {
       "description": "MUX2",
       "disabled": true,
       "indent": false,
       "layout": "IPY_MODEL_bf2afb82549a4663887b847997012c6f",
       "style": "IPY_MODEL_cc851797fbe7462882dbc076d7e7f8d0",
       "value": true
      }
     },
     "190f634a615f4587b27065d7b27021ff": {
      "model_module": "@jupyter-widgets/controls",
      "model_module_version": "1.5.0",
      "model_name": "CheckboxModel",
      "state": {
       "description": "MUX3",
       "disabled": true,
       "indent": false,
       "layout": "IPY_MODEL_61f24b33b59c4aa98ddd4e466112182f",
       "style": "IPY_MODEL_601bb67fa48946a697c2b24ac52ed167",
       "value": true
      }
     },
     "1d2a974351784551abe856560b3aa230": {
      "model_module": "@jupyter-widgets/controls",
      "model_module_version": "1.5.0",
      "model_name": "VBoxModel",
      "state": {
       "children": [
        "IPY_MODEL_ed652c484f9043e890497feb667b3eb4",
        "IPY_MODEL_cbb880d983e949c9a88e53adc4cecf30",
        "IPY_MODEL_79d031980d41432d92950ff0a0af29b2",
        "IPY_MODEL_ef57ebd897194c5cb95c288d167982e8",
        "IPY_MODEL_dfb098a4bb9d4d409153229101f15832",
        "IPY_MODEL_ed750242c18b4b11addbcc41fb0cf62d"
       ],
       "layout": "IPY_MODEL_9c7b98ee525a42298268a2749c72d86a"
      }
     },
     "1f1dcf6b86f54c93af86f3511dab74b9": {
      "model_module": "@jupyter-widgets/base",
      "model_module_version": "1.2.0",
      "model_name": "LayoutModel",
      "state": {}
     },
     "2523b6a47f8b471796165d8ab7211eed": {
      "model_module": "@jupyter-widgets/base",
      "model_module_version": "1.2.0",
      "model_name": "LayoutModel",
      "state": {}
     },
     "2de0b467fb564e8bb26600931f8d2b9a": {
      "model_module": "@jupyter-widgets/base",
      "model_module_version": "1.2.0",
      "model_name": "LayoutModel",
      "state": {}
     },
     "342f76c040b345078e8b60feebd720e3": {
      "model_module": "@jupyter-widgets/controls",
      "model_module_version": "1.5.0",
      "model_name": "CheckboxModel",
      "state": {
       "description": "MUX4",
       "disabled": true,
       "indent": false,
       "layout": "IPY_MODEL_7cfdd5673e7640dbb16ebdb234d3604d",
       "style": "IPY_MODEL_cf540d438e324140add4dcdd2dc89aba",
       "value": true
      }
     },
     "36a6a31fbbe54257b4d8e9b6e88651b0": {
      "model_module": "@jupyter-widgets/controls",
      "model_module_version": "1.5.0",
      "model_name": "DescriptionStyleModel",
      "state": {
       "description_width": ""
      }
     },
     "385e87638231402bab5fab4d12b63f5c": {
      "model_module": "@jupyter-widgets/controls",
      "model_module_version": "1.5.0",
      "model_name": "ButtonModel",
      "state": {
       "button_style": "warning",
       "description": "Retrieve data",
       "layout": "IPY_MODEL_ff01c48a197342b68e8fa87299caee8a",
       "style": "IPY_MODEL_eac3f0f97c71463dab945c32bc4e26f6"
      }
     },
     "4770e0a1cb7148339154bf5b6e389ab4": {
      "model_module": "@jupyter-widgets/controls",
      "model_module_version": "1.5.0",
      "model_name": "ButtonStyleModel",
      "state": {}
     },
     "4ddc618f426640f5930adff1a75a612d": {
      "model_module": "@jupyter-widgets/base",
      "model_module_version": "1.2.0",
      "model_name": "LayoutModel",
      "state": {}
     },
     "54e00290426a497186b292ac31ca2c93": {
      "model_module": "@jupyter-widgets/controls",
      "model_module_version": "1.5.0",
      "model_name": "ButtonModel",
      "state": {
       "button_style": "warning",
       "description": "Latest 48 hrs",
       "disabled": true,
       "layout": "IPY_MODEL_a5ebc009e1164821b16d945235f3049d",
       "style": "IPY_MODEL_7056306a6e0b43bfad0f70234dbd7519"
      }
     },
     "5cc10ff93ce549a0a0974b5397fd7a6a": {
      "model_module": "@jupyter-widgets/controls",
      "model_module_version": "1.5.0",
      "model_name": "ButtonStyleModel",
      "state": {}
     },
     "601bb67fa48946a697c2b24ac52ed167": {
      "model_module": "@jupyter-widgets/controls",
      "model_module_version": "1.5.0",
      "model_name": "DescriptionStyleModel",
      "state": {
       "description_width": ""
      }
     },
     "61f24b33b59c4aa98ddd4e466112182f": {
      "model_module": "@jupyter-widgets/base",
      "model_module_version": "1.2.0",
      "model_name": "LayoutModel",
      "state": {}
     },
     "62eb379a10974b669efe1e684e760acc": {
      "model_module": "@jupyter-widgets/controls",
      "model_module_version": "1.5.0",
      "model_name": "DescriptionStyleModel",
      "state": {
       "description_width": ""
      }
     },
     "67723e64a7574e759f92e432f41b5641": {
      "model_module": "@jupyter-widgets/controls",
      "model_module_version": "1.5.0",
      "model_name": "DescriptionStyleModel",
      "state": {
       "description_width": ""
      }
     },
     "6ec23acb0bb74c93820187034b6ab55d": {
      "model_module": "@jupyter-widgets/base",
      "model_module_version": "1.2.0",
      "model_name": "LayoutModel",
      "state": {}
     },
     "7056306a6e0b43bfad0f70234dbd7519": {
      "model_module": "@jupyter-widgets/controls",
      "model_module_version": "1.5.0",
      "model_name": "ButtonStyleModel",
      "state": {}
     },
     "7197a35ab6ad423db69b2349f436cc97": {
      "model_module": "@jupyter-widgets/controls",
      "model_module_version": "1.5.0",
      "model_name": "CheckboxModel",
      "state": {
       "description": "MUX7",
       "disabled": true,
       "indent": false,
       "layout": "IPY_MODEL_2de0b467fb564e8bb26600931f8d2b9a",
       "style": "IPY_MODEL_36a6a31fbbe54257b4d8e9b6e88651b0",
       "value": true
      }
     },
     "79d031980d41432d92950ff0a0af29b2": {
      "model_module": "@jupyter-widgets/controls",
      "model_module_version": "1.5.0",
      "model_name": "FloatSliderModel",
      "state": {
       "description": "Rolling:",
       "disabled": true,
       "layout": "IPY_MODEL_aa23ccec29724dc093a05d8f6cbba63b",
       "max": 200,
       "min": 1,
       "style": "IPY_MODEL_f928be76e32049a183ecc3c149206523",
       "value": 60
      }
     },
     "7cfdd5673e7640dbb16ebdb234d3604d": {
      "model_module": "@jupyter-widgets/base",
      "model_module_version": "1.2.0",
      "model_name": "LayoutModel",
      "state": {}
     },
     "8b99a7375aba4875a0adfedcebd04fff": {
      "model_module": "@jupyter-widgets/base",
      "model_module_version": "1.2.0",
      "model_name": "LayoutModel",
      "state": {}
     },
     "9c59b4ce7efa46ac84060471ca85e25a": {
      "model_module": "@jupyter-widgets/base",
      "model_module_version": "1.2.0",
      "model_name": "LayoutModel",
      "state": {}
     },
     "9c7b98ee525a42298268a2749c72d86a": {
      "model_module": "@jupyter-widgets/base",
      "model_module_version": "1.2.0",
      "model_name": "LayoutModel",
      "state": {}
     },
     "a0642fe721ff455793308d54fb37ae08": {
      "model_module": "@jupyter-widgets/controls",
      "model_module_version": "1.5.0",
      "model_name": "SliderStyleModel",
      "state": {
       "description_width": ""
      }
     },
     "a5ebc009e1164821b16d945235f3049d": {
      "model_module": "@jupyter-widgets/base",
      "model_module_version": "1.2.0",
      "model_name": "LayoutModel",
      "state": {}
     },
     "aa03922c192f426ba5e84be70936d7e6": {
      "model_module": "@jupyter-widgets/controls",
      "model_module_version": "1.5.0",
      "model_name": "ButtonModel",
      "state": {
       "button_style": "success",
       "description": "Yesterday",
       "disabled": true,
       "layout": "IPY_MODEL_ed25699b093b45dfac77543313521d2b",
       "style": "IPY_MODEL_e4649bd06ac24c35bfa01047bc2f06d3"
      }
     },
     "aa23ccec29724dc093a05d8f6cbba63b": {
      "model_module": "@jupyter-widgets/base",
      "model_module_version": "1.2.0",
      "model_name": "LayoutModel",
      "state": {}
     },
     "b1f62c36c19c414980746b838e6c1c28": {
      "model_module": "@jupyter-widgets/base",
      "model_module_version": "1.2.0",
      "model_name": "LayoutModel",
      "state": {
       "width": "95%"
      }
     },
     "b25e58b9f2ff47e6aafbaa4e52fb9ebf": {
      "model_module": "@jupyter-widgets/base",
      "model_module_version": "1.2.0",
      "model_name": "LayoutModel",
      "state": {}
     },
     "bf2afb82549a4663887b847997012c6f": {
      "model_module": "@jupyter-widgets/base",
      "model_module_version": "1.2.0",
      "model_name": "LayoutModel",
      "state": {}
     },
     "c53a42a6c61a43428203bc732e2d7b86": {
      "model_module": "@jupyter-widgets/controls",
      "model_module_version": "1.5.0",
      "model_name": "CheckboxModel",
      "state": {
       "description": "MUX1",
       "disabled": true,
       "indent": false,
       "layout": "IPY_MODEL_8b99a7375aba4875a0adfedcebd04fff",
       "style": "IPY_MODEL_67723e64a7574e759f92e432f41b5641",
       "value": true
      }
     },
     "cbb880d983e949c9a88e53adc4cecf30": {
      "model_module": "@jupyter-widgets/controls",
      "model_module_version": "1.5.0",
      "model_name": "HBoxModel",
      "state": {
       "children": [
        "IPY_MODEL_09b866dc757f4b16bd53707332f00851",
        "IPY_MODEL_c53a42a6c61a43428203bc732e2d7b86",
        "IPY_MODEL_14afa65209ae44fc8f2da435b463bec1",
        "IPY_MODEL_190f634a615f4587b27065d7b27021ff",
        "IPY_MODEL_342f76c040b345078e8b60feebd720e3",
        "IPY_MODEL_d345358a5f7441b19ceb2f6643c47d4c",
        "IPY_MODEL_7197a35ab6ad423db69b2349f436cc97"
       ],
       "layout": "IPY_MODEL_b25e58b9f2ff47e6aafbaa4e52fb9ebf"
      }
     },
     "cc851797fbe7462882dbc076d7e7f8d0": {
      "model_module": "@jupyter-widgets/controls",
      "model_module_version": "1.5.0",
      "model_name": "DescriptionStyleModel",
      "state": {
       "description_width": ""
      }
     },
     "cf540d438e324140add4dcdd2dc89aba": {
      "model_module": "@jupyter-widgets/controls",
      "model_module_version": "1.5.0",
      "model_name": "DescriptionStyleModel",
      "state": {
       "description_width": ""
      }
     },
     "d345358a5f7441b19ceb2f6643c47d4c": {
      "model_module": "@jupyter-widgets/controls",
      "model_module_version": "1.5.0",
      "model_name": "CheckboxModel",
      "state": {
       "description": "MUX5",
       "disabled": true,
       "indent": false,
       "layout": "IPY_MODEL_9c59b4ce7efa46ac84060471ca85e25a",
       "style": "IPY_MODEL_dd644573d9ac4d91bab6da0ed3a66044",
       "value": true
      }
     },
     "dd644573d9ac4d91bab6da0ed3a66044": {
      "model_module": "@jupyter-widgets/controls",
      "model_module_version": "1.5.0",
      "model_name": "DescriptionStyleModel",
      "state": {
       "description_width": ""
      }
     },
     "dfb098a4bb9d4d409153229101f15832": {
      "model_module": "@jupyter-widgets/controls",
      "model_module_version": "1.5.0",
      "model_name": "HBoxModel",
      "state": {
       "children": [
        "IPY_MODEL_e2c00d1400994a3287580ad8e59ba239",
        "IPY_MODEL_13a9bc050c734e01964576af76bd6f0a",
        "IPY_MODEL_aa03922c192f426ba5e84be70936d7e6",
        "IPY_MODEL_54e00290426a497186b292ac31ca2c93",
        "IPY_MODEL_0ea4077d60cf476089addd8ac5350c3e"
       ],
       "layout": "IPY_MODEL_dfc184a252644a2f896ab81a3adad285"
      }
     },
     "dfc184a252644a2f896ab81a3adad285": {
      "model_module": "@jupyter-widgets/base",
      "model_module_version": "1.2.0",
      "model_name": "LayoutModel",
      "state": {}
     },
     "e2c00d1400994a3287580ad8e59ba239": {
      "model_module": "@jupyter-widgets/controls",
      "model_module_version": "1.5.0",
      "model_name": "ButtonModel",
      "state": {
       "button_style": "danger",
       "description": "Filter Range",
       "disabled": true,
       "layout": "IPY_MODEL_2523b6a47f8b471796165d8ab7211eed",
       "style": "IPY_MODEL_5cc10ff93ce549a0a0974b5397fd7a6a"
      }
     },
     "e4649bd06ac24c35bfa01047bc2f06d3": {
      "model_module": "@jupyter-widgets/controls",
      "model_module_version": "1.5.0",
      "model_name": "ButtonStyleModel",
      "state": {}
     },
     "e645ec8087434efeb2ea55ac3352304b": {
      "model_module": "@jupyter-widgets/base",
      "model_module_version": "1.2.0",
      "model_name": "LayoutModel",
      "state": {}
     },
     "e6fb736c90994c4982f8008156925975": {
      "model_module": "@jupyter-widgets/controls",
      "model_module_version": "1.5.0",
      "model_name": "DescriptionStyleModel",
      "state": {
       "description_width": ""
      }
     },
     "ea091393e2c14c9097585d2489259680": {
      "model_module": "@jupyter-widgets/controls",
      "model_module_version": "1.5.0",
      "model_name": "DescriptionStyleModel",
      "state": {
       "description_width": ""
      }
     },
     "eac3f0f97c71463dab945c32bc4e26f6": {
      "model_module": "@jupyter-widgets/controls",
      "model_module_version": "1.5.0",
      "model_name": "ButtonStyleModel",
      "state": {}
     },
     "ed25699b093b45dfac77543313521d2b": {
      "model_module": "@jupyter-widgets/base",
      "model_module_version": "1.2.0",
      "model_name": "LayoutModel",
      "state": {}
     },
     "ed652c484f9043e890497feb667b3eb4": {
      "model_module": "@jupyter-widgets/controls",
      "model_module_version": "1.5.0",
      "model_name": "HBoxModel",
      "state": {
       "children": [
        "IPY_MODEL_fa1a29d486f045a6b1fe38014e2cc849",
        "IPY_MODEL_385e87638231402bab5fab4d12b63f5c"
       ],
       "layout": "IPY_MODEL_1214944883f04e3591018d37faac8c22"
      }
     },
     "ed750242c18b4b11addbcc41fb0cf62d": {
      "model_module": "@jupyter-widgets/output",
      "model_module_version": "1.0.0",
      "model_name": "OutputModel",
      "state": {
       "layout": "IPY_MODEL_1f1dcf6b86f54c93af86f3511dab74b9"
      }
     },
     "ef57ebd897194c5cb95c288d167982e8": {
      "model_module": "@jupyter-widgets/controls",
      "model_module_version": "1.5.0",
      "model_name": "IntRangeSliderModel",
      "state": {
       "_model_name": "IntRangeSliderModel",
       "_view_name": "IntRangeSliderView",
       "continuous_update": false,
       "description": "Range:",
       "disabled": true,
       "layout": "IPY_MODEL_b1f62c36c19c414980746b838e6c1c28",
       "max": 0,
       "step": 5,
       "style": "IPY_MODEL_a0642fe721ff455793308d54fb37ae08",
       "value": [
        0,
        0
       ]
      }
     },
     "f6192aabf4244ef2b98721717825e243": {
      "model_module": "@jupyter-widgets/base",
      "model_module_version": "1.2.0",
      "model_name": "LayoutModel",
      "state": {}
     },
     "f928be76e32049a183ecc3c149206523": {
      "model_module": "@jupyter-widgets/controls",
      "model_module_version": "1.5.0",
      "model_name": "SliderStyleModel",
      "state": {
       "description_width": ""
      }
     },
     "fa1a29d486f045a6b1fe38014e2cc849": {
      "model_module": "@jupyter-widgets/controls",
      "model_module_version": "1.5.0",
      "model_name": "DropdownModel",
      "state": {
       "_options_labels": [
        "oasis-397c0e (Apr-12 11:11)",
        "oasis-39732c (Apr-12 11:11)",
        "oasis-397988 (Feb-29 17:44)",
        "oasis-312193 (Nov-23 09:51)"
       ],
       "description": "Node:",
       "index": 0,
       "layout": "IPY_MODEL_6ec23acb0bb74c93820187034b6ab55d",
       "style": "IPY_MODEL_ea091393e2c14c9097585d2489259680"
      }
     },
     "ff01c48a197342b68e8fa87299caee8a": {
      "model_module": "@jupyter-widgets/base",
      "model_module_version": "1.2.0",
      "model_name": "LayoutModel",
      "state": {}
     }
    },
    "version_major": 2,
    "version_minor": 0
   }
  }
 },
 "nbformat": 4,
 "nbformat_minor": 2
}
