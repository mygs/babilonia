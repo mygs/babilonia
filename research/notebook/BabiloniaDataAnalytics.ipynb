{
 "cells": [
  {
   "cell_type": "code",
   "execution_count": null,
   "metadata": {},
   "outputs": [],
   "source": [
    "%matplotlib inline\n",
    "from matplotlib import pyplot as plt\n",
    "from matplotlib import dates as mdate\n",
    "import json, re, pymysql, datetime, pandas\n",
    "pandas.options.display.float_format = \"{:.0f}\".format\n",
    "from pandas.plotting import register_matplotlib_converters\n",
    "register_matplotlib_converters()\n",
    "import ipywidgets as widgets \n",
    "from IPython.display import display, clear_output, Markdown"
   ]
  },
  {
   "cell_type": "code",
   "execution_count": null,
   "metadata": {},
   "outputs": [],
   "source": [
    "class BabiloniaDataAnalytics:\n",
    "    # variables can be access externally\n",
    "    NODE_MOISTURE_DATA={}\n",
    "    NODE_DHT_DATA={}\n",
    "    def __init__(self, config_path):\n",
    "        with open(config_path) as json_data_file:\n",
    "            data = json.load(json_data_file)\n",
    "            url = data['SQLALCHEMY_DATABASE_URI']\n",
    "            self.__MUX_PORT_THRESHOLD = data['MUX_PORT_THRESHOLD']\n",
    "        user, password, host, database = re.match('mysql://(.*?):(.*?)@(.*?)/(.*)', url).groups()\n",
    "        self.__CONN = pymysql.connect(host=host,port=3306,user=user,passwd=password,db=database)\n",
    "        \n",
    "    def get_node_list(self):\n",
    "        query_nodes=\"\"\"\n",
    "            SELECT  NODE_ID, \n",
    "                    LAST_UPDATE \n",
    "            FROM OASIS_HEARTBEAT\n",
    "            ORDER BY LAST_UPDATE desc\n",
    "            \"\"\"\n",
    "        nodes = pandas.read_sql_query(query_nodes, self.__CONN)\n",
    "        nodes_out = [(str(node['NODE_ID']+\n",
    "                        \" \"+\n",
    "                        \"(\"+\n",
    "                        datetime.datetime.fromtimestamp(int(node['LAST_UPDATE'])).strftime('%b-%d %H:%M')+\n",
    "                        \")\"),\n",
    "                      node['NODE_ID']) for index,node in nodes.iterrows()]\n",
    "        return nodes_out\n",
    "    def get_node_moisture_data(self, node):\n",
    "        query=\"\"\"\n",
    "            SELECT  TIMESTAMP,\n",
    "                    DATA->'$.DATA.CAPACITIVEMOISTURE.MUX0' AS MUX0,\n",
    "                    DATA->'$.DATA.CAPACITIVEMOISTURE.MUX1' AS MUX1,\n",
    "                    DATA->'$.DATA.CAPACITIVEMOISTURE.MUX2' AS MUX2,\n",
    "                    DATA->'$.DATA.CAPACITIVEMOISTURE.MUX3' AS MUX3,\n",
    "                    DATA->'$.DATA.CAPACITIVEMOISTURE.MUX4' AS MUX4,\n",
    "                    DATA->'$.DATA.CAPACITIVEMOISTURE.MUX5' AS MUX5,\n",
    "                    DATA->'$.DATA.CAPACITIVEMOISTURE.MUX6' AS MUX6,\n",
    "                    DATA->'$.DATA.CAPACITIVEMOISTURE.MUX7' AS MUX7\n",
    "            FROM OASIS_DATA\n",
    "            WHERE NODE_ID='{}' \n",
    "                  AND  json_length(DATA->'$.DATA.CAPACITIVEMOISTURE') > 0\n",
    "            ORDER BY TIMESTAMP asc\n",
    "            \"\"\".format(node)\n",
    "        df = pandas.read_sql_query(query, self.__CONN).astype(int)\n",
    "        df.set_index('TIMESTAMP', inplace=True)\n",
    "        if len(df) == 0:\n",
    "            print (\"get_node_moisture_data: no moisture data found for {}!!!\".format(node))\n",
    "            return {}\n",
    "        else:\n",
    "            print(\"Node:\", node,\n",
    "                    \"Data interval:\", int((df.index.max() - df.index.min())/len(df)),\"secs\",\n",
    "                 \", Duration:\", int((df.index.max() - df.index.min())/3600),\"hrs\",\n",
    "                 \", Memory usage:\",int(df.memory_usage(deep=True).sum()/1024),\"KB\")\n",
    "        return df\n",
    "\n",
    "    def get_node_dht_data(self, node):\n",
    "        query=\"\"\"\n",
    "            SELECT  TIMESTAMP,\n",
    "                    DATA->'$.DATA.DHT.TEMPERATURE' AS TEMPERATURE,\n",
    "                    DATA->'$.DATA.DHT.HUMIDITY' AS HUMIDITY\n",
    "            FROM OASIS_DATA\n",
    "            WHERE NODE_ID='{}'\n",
    "                  AND json_length(DATA->'$.DATA.DHT') > 0\n",
    "            ORDER BY TIMESTAMP asc\n",
    "            \"\"\".format(node)\n",
    "        dft = pandas.read_sql_query(query, self.__CONN).astype(int)\n",
    "        dft.set_index('TIMESTAMP', inplace=True)\n",
    "        if len(dft) == 0:\n",
    "            print (\"get_node_temperature_data: no temperature and humidity data found for {}!!!\".format(node))\n",
    "            return {}\n",
    "        else:\n",
    "            print(\"Node:\", node,\n",
    "                    \"Data interval:\", int((dft.index.max() - dft.index.min())/len(dft)),\"secs\",\n",
    "                 \", Duration:\", int((dft.index.max() - dft.index.min())/3600),\"hrs\",\n",
    "                 \", Memory usage:\",int(dft.memory_usage(deep=True).sum()/1024),\"KB\")\n",
    "        return dft\n",
    "\n",
    "    \"\"\"\n",
    "    Using this function, you will explore Babilonia node moisture data\n",
    "    \"\"\"\n",
    "    def plot_node_moisture(self):\n",
    "        outt = widgets.Output()\n",
    "        nodes = self.get_node_list()\n",
    "        dropdown_node = widgets.Dropdown(options=nodes, description='Node:')\n",
    "        btn_search = widgets.Button(description='Retrieve data',button_style='warning')\n",
    "        def btn_search_clicked(b):\n",
    "            with outt:\n",
    "                clear_output()\n",
    "                self.NODE_MOISTURE_DATA = self.get_node_moisture_data(dropdown_node.value)\n",
    "                if len(self.NODE_MOISTURE_DATA) != 0:\n",
    "                    rolling.disabled = False\n",
    "                    timerange.disabled = False\n",
    "                    btn_filter_range.disabled = False\n",
    "                    btn_today.disabled = False\n",
    "                    btn_yesterday.disabled = False\n",
    "                    btn_latest_48_hrs.disabled = False\n",
    "                    checkbox_zones.disabled = False\n",
    "                    for checkbox in mux_checkbox:\n",
    "                        checkbox.disabled = False\n",
    "\n",
    "                    timerange.min = 0\n",
    "                    timerange.max = 1\n",
    "                    timerange.max = self.NODE_MOISTURE_DATA.index.max()\n",
    "                    timerange.min = self.NODE_MOISTURE_DATA.index.min()\n",
    "                    timerange.value = [self.NODE_MOISTURE_DATA.index.min(), self.NODE_MOISTURE_DATA.index.max()]\n",
    "                else:\n",
    "                    rolling.disabled = True\n",
    "                    timerange.disabled = True\n",
    "                    btn_filter_range.disabled = True\n",
    "                    btn_today.disabled = True\n",
    "                    btn_yesterday.disabled = True\n",
    "                    btn_latest_48_hrs.disabled = True\n",
    "                    checkbox_zones.disabled = True\n",
    "                    for checkbox in mux_checkbox:\n",
    "                        checkbox.disabled = True\n",
    "\n",
    "                    NODE_MOISTURE_DATA={}\n",
    "                    timerange.min = 0\n",
    "                    timerange.max = 0\n",
    "                    timerange.value = [0, 0]\n",
    "\n",
    "        btn_search.on_click(btn_search_clicked)\n",
    "        menu = widgets.HBox([dropdown_node, btn_search])\n",
    "\n",
    "\n",
    "        muxes = ['MUX0','MUX1','MUX2','MUX3','MUX4','MUX5','MUX7']\n",
    "        mux_checkbox = [widgets.Checkbox(description=mux, value=True,indent=False, disabled=True) for mux in muxes]\n",
    "        mux_checkboxes = widgets.HBox(mux_checkbox)\n",
    "        rolling = widgets.FloatSlider(\n",
    "                 value=60,\n",
    "                 min=1,\n",
    "                 max=200,\n",
    "                 step=1,\n",
    "                 disabled=True,\n",
    "                 description='Rolling:',\n",
    "                )\n",
    "\n",
    "        timerange = widgets.IntRangeSlider(\n",
    "                value=[0,0],\n",
    "                min=0,\n",
    "                max=0,\n",
    "                step=5,\n",
    "                description='Range:',\n",
    "                disabled=True,\n",
    "                continuous_update=False,\n",
    "                orientation='horizontal',\n",
    "                readout=True,\n",
    "                readout_format='d',\n",
    "                layout=dict(width='95%')\n",
    "                )\n",
    "\n",
    "        btn_filter_range = widgets.Button(description='Filter Range',button_style='danger', disabled=True)\n",
    "        btn_today = widgets.Button(description='Today',button_style='info', disabled=True)\n",
    "        btn_yesterday = widgets.Button(description='Yesterday',button_style='success', disabled=True)\n",
    "        btn_latest_48_hrs = widgets.Button(description='Latest 48 hrs',button_style='warning', disabled=True)\n",
    "        checkbox_zones = widgets.Checkbox(value=False, description='Moisture Region', disabled=True,indent=False)\n",
    "        buttons = widgets.HBox((btn_filter_range, btn_today, btn_yesterday, btn_latest_48_hrs, checkbox_zones))\n",
    "\n",
    "\n",
    "        def plot_time_range(start, end, hrs_only):\n",
    "            with outt:\n",
    "                clear_output()\n",
    "                timerange.value = [start, end]\n",
    "                print(\"Start time:\", datetime.datetime.fromtimestamp(start).strftime('%Y-%m-%d %H:%M:%S'),\n",
    "                        \"  End time:\", datetime.datetime.fromtimestamp(end).strftime('%Y-%m-%d %H:%M:%S'))\n",
    "                selected_muxes = [checkbox.description for checkbox in mux_checkbox if checkbox.value]\n",
    "\n",
    "                data = self.NODE_MOISTURE_DATA[(self.NODE_MOISTURE_DATA.index > start) & \n",
    "                    (self.NODE_MOISTURE_DATA.index < end)][selected_muxes].rolling(int(rolling.value)).mean().dropna()\n",
    "\n",
    "                plt.rcParams['figure.figsize'] = [15,7]\n",
    "                plt.rcParams['timezone'] = 'America/Sao_Paulo'\n",
    "\n",
    "                fig,ax = plt.subplots()\n",
    "                x = mdate.epoch2num(data.index)\n",
    "                fmt = mdate.DateFormatter('%H:%M' if hrs_only else '%y-%m-%d %H:%M')\n",
    "\n",
    "                ax.xaxis.set_major_formatter(fmt)\n",
    "                plt.xticks( rotation=25 )\n",
    "                plt.plot_date(x, data, linestyle='solid', marker='None')\n",
    "                if checkbox_zones.value:\n",
    "                    plt.fill_between(x, self.__MUX_PORT_THRESHOLD['OFFLINE'], self.__MUX_PORT_THRESHOLD['WET'],\n",
    "                            where=self.__MUX_PORT_THRESHOLD['WET'] > self.__MUX_PORT_THRESHOLD['OFFLINE'],\n",
    "                            facecolor='blue', alpha=0.2)\n",
    "                    plt.fill_between(x, self.__MUX_PORT_THRESHOLD['WET'], self.__MUX_PORT_THRESHOLD['NOSOIL'],\n",
    "                             where=self.__MUX_PORT_THRESHOLD['NOSOIL'] > self.__MUX_PORT_THRESHOLD['WET'],\n",
    "                    facecolor='red', alpha=0.2)\n",
    "                plt.legend(selected_muxes)\n",
    "                plt.show()\n",
    "        def on_btn_filter_range_clicked(b):\n",
    "            plot_time_range(timerange.value[0], timerange.value[1], False)\n",
    "        def on_btn_today(b):\n",
    "            now = datetime.datetime.today()\n",
    "            start_day = datetime.datetime(now.year,now.month,now.day,0,0,0)\n",
    "            plot_time_range(start_day.timestamp(), now.timestamp(), True)\n",
    "        def on_btn_yesterday(b):\n",
    "            yesterday = datetime.datetime.now() - datetime.timedelta(days=1)\n",
    "            start_day = datetime.datetime(yesterday.year,yesterday.month,yesterday.day,0,0,0)\n",
    "            end_day = datetime.datetime(yesterday.year,yesterday.month,yesterday.day,23,59,59)\n",
    "            plot_time_range(start_day.timestamp(), end_day.timestamp(), True)\n",
    "        def on_btn_latest_48_hours(b):\n",
    "            now = datetime.datetime.today()\n",
    "            latest_48_hours = now - datetime.timedelta(hours=48)\n",
    "            plot_time_range(latest_48_hours.timestamp(), now.timestamp(), False)\n",
    "\n",
    "        btn_filter_range.on_click(on_btn_filter_range_clicked)\n",
    "        btn_today.on_click(on_btn_today)\n",
    "        btn_yesterday.on_click(on_btn_yesterday)\n",
    "        btn_latest_48_hrs.on_click(on_btn_latest_48_hours)\n",
    "\n",
    "        return widgets.VBox([menu, mux_checkboxes, rolling, timerange, buttons, outt])\n",
    "\n",
    "    \"\"\"\n",
    "    Using this function, you will explore Babilonia node DHT data\n",
    "    \"\"\"\n",
    "    def plot_node_dht(self):\n",
    "        outt = widgets.Output()\n",
    "        nodes = self.get_node_list()\n",
    "        dropdown_node = widgets.Dropdown(options=nodes, description='Node:')\n",
    "        btn_search = widgets.Button(description='Retrieve data',button_style='warning')\n",
    "        def btn_search_clicked(b):\n",
    "            with outt:\n",
    "                clear_output()\n",
    "                self.NODE_DHT_DATA = self.get_node_dht_data(dropdown_node.value)\n",
    "                if len(self.NODE_DHT_DATA) != 0:\n",
    "                    rolling.disabled = False\n",
    "                    timerange.disabled = False\n",
    "                    btn_filter_range.disabled = False\n",
    "                    btn_today.disabled = False\n",
    "                    btn_yesterday.disabled = False\n",
    "                    btn_latest_48_hrs.disabled = False\n",
    "                    for checkbox in dht_type_checkbox:\n",
    "                        checkbox.disabled = False\n",
    "\n",
    "                    timerange.min = 0\n",
    "                    timerange.max = 1\n",
    "                    timerange.max = self.NODE_DHT_DATA.index.max()\n",
    "                    timerange.min = self.NODE_DHT_DATA.index.min()\n",
    "                    timerange.value = [self.NODE_DHT_DATA.index.min(), self.NODE_DHT_DATA.index.max()]\n",
    "                else:\n",
    "                    rolling.disabled = True\n",
    "                    timerange.disabled = True\n",
    "                    btn_filter_range.disabled = True\n",
    "                    btn_today.disabled = True\n",
    "                    btn_yesterday.disabled = True\n",
    "                    btn_latest_48_hrs.disabled = True\n",
    "                    for checkbox in dht_type_checkbox:\n",
    "                        checkbox.disabled = True\n",
    "\n",
    "                    self.NODE_DHT_DATA={}\n",
    "                    timerange.min = 0\n",
    "                    timerange.max = 0\n",
    "                    timerange.value = [0, 0]\n",
    "\n",
    "        btn_search.on_click(btn_search_clicked)\n",
    "        menu = widgets.HBox([dropdown_node, btn_search])\n",
    "\n",
    "\n",
    "        dht_data_types = ['TEMPERATURE','HUMIDITY']\n",
    "        dht_type_checkbox = [widgets.Checkbox(description=dht_data_type, value=True,indent=False, disabled=True) for dht_data_type in dht_data_types]\n",
    "        dht_type_checkboxes = widgets.HBox(dht_type_checkbox)\n",
    "        rolling = widgets.FloatSlider(\n",
    "                 value=60,\n",
    "                 min=1,\n",
    "                 max=200,\n",
    "                 step=1,\n",
    "                 disabled=True,\n",
    "                 description='Rolling:',\n",
    "                )\n",
    "\n",
    "        timerange = widgets.IntRangeSlider(\n",
    "                value=[0,0],\n",
    "                min=0,\n",
    "                max=0,\n",
    "                step=5,\n",
    "                description='Range:',\n",
    "                disabled=True,\n",
    "                continuous_update=False,\n",
    "                orientation='horizontal',\n",
    "                readout=True,\n",
    "                readout_format='d',\n",
    "                layout=dict(width='95%')\n",
    "                )\n",
    "\n",
    "        btn_filter_range = widgets.Button(description='Filter Range',button_style='danger', disabled=True)\n",
    "        btn_today = widgets.Button(description='Today',button_style='info', disabled=True)\n",
    "        btn_yesterday = widgets.Button(description='Yesterday',button_style='success', disabled=True)\n",
    "        btn_latest_48_hrs = widgets.Button(description='Latest 48 hrs',button_style='warning', disabled=True)\n",
    "        buttons = widgets.HBox((btn_filter_range, btn_today, btn_yesterday, btn_latest_48_hrs))\n",
    "\n",
    "\n",
    "        def plot_time_range(start, end, hrs_only):\n",
    "            with outt:\n",
    "                clear_output()\n",
    "                timerange.value = [start, end]\n",
    "                print(\"Start time:\", datetime.datetime.fromtimestamp(start).strftime('%Y-%m-%d %H:%M:%S'),\n",
    "                        \"  End time:\", datetime.datetime.fromtimestamp(end).strftime('%Y-%m-%d %H:%M:%S'))\n",
    "                selected_dht_type = [checkbox.description for checkbox in dht_type_checkbox if checkbox.value]\n",
    "\n",
    "                data = self.NODE_DHT_DATA[(self.NODE_DHT_DATA.index > start) & \n",
    "                    (self.NODE_DHT_DATA.index < end)][selected_dht_type].rolling(int(rolling.value)).mean().dropna()\n",
    "\n",
    "                plt.rcParams['figure.figsize'] = [15,7]\n",
    "                plt.rcParams['timezone'] = 'America/Sao_Paulo'\n",
    "\n",
    "                fig,ax = plt.subplots()\n",
    "                x = mdate.epoch2num(data.index)\n",
    "                fmt = mdate.DateFormatter('%H:%M' if hrs_only else '%y-%m-%d %H:%M')\n",
    "\n",
    "                ax.xaxis.set_major_formatter(fmt)\n",
    "                plt.xticks( rotation=25 )\n",
    "                plt.plot_date(x, data, linestyle='solid', marker='None')\n",
    "                plt.legend(selected_dht_type)\n",
    "                plt.show()\n",
    "        def on_btn_filter_range_clicked(b):\n",
    "            plot_time_range(timerange.value[0], timerange.value[1], False)\n",
    "        def on_btn_today(b):\n",
    "            now = datetime.datetime.today()\n",
    "            start_day = datetime.datetime(now.year,now.month,now.day,0,0,0)\n",
    "            plot_time_range(start_day.timestamp(), now.timestamp(), True)\n",
    "        def on_btn_yesterday(b):\n",
    "            yesterday = datetime.datetime.now() - datetime.timedelta(days=1)\n",
    "            start_day = datetime.datetime(yesterday.year,yesterday.month,yesterday.day,0,0,0)\n",
    "            end_day = datetime.datetime(yesterday.year,yesterday.month,yesterday.day,23,59,59)\n",
    "            plot_time_range(start_day.timestamp(), end_day.timestamp(), True)\n",
    "        def on_btn_latest_48_hours(b):\n",
    "            now = datetime.datetime.today()\n",
    "            latest_48_hours = now - datetime.timedelta(hours=48)\n",
    "            plot_time_range(latest_48_hours.timestamp(), now.timestamp(), False)\n",
    "\n",
    "        btn_filter_range.on_click(on_btn_filter_range_clicked)\n",
    "        btn_today.on_click(on_btn_today)\n",
    "        btn_yesterday.on_click(on_btn_yesterday)\n",
    "        btn_latest_48_hrs.on_click(on_btn_latest_48_hours)\n",
    "\n",
    "        return widgets.VBox([menu, dht_type_checkboxes, rolling, timerange, buttons, outt])"
   ]
  },
  {
   "cell_type": "code",
   "execution_count": null,
   "metadata": {},
   "outputs": [],
   "source": [
    "bda = BabiloniaDataAnalytics('../../server/app/config.json')"
   ]
  },
  {
   "cell_type": "code",
   "execution_count": null,
   "metadata": {},
   "outputs": [],
   "source": [
    "bda.plot_node_moisture()"
   ]
  },
  {
   "cell_type": "code",
   "execution_count": null,
   "metadata": {},
   "outputs": [],
   "source": [
    "bda.plot_node_dht()"
   ]
  },
  {
   "cell_type": "code",
   "execution_count": null,
   "metadata": {},
   "outputs": [],
   "source": [
    "bda.NODE_DHT_DATA"
   ]
  },
  {
   "cell_type": "code",
   "execution_count": null,
   "metadata": {},
   "outputs": [],
   "source": []
  }
 ],
 "metadata": {
  "kernelspec": {
   "display_name": "Python 3",
   "language": "python",
   "name": "python3"
  },
  "language_info": {
   "codemirror_mode": {
    "name": "ipython",
    "version": 3
   },
   "file_extension": ".py",
   "mimetype": "text/x-python",
   "name": "python",
   "nbconvert_exporter": "python",
   "pygments_lexer": "ipython3",
   "version": "3.7.3"
  },
  "widgets": {
   "application/vnd.jupyter.widget-state+json": {
    "state": {
     "09b866dc757f4b16bd53707332f00851": {
      "model_module": "@jupyter-widgets/controls",
      "model_module_version": "1.5.0",
      "model_name": "CheckboxModel",
      "state": {
       "description": "MUX0",
       "disabled": true,
       "indent": false,
       "layout": "IPY_MODEL_e645ec8087434efeb2ea55ac3352304b",
       "style": "IPY_MODEL_62eb379a10974b669efe1e684e760acc",
       "value": true
      }
     },
     "0ea4077d60cf476089addd8ac5350c3e": {
      "model_module": "@jupyter-widgets/controls",
      "model_module_version": "1.5.0",
      "model_name": "CheckboxModel",
      "state": {
       "description": "Moisture Region",
       "disabled": true,
       "indent": false,
       "layout": "IPY_MODEL_4ddc618f426640f5930adff1a75a612d",
       "style": "IPY_MODEL_e6fb736c90994c4982f8008156925975",
       "value": false
      }
     },
     "1214944883f04e3591018d37faac8c22": {
      "model_module": "@jupyter-widgets/base",
      "model_module_version": "1.2.0",
      "model_name": "LayoutModel",
      "state": {}
     },
     "13a9bc050c734e01964576af76bd6f0a": {
      "model_module": "@jupyter-widgets/controls",
      "model_module_version": "1.5.0",
      "model_name": "ButtonModel",
      "state": {
       "button_style": "info",
       "description": "Today",
       "disabled": true,
       "layout": "IPY_MODEL_f6192aabf4244ef2b98721717825e243",
       "style": "IPY_MODEL_4770e0a1cb7148339154bf5b6e389ab4"
      }
     },
     "14afa65209ae44fc8f2da435b463bec1": {
      "model_module": "@jupyter-widgets/controls",
      "model_module_version": "1.5.0",
      "model_name": "CheckboxModel",
      "state": {
       "description": "MUX2",
       "disabled": true,
       "indent": false,
       "layout": "IPY_MODEL_bf2afb82549a4663887b847997012c6f",
       "style": "IPY_MODEL_cc851797fbe7462882dbc076d7e7f8d0",
       "value": true
      }
     },
     "190f634a615f4587b27065d7b27021ff": {
      "model_module": "@jupyter-widgets/controls",
      "model_module_version": "1.5.0",
      "model_name": "CheckboxModel",
      "state": {
       "description": "MUX3",
       "disabled": true,
       "indent": false,
       "layout": "IPY_MODEL_61f24b33b59c4aa98ddd4e466112182f",
       "style": "IPY_MODEL_601bb67fa48946a697c2b24ac52ed167",
       "value": true
      }
     },
     "1d2a974351784551abe856560b3aa230": {
      "model_module": "@jupyter-widgets/controls",
      "model_module_version": "1.5.0",
      "model_name": "VBoxModel",
      "state": {
       "children": [
        "IPY_MODEL_ed652c484f9043e890497feb667b3eb4",
        "IPY_MODEL_cbb880d983e949c9a88e53adc4cecf30",
        "IPY_MODEL_79d031980d41432d92950ff0a0af29b2",
        "IPY_MODEL_ef57ebd897194c5cb95c288d167982e8",
        "IPY_MODEL_dfb098a4bb9d4d409153229101f15832",
        "IPY_MODEL_ed750242c18b4b11addbcc41fb0cf62d"
       ],
       "layout": "IPY_MODEL_9c7b98ee525a42298268a2749c72d86a"
      }
     },
     "1f1dcf6b86f54c93af86f3511dab74b9": {
      "model_module": "@jupyter-widgets/base",
      "model_module_version": "1.2.0",
      "model_name": "LayoutModel",
      "state": {}
     },
     "2523b6a47f8b471796165d8ab7211eed": {
      "model_module": "@jupyter-widgets/base",
      "model_module_version": "1.2.0",
      "model_name": "LayoutModel",
      "state": {}
     },
     "2de0b467fb564e8bb26600931f8d2b9a": {
      "model_module": "@jupyter-widgets/base",
      "model_module_version": "1.2.0",
      "model_name": "LayoutModel",
      "state": {}
     },
     "342f76c040b345078e8b60feebd720e3": {
      "model_module": "@jupyter-widgets/controls",
      "model_module_version": "1.5.0",
      "model_name": "CheckboxModel",
      "state": {
       "description": "MUX4",
       "disabled": true,
       "indent": false,
       "layout": "IPY_MODEL_7cfdd5673e7640dbb16ebdb234d3604d",
       "style": "IPY_MODEL_cf540d438e324140add4dcdd2dc89aba",
       "value": true
      }
     },
     "36a6a31fbbe54257b4d8e9b6e88651b0": {
      "model_module": "@jupyter-widgets/controls",
      "model_module_version": "1.5.0",
      "model_name": "DescriptionStyleModel",
      "state": {
       "description_width": ""
      }
     },
     "385e87638231402bab5fab4d12b63f5c": {
      "model_module": "@jupyter-widgets/controls",
      "model_module_version": "1.5.0",
      "model_name": "ButtonModel",
      "state": {
       "button_style": "warning",
       "description": "Retrieve data",
       "layout": "IPY_MODEL_ff01c48a197342b68e8fa87299caee8a",
       "style": "IPY_MODEL_eac3f0f97c71463dab945c32bc4e26f6"
      }
     },
     "4770e0a1cb7148339154bf5b6e389ab4": {
      "model_module": "@jupyter-widgets/controls",
      "model_module_version": "1.5.0",
      "model_name": "ButtonStyleModel",
      "state": {}
     },
     "4ddc618f426640f5930adff1a75a612d": {
      "model_module": "@jupyter-widgets/base",
      "model_module_version": "1.2.0",
      "model_name": "LayoutModel",
      "state": {}
     },
     "54e00290426a497186b292ac31ca2c93": {
      "model_module": "@jupyter-widgets/controls",
      "model_module_version": "1.5.0",
      "model_name": "ButtonModel",
      "state": {
       "button_style": "warning",
       "description": "Latest 48 hrs",
       "disabled": true,
       "layout": "IPY_MODEL_a5ebc009e1164821b16d945235f3049d",
       "style": "IPY_MODEL_7056306a6e0b43bfad0f70234dbd7519"
      }
     },
     "5cc10ff93ce549a0a0974b5397fd7a6a": {
      "model_module": "@jupyter-widgets/controls",
      "model_module_version": "1.5.0",
      "model_name": "ButtonStyleModel",
      "state": {}
     },
     "601bb67fa48946a697c2b24ac52ed167": {
      "model_module": "@jupyter-widgets/controls",
      "model_module_version": "1.5.0",
      "model_name": "DescriptionStyleModel",
      "state": {
       "description_width": ""
      }
     },
     "61f24b33b59c4aa98ddd4e466112182f": {
      "model_module": "@jupyter-widgets/base",
      "model_module_version": "1.2.0",
      "model_name": "LayoutModel",
      "state": {}
     },
     "62eb379a10974b669efe1e684e760acc": {
      "model_module": "@jupyter-widgets/controls",
      "model_module_version": "1.5.0",
      "model_name": "DescriptionStyleModel",
      "state": {
       "description_width": ""
      }
     },
     "67723e64a7574e759f92e432f41b5641": {
      "model_module": "@jupyter-widgets/controls",
      "model_module_version": "1.5.0",
      "model_name": "DescriptionStyleModel",
      "state": {
       "description_width": ""
      }
     },
     "6ec23acb0bb74c93820187034b6ab55d": {
      "model_module": "@jupyter-widgets/base",
      "model_module_version": "1.2.0",
      "model_name": "LayoutModel",
      "state": {}
     },
     "7056306a6e0b43bfad0f70234dbd7519": {
      "model_module": "@jupyter-widgets/controls",
      "model_module_version": "1.5.0",
      "model_name": "ButtonStyleModel",
      "state": {}
     },
     "7197a35ab6ad423db69b2349f436cc97": {
      "model_module": "@jupyter-widgets/controls",
      "model_module_version": "1.5.0",
      "model_name": "CheckboxModel",
      "state": {
       "description": "MUX7",
       "disabled": true,
       "indent": false,
       "layout": "IPY_MODEL_2de0b467fb564e8bb26600931f8d2b9a",
       "style": "IPY_MODEL_36a6a31fbbe54257b4d8e9b6e88651b0",
       "value": true
      }
     },
     "79d031980d41432d92950ff0a0af29b2": {
      "model_module": "@jupyter-widgets/controls",
      "model_module_version": "1.5.0",
      "model_name": "FloatSliderModel",
      "state": {
       "description": "Rolling:",
       "disabled": true,
       "layout": "IPY_MODEL_aa23ccec29724dc093a05d8f6cbba63b",
       "max": 200,
       "min": 1,
       "style": "IPY_MODEL_f928be76e32049a183ecc3c149206523",
       "value": 60
      }
     },
     "7cfdd5673e7640dbb16ebdb234d3604d": {
      "model_module": "@jupyter-widgets/base",
      "model_module_version": "1.2.0",
      "model_name": "LayoutModel",
      "state": {}
     },
     "8b99a7375aba4875a0adfedcebd04fff": {
      "model_module": "@jupyter-widgets/base",
      "model_module_version": "1.2.0",
      "model_name": "LayoutModel",
      "state": {}
     },
     "9c59b4ce7efa46ac84060471ca85e25a": {
      "model_module": "@jupyter-widgets/base",
      "model_module_version": "1.2.0",
      "model_name": "LayoutModel",
      "state": {}
     },
     "9c7b98ee525a42298268a2749c72d86a": {
      "model_module": "@jupyter-widgets/base",
      "model_module_version": "1.2.0",
      "model_name": "LayoutModel",
      "state": {}
     },
     "a0642fe721ff455793308d54fb37ae08": {
      "model_module": "@jupyter-widgets/controls",
      "model_module_version": "1.5.0",
      "model_name": "SliderStyleModel",
      "state": {
       "description_width": ""
      }
     },
     "a5ebc009e1164821b16d945235f3049d": {
      "model_module": "@jupyter-widgets/base",
      "model_module_version": "1.2.0",
      "model_name": "LayoutModel",
      "state": {}
     },
     "aa03922c192f426ba5e84be70936d7e6": {
      "model_module": "@jupyter-widgets/controls",
      "model_module_version": "1.5.0",
      "model_name": "ButtonModel",
      "state": {
       "button_style": "success",
       "description": "Yesterday",
       "disabled": true,
       "layout": "IPY_MODEL_ed25699b093b45dfac77543313521d2b",
       "style": "IPY_MODEL_e4649bd06ac24c35bfa01047bc2f06d3"
      }
     },
     "aa23ccec29724dc093a05d8f6cbba63b": {
      "model_module": "@jupyter-widgets/base",
      "model_module_version": "1.2.0",
      "model_name": "LayoutModel",
      "state": {}
     },
     "b1f62c36c19c414980746b838e6c1c28": {
      "model_module": "@jupyter-widgets/base",
      "model_module_version": "1.2.0",
      "model_name": "LayoutModel",
      "state": {
       "width": "95%"
      }
     },
     "b25e58b9f2ff47e6aafbaa4e52fb9ebf": {
      "model_module": "@jupyter-widgets/base",
      "model_module_version": "1.2.0",
      "model_name": "LayoutModel",
      "state": {}
     },
     "bf2afb82549a4663887b847997012c6f": {
      "model_module": "@jupyter-widgets/base",
      "model_module_version": "1.2.0",
      "model_name": "LayoutModel",
      "state": {}
     },
     "c53a42a6c61a43428203bc732e2d7b86": {
      "model_module": "@jupyter-widgets/controls",
      "model_module_version": "1.5.0",
      "model_name": "CheckboxModel",
      "state": {
       "description": "MUX1",
       "disabled": true,
       "indent": false,
       "layout": "IPY_MODEL_8b99a7375aba4875a0adfedcebd04fff",
       "style": "IPY_MODEL_67723e64a7574e759f92e432f41b5641",
       "value": true
      }
     },
     "cbb880d983e949c9a88e53adc4cecf30": {
      "model_module": "@jupyter-widgets/controls",
      "model_module_version": "1.5.0",
      "model_name": "HBoxModel",
      "state": {
       "children": [
        "IPY_MODEL_09b866dc757f4b16bd53707332f00851",
        "IPY_MODEL_c53a42a6c61a43428203bc732e2d7b86",
        "IPY_MODEL_14afa65209ae44fc8f2da435b463bec1",
        "IPY_MODEL_190f634a615f4587b27065d7b27021ff",
        "IPY_MODEL_342f76c040b345078e8b60feebd720e3",
        "IPY_MODEL_d345358a5f7441b19ceb2f6643c47d4c",
        "IPY_MODEL_7197a35ab6ad423db69b2349f436cc97"
       ],
       "layout": "IPY_MODEL_b25e58b9f2ff47e6aafbaa4e52fb9ebf"
      }
     },
     "cc851797fbe7462882dbc076d7e7f8d0": {
      "model_module": "@jupyter-widgets/controls",
      "model_module_version": "1.5.0",
      "model_name": "DescriptionStyleModel",
      "state": {
       "description_width": ""
      }
     },
     "cf540d438e324140add4dcdd2dc89aba": {
      "model_module": "@jupyter-widgets/controls",
      "model_module_version": "1.5.0",
      "model_name": "DescriptionStyleModel",
      "state": {
       "description_width": ""
      }
     },
     "d345358a5f7441b19ceb2f6643c47d4c": {
      "model_module": "@jupyter-widgets/controls",
      "model_module_version": "1.5.0",
      "model_name": "CheckboxModel",
      "state": {
       "description": "MUX5",
       "disabled": true,
       "indent": false,
       "layout": "IPY_MODEL_9c59b4ce7efa46ac84060471ca85e25a",
       "style": "IPY_MODEL_dd644573d9ac4d91bab6da0ed3a66044",
       "value": true
      }
     },
     "dd644573d9ac4d91bab6da0ed3a66044": {
      "model_module": "@jupyter-widgets/controls",
      "model_module_version": "1.5.0",
      "model_name": "DescriptionStyleModel",
      "state": {
       "description_width": ""
      }
     },
     "dfb098a4bb9d4d409153229101f15832": {
      "model_module": "@jupyter-widgets/controls",
      "model_module_version": "1.5.0",
      "model_name": "HBoxModel",
      "state": {
       "children": [
        "IPY_MODEL_e2c00d1400994a3287580ad8e59ba239",
        "IPY_MODEL_13a9bc050c734e01964576af76bd6f0a",
        "IPY_MODEL_aa03922c192f426ba5e84be70936d7e6",
        "IPY_MODEL_54e00290426a497186b292ac31ca2c93",
        "IPY_MODEL_0ea4077d60cf476089addd8ac5350c3e"
       ],
       "layout": "IPY_MODEL_dfc184a252644a2f896ab81a3adad285"
      }
     },
     "dfc184a252644a2f896ab81a3adad285": {
      "model_module": "@jupyter-widgets/base",
      "model_module_version": "1.2.0",
      "model_name": "LayoutModel",
      "state": {}
     },
     "e2c00d1400994a3287580ad8e59ba239": {
      "model_module": "@jupyter-widgets/controls",
      "model_module_version": "1.5.0",
      "model_name": "ButtonModel",
      "state": {
       "button_style": "danger",
       "description": "Filter Range",
       "disabled": true,
       "layout": "IPY_MODEL_2523b6a47f8b471796165d8ab7211eed",
       "style": "IPY_MODEL_5cc10ff93ce549a0a0974b5397fd7a6a"
      }
     },
     "e4649bd06ac24c35bfa01047bc2f06d3": {
      "model_module": "@jupyter-widgets/controls",
      "model_module_version": "1.5.0",
      "model_name": "ButtonStyleModel",
      "state": {}
     },
     "e645ec8087434efeb2ea55ac3352304b": {
      "model_module": "@jupyter-widgets/base",
      "model_module_version": "1.2.0",
      "model_name": "LayoutModel",
      "state": {}
     },
     "e6fb736c90994c4982f8008156925975": {
      "model_module": "@jupyter-widgets/controls",
      "model_module_version": "1.5.0",
      "model_name": "DescriptionStyleModel",
      "state": {
       "description_width": ""
      }
     },
     "ea091393e2c14c9097585d2489259680": {
      "model_module": "@jupyter-widgets/controls",
      "model_module_version": "1.5.0",
      "model_name": "DescriptionStyleModel",
      "state": {
       "description_width": ""
      }
     },
     "eac3f0f97c71463dab945c32bc4e26f6": {
      "model_module": "@jupyter-widgets/controls",
      "model_module_version": "1.5.0",
      "model_name": "ButtonStyleModel",
      "state": {}
     },
     "ed25699b093b45dfac77543313521d2b": {
      "model_module": "@jupyter-widgets/base",
      "model_module_version": "1.2.0",
      "model_name": "LayoutModel",
      "state": {}
     },
     "ed652c484f9043e890497feb667b3eb4": {
      "model_module": "@jupyter-widgets/controls",
      "model_module_version": "1.5.0",
      "model_name": "HBoxModel",
      "state": {
       "children": [
        "IPY_MODEL_fa1a29d486f045a6b1fe38014e2cc849",
        "IPY_MODEL_385e87638231402bab5fab4d12b63f5c"
       ],
       "layout": "IPY_MODEL_1214944883f04e3591018d37faac8c22"
      }
     },
     "ed750242c18b4b11addbcc41fb0cf62d": {
      "model_module": "@jupyter-widgets/output",
      "model_module_version": "1.0.0",
      "model_name": "OutputModel",
      "state": {
       "layout": "IPY_MODEL_1f1dcf6b86f54c93af86f3511dab74b9"
      }
     },
     "ef57ebd897194c5cb95c288d167982e8": {
      "model_module": "@jupyter-widgets/controls",
      "model_module_version": "1.5.0",
      "model_name": "IntRangeSliderModel",
      "state": {
       "_model_name": "IntRangeSliderModel",
       "_view_name": "IntRangeSliderView",
       "continuous_update": false,
       "description": "Range:",
       "disabled": true,
       "layout": "IPY_MODEL_b1f62c36c19c414980746b838e6c1c28",
       "max": 0,
       "step": 5,
       "style": "IPY_MODEL_a0642fe721ff455793308d54fb37ae08",
       "value": [
        0,
        0
       ]
      }
     },
     "f6192aabf4244ef2b98721717825e243": {
      "model_module": "@jupyter-widgets/base",
      "model_module_version": "1.2.0",
      "model_name": "LayoutModel",
      "state": {}
     },
     "f928be76e32049a183ecc3c149206523": {
      "model_module": "@jupyter-widgets/controls",
      "model_module_version": "1.5.0",
      "model_name": "SliderStyleModel",
      "state": {
       "description_width": ""
      }
     },
     "fa1a29d486f045a6b1fe38014e2cc849": {
      "model_module": "@jupyter-widgets/controls",
      "model_module_version": "1.5.0",
      "model_name": "DropdownModel",
      "state": {
       "_options_labels": [
        "oasis-397c0e (Apr-12 11:11)",
        "oasis-39732c (Apr-12 11:11)",
        "oasis-397988 (Feb-29 17:44)",
        "oasis-312193 (Nov-23 09:51)"
       ],
       "description": "Node:",
       "index": 0,
       "layout": "IPY_MODEL_6ec23acb0bb74c93820187034b6ab55d",
       "style": "IPY_MODEL_ea091393e2c14c9097585d2489259680"
      }
     },
     "ff01c48a197342b68e8fa87299caee8a": {
      "model_module": "@jupyter-widgets/base",
      "model_module_version": "1.2.0",
      "model_name": "LayoutModel",
      "state": {}
     }
    },
    "version_major": 2,
    "version_minor": 0
   }
  }
 },
 "nbformat": 4,
 "nbformat_minor": 2
}
