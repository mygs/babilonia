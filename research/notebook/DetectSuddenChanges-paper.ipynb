{
 "cells": [
  {
   "cell_type": "code",
   "execution_count": null,
   "metadata": {},
   "outputs": [],
   "source": [
    "import import_ipynb\n",
    "import datetime\n",
    "import pandas as pd\n",
    "from numpy import nan\n",
    "import matplotlib.pyplot as plt\n",
    "from pandas.plotting import register_matplotlib_converters\n",
    "register_matplotlib_converters()\n",
    "from matplotlib import dates as mdate\n",
    "from IPython.display import Image\n",
    "#pd.options.display.float_format = '{:,.3f}'.format"
   ]
  },
  {
   "cell_type": "markdown",
   "metadata": {},
   "source": [
    "# Soil moisture level shift detection\n",
    "### brainstorm\n",
    "* Monitoring sudden soil moisture sensors changes caused by:\n",
    " * rain\n",
    " * irrigation\n",
    " * hard sun\n",
    " * manual interventions\n",
    "* Interesting in moisture changes level instead of level itself (noise enviroment)\n",
    "* consider multiples sensors\n",
    " * consensus/voting?\n",
    " * sensor might not be sync - delays between change levels\n",
    "### referencies\n",
    "* https://centre-borelli.github.io/ruptures-docs/\n",
    "* https://techrando.com/2019/08/14/a-brief-introduction-to-change-point-detection-using-python/\n",
    "* https://charles.doffy.net/files/sp-review-2020.pdf\n",
    "* http://www.laurentoudre.fr/publis/TOG-SP-19.pdf"
   ]
  },
  {
   "cell_type": "markdown",
   "metadata": {},
   "source": [
    "![title](./img/oasis_test_moisture.png)"
   ]
  },
  {
   "cell_type": "code",
   "execution_count": null,
   "metadata": {},
   "outputs": [],
   "source": [
    "# CONSTANTS\n",
    "\n",
    "MOISTURES_SENSORS = ['MUX0','MUX1','MUX2','MUX3','MUX4','MUX5','MUX7']\n",
    "RUPTURE_TIMESTAMP_DISTANCE = 600 #10min\n",
    "ROLLING_WINDOW = 30 # RUPTURE_LEVEL_THRESHOLD and PCT_CHANGE_PERIOD are affected by this value\n",
    "RUPTURE_LEVEL_THRESHOLD = 0.015\n",
    "PCT_CHANGE_PERIOD = 10 # RUPTURE_LEVEL_THRESHOLD is affected by this value \n",
    "\n",
    "# UTILS\n",
    "\n",
    "def plot(series): \n",
    "    plt.rcParams['figure.figsize'] = [15,7]\n",
    "    plt.rcParams['timezone'] = 'America/Sao_Paulo'\n",
    "\n",
    "    fig,ax = plt.subplots()\n",
    "    x = mdate.epoch2num(series.index)\n",
    "    fmt = mdate.DateFormatter('%y-%m-%d %H:%M')\n",
    "\n",
    "    ax.xaxis.set_major_formatter(fmt)\n",
    "    plt.xticks( rotation=25 )\n",
    "    plt.plot_date(x, series, linestyle='solid', marker='None')\n",
    "    plt.legend(MOISTURES_SENSORS)\n",
    "    plt.show()"
   ]
  },
  {
   "cell_type": "code",
   "execution_count": null,
   "metadata": {},
   "outputs": [],
   "source": [
    "# RAW DATA FROM 2020-12-26 15:30 TO 2020-12-26 17;30\n",
    "df = pd.read_pickle('./detect_sudden_change_dataset.pkl')\n",
    "plot(df)"
   ]
  },
  {
   "cell_type": "code",
   "execution_count": null,
   "metadata": {},
   "outputs": [],
   "source": [
    "# Filtering the noise ...\n",
    "dfr = df.rolling(ROLLING_WINDOW).mean().dropna()\n",
    "plot(dfr)"
   ]
  },
  {
   "cell_type": "code",
   "execution_count": null,
   "metadata": {},
   "outputs": [],
   "source": [
    "#Percentage change between the current and a prior element\n",
    "# Finding negative or positive slopes ...\n",
    "# percent change over given number of period.\n",
    "pct_change_series = dfr.pct_change(periods=PCT_CHANGE_PERIOD).dropna()\n",
    "plot(pct_change_series)"
   ]
  },
  {
   "cell_type": "code",
   "execution_count": null,
   "metadata": {},
   "outputs": [],
   "source": [
    "def rupture(pct_change_series):\n",
    "    ### Gathering data\n",
    "    min_probes={}\n",
    "    max_probes={}\n",
    "    for mux in MOISTURES_SENSORS:\n",
    "        min_entry={}\n",
    "        min_entry['epoch'] = pct_change_series[mux].idxmin()\n",
    "        min_entry['value'] = pct_change_series[mux][min_entry['epoch']]\n",
    "        if min_entry['value'] < -RUPTURE_LEVEL_THRESHOLD:\n",
    "            min_probes[mux] = min_entry\n",
    "\n",
    "        max_entry={}\n",
    "        max_entry['epoch'] = pct_change_series[mux].idxmax()\n",
    "        max_entry['value'] = pct_change_series[mux][max_entry['epoch']]\n",
    "        if max_entry['value'] < -RUPTURE_LEVEL_THRESHOLD:\n",
    "            max_probes[mux] = max_entry\n",
    "    return pd.DataFrame(data=min_probes).T, pd.DataFrame(data=max_probes).T\n",
    "\n",
    "\n",
    "min, max = rupture(pct_change_series)\n",
    "min"
   ]
  },
  {
   "cell_type": "code",
   "execution_count": null,
   "metadata": {
    "scrolled": true
   },
   "outputs": [],
   "source": [
    "# Looking the values ...\n",
    "entries={}\n",
    "for mux in MOISTURES_SENSORS:\n",
    "    entry={}\n",
    "    entry['min_idx'] = pct_change_series[mux].idxmin()\n",
    "    entry['min_value'] = pct_change_series[mux][entry['min_idx']]\n",
    "    entry['min_time'] = datetime.datetime.fromtimestamp(entry['min_idx']).strftime('%Y-%m-%d %H:%M:%S')\n",
    "    entry['max_idx'] = pct_change_series[mux].idxmax()\n",
    "    entry['max_value'] = pct_change_series[mux][entry['max_idx']]\n",
    "    entry['max_time'] = datetime.datetime.fromtimestamp(entry['max_idx']).strftime('%Y-%m-%d %H:%M:%S')\n",
    "    entries[mux] = entry\n",
    "data = pd.DataFrame(data=entries).T # transpose\n",
    "data"
   ]
  },
  {
   "cell_type": "markdown",
   "metadata": {},
   "source": [
    "# DARK SKY weather forecast on that day\n",
    "\n",
    "\n",
    "URL: https://api.darksky.net/forecast/{my-key}/-23.535521,-46.763048,1609007400?units=si&lang=pt&exclude=currently,flags,daily"
   ]
  },
  {
   "cell_type": "code",
   "execution_count": null,
   "metadata": {},
   "outputs": [],
   "source": [
    "darksky = {\n",
    "   \"latitude\":-23.535521,\n",
    "   \"longitude\":-46.763048,\n",
    "   \"timezone\":\"America/Sao_Paulo\",\n",
    "   \"hourly\":{\n",
    "      \"summary\":\"Chuva durante madrugada e noite.\",\n",
    "      \"icon\":\"rain\",\n",
    "      \"data\":[\n",
    "         {\n",
    "            \"time\":1608951600,\n",
    "            \"summary\":\"Ligeiramente Nublado\",\n",
    "            \"icon\":\"partly-cloudy-night\",\n",
    "            \"precipIntensity\":0,\n",
    "            \"precipProbability\":0,\n",
    "            \"temperature\":18.15,\n",
    "            \"apparentTemperature\":18.15,\n",
    "            \"dewPoint\":14.71,\n",
    "            \"humidity\":0.8,\n",
    "            \"pressure\":1014.2,\n",
    "            \"windSpeed\":2.77,\n",
    "            \"windGust\":5.8,\n",
    "            \"windBearing\":149,\n",
    "            \"cloudCover\":0.33,\n",
    "            \"uvIndex\":0,\n",
    "            \"visibility\":16.093,\n",
    "            \"ozone\":264.9\n",
    "         },\n",
    "         {\n",
    "            \"time\":1608955200,\n",
    "            \"summary\":\"Limpo\",\n",
    "            \"icon\":\"clear-night\",\n",
    "            \"precipIntensity\":0,\n",
    "            \"precipProbability\":0,\n",
    "            \"temperature\":17.55,\n",
    "            \"apparentTemperature\":17.55,\n",
    "            \"dewPoint\":14.43,\n",
    "            \"humidity\":0.82,\n",
    "            \"pressure\":1013.6,\n",
    "            \"windSpeed\":2.6,\n",
    "            \"windGust\":5.5,\n",
    "            \"windBearing\":145,\n",
    "            \"cloudCover\":0.31,\n",
    "            \"uvIndex\":0,\n",
    "            \"visibility\":16.093,\n",
    "            \"ozone\":264.4\n",
    "         },\n",
    "         {\n",
    "            \"time\":1608958800,\n",
    "            \"summary\":\"Ligeiramente Nublado\",\n",
    "            \"icon\":\"partly-cloudy-night\",\n",
    "            \"precipIntensity\":0,\n",
    "            \"precipProbability\":0,\n",
    "            \"temperature\":16.95,\n",
    "            \"apparentTemperature\":16.95,\n",
    "            \"dewPoint\":14.19,\n",
    "            \"humidity\":0.84,\n",
    "            \"pressure\":1013,\n",
    "            \"windSpeed\":2.53,\n",
    "            \"windGust\":5.23,\n",
    "            \"windBearing\":140,\n",
    "            \"cloudCover\":0.39,\n",
    "            \"uvIndex\":0,\n",
    "            \"visibility\":16.093,\n",
    "            \"ozone\":263.9\n",
    "         },\n",
    "         {\n",
    "            \"time\":1608962400,\n",
    "            \"summary\":\"Ligeiramente Nublado\",\n",
    "            \"icon\":\"partly-cloudy-night\",\n",
    "            \"precipIntensity\":0,\n",
    "            \"precipProbability\":0,\n",
    "            \"temperature\":16.64,\n",
    "            \"apparentTemperature\":16.64,\n",
    "            \"dewPoint\":14.09,\n",
    "            \"humidity\":0.85,\n",
    "            \"pressure\":1012.8,\n",
    "            \"windSpeed\":2.47,\n",
    "            \"windGust\":4.96,\n",
    "            \"windBearing\":137,\n",
    "            \"cloudCover\":0.42,\n",
    "            \"uvIndex\":0,\n",
    "            \"visibility\":16.093,\n",
    "            \"ozone\":263.6\n",
    "         },\n",
    "         {\n",
    "            \"time\":1608966000,\n",
    "            \"summary\":\"Ligeiramente Nublado\",\n",
    "            \"icon\":\"partly-cloudy-night\",\n",
    "            \"precipIntensity\":0,\n",
    "            \"precipProbability\":0,\n",
    "            \"temperature\":16.38,\n",
    "            \"apparentTemperature\":16.38,\n",
    "            \"dewPoint\":14.11,\n",
    "            \"humidity\":0.86,\n",
    "            \"pressure\":1012.8,\n",
    "            \"windSpeed\":2.32,\n",
    "            \"windGust\":4.73,\n",
    "            \"windBearing\":137,\n",
    "            \"cloudCover\":0.47,\n",
    "            \"uvIndex\":0,\n",
    "            \"visibility\":16.093,\n",
    "            \"ozone\":263.2\n",
    "         },\n",
    "         {\n",
    "            \"time\":1608969600,\n",
    "            \"summary\":\"Ligeiramente Nublado\",\n",
    "            \"icon\":\"partly-cloudy-night\",\n",
    "            \"precipIntensity\":0,\n",
    "            \"precipProbability\":0,\n",
    "            \"temperature\":16.82,\n",
    "            \"apparentTemperature\":16.82,\n",
    "            \"dewPoint\":14.11,\n",
    "            \"humidity\":0.84,\n",
    "            \"pressure\":1013,\n",
    "            \"windSpeed\":2.11,\n",
    "            \"windGust\":4.37,\n",
    "            \"windBearing\":144,\n",
    "            \"cloudCover\":0.51,\n",
    "            \"uvIndex\":0,\n",
    "            \"visibility\":16.093,\n",
    "            \"ozone\":261.9\n",
    "         },\n",
    "         {\n",
    "            \"time\":1608973200,\n",
    "            \"summary\":\"Nublado\",\n",
    "            \"icon\":\"partly-cloudy-day\",\n",
    "            \"precipIntensity\":0.0051,\n",
    "            \"precipProbability\":0.02,\n",
    "            \"precipType\":\"rain\",\n",
    "            \"temperature\":17.15,\n",
    "            \"apparentTemperature\":17.15,\n",
    "            \"dewPoint\":14.38,\n",
    "            \"humidity\":0.84,\n",
    "            \"pressure\":1013.1,\n",
    "            \"windSpeed\":2.05,\n",
    "            \"windGust\":3.98,\n",
    "            \"windBearing\":145,\n",
    "            \"cloudCover\":0.62,\n",
    "            \"uvIndex\":0,\n",
    "            \"visibility\":16.093,\n",
    "            \"ozone\":262.1\n",
    "         },\n",
    "         {\n",
    "            \"time\":1608976800,\n",
    "            \"summary\":\"Nublado\",\n",
    "            \"icon\":\"partly-cloudy-day\",\n",
    "            \"precipIntensity\":0.006,\n",
    "            \"precipProbability\":0.03,\n",
    "            \"precipType\":\"rain\",\n",
    "            \"temperature\":18.85,\n",
    "            \"apparentTemperature\":18.87,\n",
    "            \"dewPoint\":15.3,\n",
    "            \"humidity\":0.8,\n",
    "            \"pressure\":1013.4,\n",
    "            \"windSpeed\":2.16,\n",
    "            \"windGust\":3.94,\n",
    "            \"windBearing\":137,\n",
    "            \"cloudCover\":0.64,\n",
    "            \"uvIndex\":1,\n",
    "            \"visibility\":16.093,\n",
    "            \"ozone\":263.2\n",
    "         },\n",
    "         {\n",
    "            \"time\":1608980400,\n",
    "            \"summary\":\"Nublado\",\n",
    "            \"icon\":\"partly-cloudy-day\",\n",
    "            \"precipIntensity\":0.006,\n",
    "            \"precipProbability\":0.04,\n",
    "            \"precipType\":\"rain\",\n",
    "            \"temperature\":21.15,\n",
    "            \"apparentTemperature\":21.21,\n",
    "            \"dewPoint\":15.97,\n",
    "            \"humidity\":0.72,\n",
    "            \"pressure\":1013.6,\n",
    "            \"windSpeed\":2.32,\n",
    "            \"windGust\":4.05,\n",
    "            \"windBearing\":129,\n",
    "            \"cloudCover\":0.67,\n",
    "            \"uvIndex\":3,\n",
    "            \"visibility\":16.093,\n",
    "            \"ozone\":264.7\n",
    "         },\n",
    "         {\n",
    "            \"time\":1608984000,\n",
    "            \"summary\":\"Nublado\",\n",
    "            \"icon\":\"partly-cloudy-day\",\n",
    "            \"precipIntensity\":0.0054,\n",
    "            \"precipProbability\":0.04,\n",
    "            \"precipType\":\"rain\",\n",
    "            \"temperature\":22.68,\n",
    "            \"apparentTemperature\":22.72,\n",
    "            \"dewPoint\":16.02,\n",
    "            \"humidity\":0.66,\n",
    "            \"pressure\":1013.8,\n",
    "            \"windSpeed\":2.53,\n",
    "            \"windGust\":3.94,\n",
    "            \"windBearing\":123,\n",
    "            \"cloudCover\":0.7,\n",
    "            \"uvIndex\":5,\n",
    "            \"visibility\":16.093,\n",
    "            \"ozone\":265.9\n",
    "         },\n",
    "         {\n",
    "            \"time\":1608987600,\n",
    "            \"summary\":\"Nublado\",\n",
    "            \"icon\":\"partly-cloudy-day\",\n",
    "            \"precipIntensity\":0,\n",
    "            \"precipProbability\":0,\n",
    "            \"temperature\":23.99,\n",
    "            \"apparentTemperature\":23.99,\n",
    "            \"dewPoint\":15.45,\n",
    "            \"humidity\":0.59,\n",
    "            \"pressure\":1014,\n",
    "            \"windSpeed\":2.35,\n",
    "            \"windGust\":3.26,\n",
    "            \"windBearing\":110,\n",
    "            \"cloudCover\":0.73,\n",
    "            \"uvIndex\":7,\n",
    "            \"visibility\":16.093,\n",
    "            \"ozone\":266.2\n",
    "         },\n",
    "         {\n",
    "            \"time\":1608991200,\n",
    "            \"summary\":\"Nublado\",\n",
    "            \"icon\":\"partly-cloudy-day\",\n",
    "            \"precipIntensity\":0,\n",
    "            \"precipProbability\":0,\n",
    "            \"temperature\":25.79,\n",
    "            \"apparentTemperature\":25.81,\n",
    "            \"dewPoint\":15.44,\n",
    "            \"humidity\":0.53,\n",
    "            \"pressure\":1013.4,\n",
    "            \"windSpeed\":2.47,\n",
    "            \"windGust\":2.47,\n",
    "            \"windBearing\":119,\n",
    "            \"cloudCover\":0.86,\n",
    "            \"uvIndex\":7,\n",
    "            \"visibility\":16.093,\n",
    "            \"ozone\":266.1\n",
    "         },\n",
    "         {\n",
    "            \"time\":1608994800,\n",
    "            \"summary\":\"Nublado\",\n",
    "            \"icon\":\"partly-cloudy-day\",\n",
    "            \"precipIntensity\":0.0093,\n",
    "            \"precipProbability\":0.08,\n",
    "            \"precipType\":\"rain\",\n",
    "            \"temperature\":26.98,\n",
    "            \"apparentTemperature\":27.43,\n",
    "            \"dewPoint\":15.86,\n",
    "            \"humidity\":0.51,\n",
    "            \"pressure\":1011.8,\n",
    "            \"windSpeed\":2.83,\n",
    "            \"windGust\":2.83,\n",
    "            \"windBearing\":97,\n",
    "            \"cloudCover\":0.71,\n",
    "            \"uvIndex\":8,\n",
    "            \"visibility\":16.093,\n",
    "            \"ozone\":266.1\n",
    "         },\n",
    "         {\n",
    "            \"time\":1608998400,\n",
    "            \"summary\":\"Nublado\",\n",
    "            \"icon\":\"partly-cloudy-day\",\n",
    "            \"precipIntensity\":0.0425,\n",
    "            \"precipProbability\":0.09,\n",
    "            \"precipType\":\"rain\",\n",
    "            \"temperature\":27.54,\n",
    "            \"apparentTemperature\":27.96,\n",
    "            \"dewPoint\":16.23,\n",
    "            \"humidity\":0.5,\n",
    "            \"pressure\":1010.1,\n",
    "            \"windSpeed\":2.95,\n",
    "            \"windGust\":2.95,\n",
    "            \"windBearing\":118,\n",
    "            \"cloudCover\":0.86,\n",
    "            \"uvIndex\":7,\n",
    "            \"visibility\":16.093,\n",
    "            \"ozone\":266\n",
    "         },\n",
    "         {\n",
    "            \"time\":1609002000,\n",
    "            \"summary\":\"Muito Nublado\",\n",
    "            \"icon\":\"cloudy\",\n",
    "            \"precipIntensity\":0.1198,\n",
    "            \"precipProbability\":0.1,\n",
    "            \"precipType\":\"rain\",\n",
    "            \"temperature\":27.05,\n",
    "            \"apparentTemperature\":27.6,\n",
    "            \"dewPoint\":16.41,\n",
    "            \"humidity\":0.52,\n",
    "            \"pressure\":1009.6,\n",
    "            \"windSpeed\":2.99,\n",
    "            \"windGust\":2.99,\n",
    "            \"windBearing\":144,\n",
    "            \"cloudCover\":0.97,\n",
    "            \"uvIndex\":6,\n",
    "            \"visibility\":16.093,\n",
    "            \"ozone\":266.2\n",
    "         },\n",
    "         {\n",
    "            \"time\":1609005600,\n",
    "            \"summary\":\"Muito Nublado\",\n",
    "            \"icon\":\"cloudy\",\n",
    "            \"precipIntensity\":0.2376,\n",
    "            \"precipProbability\":0.13,\n",
    "            \"precipType\":\"rain\",\n",
    "            \"temperature\":25.26,\n",
    "            \"apparentTemperature\":25.36,\n",
    "            \"dewPoint\":16.5,\n",
    "            \"humidity\":0.58,\n",
    "            \"pressure\":1009.7,\n",
    "            \"windSpeed\":3.08,\n",
    "            \"windGust\":3.08,\n",
    "            \"windBearing\":155,\n",
    "            \"cloudCover\":0.95,\n",
    "            \"uvIndex\":5,\n",
    "            \"visibility\":16.093,\n",
    "            \"ozone\":266.2\n",
    "         },\n",
    "         {\n",
    "            \"time\":1609009200,\n",
    "            \"summary\":\"Muito Nublado\",\n",
    "            \"icon\":\"cloudy\",\n",
    "            \"precipIntensity\":0.5215,\n",
    "            \"precipProbability\":0.16,\n",
    "            \"precipType\":\"rain\",\n",
    "            \"temperature\":24.38,\n",
    "            \"apparentTemperature\":24.56,\n",
    "            \"dewPoint\":17.32,\n",
    "            \"humidity\":0.65,\n",
    "            \"pressure\":1009.8,\n",
    "            \"windSpeed\":3.17,\n",
    "            \"windGust\":3.36,\n",
    "            \"windBearing\":133,\n",
    "            \"cloudCover\":0.93,\n",
    "            \"uvIndex\":3,\n",
    "            \"visibility\":16.093,\n",
    "            \"ozone\":266.2\n",
    "         },\n",
    "         {\n",
    "            \"time\":1609012800,\n",
    "            \"summary\":\"Chuva\",\n",
    "            \"icon\":\"rain\",\n",
    "            \"precipIntensity\":1.1151,\n",
    "            \"precipProbability\":0.33,\n",
    "            \"precipType\":\"rain\",\n",
    "            \"temperature\":22.91,\n",
    "            \"apparentTemperature\":23.2,\n",
    "            \"dewPoint\":18.14,\n",
    "            \"humidity\":0.74,\n",
    "            \"pressure\":1010.2,\n",
    "            \"windSpeed\":3.26,\n",
    "            \"windGust\":4.98,\n",
    "            \"windBearing\":100,\n",
    "            \"cloudCover\":0.91,\n",
    "            \"uvIndex\":1,\n",
    "            \"visibility\":16.093,\n",
    "            \"ozone\":266.2\n",
    "         },\n",
    "         {\n",
    "            \"time\":1609016400,\n",
    "            \"summary\":\"Chuva\",\n",
    "            \"icon\":\"rain\",\n",
    "            \"precipIntensity\":1.6425,\n",
    "            \"precipProbability\":0.51,\n",
    "            \"precipType\":\"rain\",\n",
    "            \"temperature\":22.14,\n",
    "            \"apparentTemperature\":22.48,\n",
    "            \"dewPoint\":18.39,\n",
    "            \"humidity\":0.79,\n",
    "            \"pressure\":1010.6,\n",
    "            \"windSpeed\":3.24,\n",
    "            \"windGust\":6.06,\n",
    "            \"windBearing\":183,\n",
    "            \"cloudCover\":0.89,\n",
    "            \"uvIndex\":0,\n",
    "            \"visibility\":16.093,\n",
    "            \"ozone\":265.7\n",
    "         },\n",
    "         {\n",
    "            \"time\":1609020000,\n",
    "            \"summary\":\"Chuva\",\n",
    "            \"icon\":\"rain\",\n",
    "            \"precipIntensity\":1.479,\n",
    "            \"precipProbability\":0.44,\n",
    "            \"precipType\":\"rain\",\n",
    "            \"temperature\":21.56,\n",
    "            \"apparentTemperature\":21.95,\n",
    "            \"dewPoint\":18.58,\n",
    "            \"humidity\":0.83,\n",
    "            \"pressure\":1011.2,\n",
    "            \"windSpeed\":3.27,\n",
    "            \"windGust\":6.29,\n",
    "            \"windBearing\":101,\n",
    "            \"cloudCover\":0.89,\n",
    "            \"uvIndex\":0,\n",
    "            \"visibility\":16.093,\n",
    "            \"ozone\":265.2\n",
    "         },\n",
    "         {\n",
    "            \"time\":1609023600,\n",
    "            \"summary\":\"Chuva\",\n",
    "            \"icon\":\"rain\",\n",
    "            \"precipIntensity\":1.0398,\n",
    "            \"precipProbability\":0.39,\n",
    "            \"precipType\":\"rain\",\n",
    "            \"temperature\":21.16,\n",
    "            \"apparentTemperature\":21.53,\n",
    "            \"dewPoint\":18.37,\n",
    "            \"humidity\":0.84,\n",
    "            \"pressure\":1011.9,\n",
    "            \"windSpeed\":3.36,\n",
    "            \"windGust\":6.12,\n",
    "            \"windBearing\":109,\n",
    "            \"cloudCover\":0.83,\n",
    "            \"uvIndex\":0,\n",
    "            \"visibility\":16.093,\n",
    "            \"ozone\":264.9\n",
    "         },\n",
    "         {\n",
    "            \"time\":1609027200,\n",
    "            \"summary\":\"Possível Chuva Fraca\",\n",
    "            \"icon\":\"rain\",\n",
    "            \"precipIntensity\":0.742,\n",
    "            \"precipProbability\":0.32,\n",
    "            \"precipType\":\"rain\",\n",
    "            \"temperature\":20.99,\n",
    "            \"apparentTemperature\":21.34,\n",
    "            \"dewPoint\":18.19,\n",
    "            \"humidity\":0.84,\n",
    "            \"pressure\":1012.9,\n",
    "            \"windSpeed\":3.2,\n",
    "            \"windGust\":5.98,\n",
    "            \"windBearing\":120,\n",
    "            \"cloudCover\":0.91,\n",
    "            \"uvIndex\":0,\n",
    "            \"visibility\":16.093,\n",
    "            \"ozone\":264.3\n",
    "         },\n",
    "         {\n",
    "            \"time\":1609030800,\n",
    "            \"summary\":\"Possível Chuva Fraca\",\n",
    "            \"icon\":\"rain\",\n",
    "            \"precipIntensity\":0.708,\n",
    "            \"precipProbability\":0.28,\n",
    "            \"precipType\":\"rain\",\n",
    "            \"temperature\":20.85,\n",
    "            \"apparentTemperature\":21.14,\n",
    "            \"dewPoint\":17.74,\n",
    "            \"humidity\":0.82,\n",
    "            \"pressure\":1013.1,\n",
    "            \"windSpeed\":3.14,\n",
    "            \"windGust\":6.17,\n",
    "            \"windBearing\":135,\n",
    "            \"cloudCover\":0.92,\n",
    "            \"uvIndex\":0,\n",
    "            \"visibility\":16.093,\n",
    "            \"ozone\":263.4\n",
    "         },\n",
    "         {\n",
    "            \"time\":1609034400,\n",
    "            \"summary\":\"Chuva\",\n",
    "            \"icon\":\"rain\",\n",
    "            \"precipIntensity\":1.0835,\n",
    "            \"precipProbability\":0.39,\n",
    "            \"precipType\":\"rain\",\n",
    "            \"temperature\":20.56,\n",
    "            \"apparentTemperature\":20.89,\n",
    "            \"dewPoint\":17.94,\n",
    "            \"humidity\":0.85,\n",
    "            \"pressure\":1013.3,\n",
    "            \"windSpeed\":2.2,\n",
    "            \"windGust\":4.17,\n",
    "            \"windBearing\":114,\n",
    "            \"cloudCover\":0.96,\n",
    "            \"uvIndex\":0,\n",
    "            \"visibility\":6.176,\n",
    "            \"ozone\":263.6\n",
    "         }\n",
    "      ]\n",
    "   },\n",
    "   \"offset\":-3\n",
    "}"
   ]
  },
  {
   "cell_type": "code",
   "execution_count": null,
   "metadata": {},
   "outputs": [],
   "source": []
  }
 ],
 "metadata": {
  "kernelspec": {
   "display_name": "Python 3",
   "language": "python",
   "name": "python3"
  },
  "language_info": {
   "codemirror_mode": {
    "name": "ipython",
    "version": 3
   },
   "file_extension": ".py",
   "mimetype": "text/x-python",
   "name": "python",
   "nbconvert_exporter": "python",
   "pygments_lexer": "ipython3",
   "version": "3.7.3"
  },
  "widgets": {
   "application/vnd.jupyter.widget-state+json": {
    "state": {
     "09b866dc757f4b16bd53707332f00851": {
      "model_module": "@jupyter-widgets/controls",
      "model_module_version": "1.5.0",
      "model_name": "CheckboxModel",
      "state": {
       "description": "MUX0",
       "disabled": true,
       "indent": false,
       "layout": "IPY_MODEL_e645ec8087434efeb2ea55ac3352304b",
       "style": "IPY_MODEL_62eb379a10974b669efe1e684e760acc",
       "value": true
      }
     },
     "0ea4077d60cf476089addd8ac5350c3e": {
      "model_module": "@jupyter-widgets/controls",
      "model_module_version": "1.5.0",
      "model_name": "CheckboxModel",
      "state": {
       "description": "Moisture Region",
       "disabled": true,
       "indent": false,
       "layout": "IPY_MODEL_4ddc618f426640f5930adff1a75a612d",
       "style": "IPY_MODEL_e6fb736c90994c4982f8008156925975",
       "value": false
      }
     },
     "1214944883f04e3591018d37faac8c22": {
      "model_module": "@jupyter-widgets/base",
      "model_module_version": "1.2.0",
      "model_name": "LayoutModel",
      "state": {}
     },
     "13a9bc050c734e01964576af76bd6f0a": {
      "model_module": "@jupyter-widgets/controls",
      "model_module_version": "1.5.0",
      "model_name": "ButtonModel",
      "state": {
       "button_style": "info",
       "description": "Today",
       "disabled": true,
       "layout": "IPY_MODEL_f6192aabf4244ef2b98721717825e243",
       "style": "IPY_MODEL_4770e0a1cb7148339154bf5b6e389ab4"
      }
     },
     "14afa65209ae44fc8f2da435b463bec1": {
      "model_module": "@jupyter-widgets/controls",
      "model_module_version": "1.5.0",
      "model_name": "CheckboxModel",
      "state": {
       "description": "MUX2",
       "disabled": true,
       "indent": false,
       "layout": "IPY_MODEL_bf2afb82549a4663887b847997012c6f",
       "style": "IPY_MODEL_cc851797fbe7462882dbc076d7e7f8d0",
       "value": true
      }
     },
     "190f634a615f4587b27065d7b27021ff": {
      "model_module": "@jupyter-widgets/controls",
      "model_module_version": "1.5.0",
      "model_name": "CheckboxModel",
      "state": {
       "description": "MUX3",
       "disabled": true,
       "indent": false,
       "layout": "IPY_MODEL_61f24b33b59c4aa98ddd4e466112182f",
       "style": "IPY_MODEL_601bb67fa48946a697c2b24ac52ed167",
       "value": true
      }
     },
     "1d2a974351784551abe856560b3aa230": {
      "model_module": "@jupyter-widgets/controls",
      "model_module_version": "1.5.0",
      "model_name": "VBoxModel",
      "state": {
       "children": [
        "IPY_MODEL_ed652c484f9043e890497feb667b3eb4",
        "IPY_MODEL_cbb880d983e949c9a88e53adc4cecf30",
        "IPY_MODEL_79d031980d41432d92950ff0a0af29b2",
        "IPY_MODEL_ef57ebd897194c5cb95c288d167982e8",
        "IPY_MODEL_dfb098a4bb9d4d409153229101f15832",
        "IPY_MODEL_ed750242c18b4b11addbcc41fb0cf62d"
       ],
       "layout": "IPY_MODEL_9c7b98ee525a42298268a2749c72d86a"
      }
     },
     "1f1dcf6b86f54c93af86f3511dab74b9": {
      "model_module": "@jupyter-widgets/base",
      "model_module_version": "1.2.0",
      "model_name": "LayoutModel",
      "state": {}
     },
     "2523b6a47f8b471796165d8ab7211eed": {
      "model_module": "@jupyter-widgets/base",
      "model_module_version": "1.2.0",
      "model_name": "LayoutModel",
      "state": {}
     },
     "2de0b467fb564e8bb26600931f8d2b9a": {
      "model_module": "@jupyter-widgets/base",
      "model_module_version": "1.2.0",
      "model_name": "LayoutModel",
      "state": {}
     },
     "342f76c040b345078e8b60feebd720e3": {
      "model_module": "@jupyter-widgets/controls",
      "model_module_version": "1.5.0",
      "model_name": "CheckboxModel",
      "state": {
       "description": "MUX4",
       "disabled": true,
       "indent": false,
       "layout": "IPY_MODEL_7cfdd5673e7640dbb16ebdb234d3604d",
       "style": "IPY_MODEL_cf540d438e324140add4dcdd2dc89aba",
       "value": true
      }
     },
     "36a6a31fbbe54257b4d8e9b6e88651b0": {
      "model_module": "@jupyter-widgets/controls",
      "model_module_version": "1.5.0",
      "model_name": "DescriptionStyleModel",
      "state": {
       "description_width": ""
      }
     },
     "385e87638231402bab5fab4d12b63f5c": {
      "model_module": "@jupyter-widgets/controls",
      "model_module_version": "1.5.0",
      "model_name": "ButtonModel",
      "state": {
       "button_style": "warning",
       "description": "Retrieve data",
       "layout": "IPY_MODEL_ff01c48a197342b68e8fa87299caee8a",
       "style": "IPY_MODEL_eac3f0f97c71463dab945c32bc4e26f6"
      }
     },
     "4770e0a1cb7148339154bf5b6e389ab4": {
      "model_module": "@jupyter-widgets/controls",
      "model_module_version": "1.5.0",
      "model_name": "ButtonStyleModel",
      "state": {}
     },
     "4ddc618f426640f5930adff1a75a612d": {
      "model_module": "@jupyter-widgets/base",
      "model_module_version": "1.2.0",
      "model_name": "LayoutModel",
      "state": {}
     },
     "54e00290426a497186b292ac31ca2c93": {
      "model_module": "@jupyter-widgets/controls",
      "model_module_version": "1.5.0",
      "model_name": "ButtonModel",
      "state": {
       "button_style": "warning",
       "description": "Latest 48 hrs",
       "disabled": true,
       "layout": "IPY_MODEL_a5ebc009e1164821b16d945235f3049d",
       "style": "IPY_MODEL_7056306a6e0b43bfad0f70234dbd7519"
      }
     },
     "5cc10ff93ce549a0a0974b5397fd7a6a": {
      "model_module": "@jupyter-widgets/controls",
      "model_module_version": "1.5.0",
      "model_name": "ButtonStyleModel",
      "state": {}
     },
     "601bb67fa48946a697c2b24ac52ed167": {
      "model_module": "@jupyter-widgets/controls",
      "model_module_version": "1.5.0",
      "model_name": "DescriptionStyleModel",
      "state": {
       "description_width": ""
      }
     },
     "61f24b33b59c4aa98ddd4e466112182f": {
      "model_module": "@jupyter-widgets/base",
      "model_module_version": "1.2.0",
      "model_name": "LayoutModel",
      "state": {}
     },
     "62eb379a10974b669efe1e684e760acc": {
      "model_module": "@jupyter-widgets/controls",
      "model_module_version": "1.5.0",
      "model_name": "DescriptionStyleModel",
      "state": {
       "description_width": ""
      }
     },
     "67723e64a7574e759f92e432f41b5641": {
      "model_module": "@jupyter-widgets/controls",
      "model_module_version": "1.5.0",
      "model_name": "DescriptionStyleModel",
      "state": {
       "description_width": ""
      }
     },
     "6ec23acb0bb74c93820187034b6ab55d": {
      "model_module": "@jupyter-widgets/base",
      "model_module_version": "1.2.0",
      "model_name": "LayoutModel",
      "state": {}
     },
     "7056306a6e0b43bfad0f70234dbd7519": {
      "model_module": "@jupyter-widgets/controls",
      "model_module_version": "1.5.0",
      "model_name": "ButtonStyleModel",
      "state": {}
     },
     "7197a35ab6ad423db69b2349f436cc97": {
      "model_module": "@jupyter-widgets/controls",
      "model_module_version": "1.5.0",
      "model_name": "CheckboxModel",
      "state": {
       "description": "MUX7",
       "disabled": true,
       "indent": false,
       "layout": "IPY_MODEL_2de0b467fb564e8bb26600931f8d2b9a",
       "style": "IPY_MODEL_36a6a31fbbe54257b4d8e9b6e88651b0",
       "value": true
      }
     },
     "79d031980d41432d92950ff0a0af29b2": {
      "model_module": "@jupyter-widgets/controls",
      "model_module_version": "1.5.0",
      "model_name": "FloatSliderModel",
      "state": {
       "description": "Rolling:",
       "disabled": true,
       "layout": "IPY_MODEL_aa23ccec29724dc093a05d8f6cbba63b",
       "max": 200,
       "min": 1,
       "style": "IPY_MODEL_f928be76e32049a183ecc3c149206523",
       "value": 60
      }
     },
     "7cfdd5673e7640dbb16ebdb234d3604d": {
      "model_module": "@jupyter-widgets/base",
      "model_module_version": "1.2.0",
      "model_name": "LayoutModel",
      "state": {}
     },
     "8b99a7375aba4875a0adfedcebd04fff": {
      "model_module": "@jupyter-widgets/base",
      "model_module_version": "1.2.0",
      "model_name": "LayoutModel",
      "state": {}
     },
     "9c59b4ce7efa46ac84060471ca85e25a": {
      "model_module": "@jupyter-widgets/base",
      "model_module_version": "1.2.0",
      "model_name": "LayoutModel",
      "state": {}
     },
     "9c7b98ee525a42298268a2749c72d86a": {
      "model_module": "@jupyter-widgets/base",
      "model_module_version": "1.2.0",
      "model_name": "LayoutModel",
      "state": {}
     },
     "a0642fe721ff455793308d54fb37ae08": {
      "model_module": "@jupyter-widgets/controls",
      "model_module_version": "1.5.0",
      "model_name": "SliderStyleModel",
      "state": {
       "description_width": ""
      }
     },
     "a5ebc009e1164821b16d945235f3049d": {
      "model_module": "@jupyter-widgets/base",
      "model_module_version": "1.2.0",
      "model_name": "LayoutModel",
      "state": {}
     },
     "aa03922c192f426ba5e84be70936d7e6": {
      "model_module": "@jupyter-widgets/controls",
      "model_module_version": "1.5.0",
      "model_name": "ButtonModel",
      "state": {
       "button_style": "success",
       "description": "Yesterday",
       "disabled": true,
       "layout": "IPY_MODEL_ed25699b093b45dfac77543313521d2b",
       "style": "IPY_MODEL_e4649bd06ac24c35bfa01047bc2f06d3"
      }
     },
     "aa23ccec29724dc093a05d8f6cbba63b": {
      "model_module": "@jupyter-widgets/base",
      "model_module_version": "1.2.0",
      "model_name": "LayoutModel",
      "state": {}
     },
     "b1f62c36c19c414980746b838e6c1c28": {
      "model_module": "@jupyter-widgets/base",
      "model_module_version": "1.2.0",
      "model_name": "LayoutModel",
      "state": {
       "width": "95%"
      }
     },
     "b25e58b9f2ff47e6aafbaa4e52fb9ebf": {
      "model_module": "@jupyter-widgets/base",
      "model_module_version": "1.2.0",
      "model_name": "LayoutModel",
      "state": {}
     },
     "bf2afb82549a4663887b847997012c6f": {
      "model_module": "@jupyter-widgets/base",
      "model_module_version": "1.2.0",
      "model_name": "LayoutModel",
      "state": {}
     },
     "c53a42a6c61a43428203bc732e2d7b86": {
      "model_module": "@jupyter-widgets/controls",
      "model_module_version": "1.5.0",
      "model_name": "CheckboxModel",
      "state": {
       "description": "MUX1",
       "disabled": true,
       "indent": false,
       "layout": "IPY_MODEL_8b99a7375aba4875a0adfedcebd04fff",
       "style": "IPY_MODEL_67723e64a7574e759f92e432f41b5641",
       "value": true
      }
     },
     "cbb880d983e949c9a88e53adc4cecf30": {
      "model_module": "@jupyter-widgets/controls",
      "model_module_version": "1.5.0",
      "model_name": "HBoxModel",
      "state": {
       "children": [
        "IPY_MODEL_09b866dc757f4b16bd53707332f00851",
        "IPY_MODEL_c53a42a6c61a43428203bc732e2d7b86",
        "IPY_MODEL_14afa65209ae44fc8f2da435b463bec1",
        "IPY_MODEL_190f634a615f4587b27065d7b27021ff",
        "IPY_MODEL_342f76c040b345078e8b60feebd720e3",
        "IPY_MODEL_d345358a5f7441b19ceb2f6643c47d4c",
        "IPY_MODEL_7197a35ab6ad423db69b2349f436cc97"
       ],
       "layout": "IPY_MODEL_b25e58b9f2ff47e6aafbaa4e52fb9ebf"
      }
     },
     "cc851797fbe7462882dbc076d7e7f8d0": {
      "model_module": "@jupyter-widgets/controls",
      "model_module_version": "1.5.0",
      "model_name": "DescriptionStyleModel",
      "state": {
       "description_width": ""
      }
     },
     "cf540d438e324140add4dcdd2dc89aba": {
      "model_module": "@jupyter-widgets/controls",
      "model_module_version": "1.5.0",
      "model_name": "DescriptionStyleModel",
      "state": {
       "description_width": ""
      }
     },
     "d345358a5f7441b19ceb2f6643c47d4c": {
      "model_module": "@jupyter-widgets/controls",
      "model_module_version": "1.5.0",
      "model_name": "CheckboxModel",
      "state": {
       "description": "MUX5",
       "disabled": true,
       "indent": false,
       "layout": "IPY_MODEL_9c59b4ce7efa46ac84060471ca85e25a",
       "style": "IPY_MODEL_dd644573d9ac4d91bab6da0ed3a66044",
       "value": true
      }
     },
     "dd644573d9ac4d91bab6da0ed3a66044": {
      "model_module": "@jupyter-widgets/controls",
      "model_module_version": "1.5.0",
      "model_name": "DescriptionStyleModel",
      "state": {
       "description_width": ""
      }
     },
     "dfb098a4bb9d4d409153229101f15832": {
      "model_module": "@jupyter-widgets/controls",
      "model_module_version": "1.5.0",
      "model_name": "HBoxModel",
      "state": {
       "children": [
        "IPY_MODEL_e2c00d1400994a3287580ad8e59ba239",
        "IPY_MODEL_13a9bc050c734e01964576af76bd6f0a",
        "IPY_MODEL_aa03922c192f426ba5e84be70936d7e6",
        "IPY_MODEL_54e00290426a497186b292ac31ca2c93",
        "IPY_MODEL_0ea4077d60cf476089addd8ac5350c3e"
       ],
       "layout": "IPY_MODEL_dfc184a252644a2f896ab81a3adad285"
      }
     },
     "dfc184a252644a2f896ab81a3adad285": {
      "model_module": "@jupyter-widgets/base",
      "model_module_version": "1.2.0",
      "model_name": "LayoutModel",
      "state": {}
     },
     "e2c00d1400994a3287580ad8e59ba239": {
      "model_module": "@jupyter-widgets/controls",
      "model_module_version": "1.5.0",
      "model_name": "ButtonModel",
      "state": {
       "button_style": "danger",
       "description": "Filter Range",
       "disabled": true,
       "layout": "IPY_MODEL_2523b6a47f8b471796165d8ab7211eed",
       "style": "IPY_MODEL_5cc10ff93ce549a0a0974b5397fd7a6a"
      }
     },
     "e4649bd06ac24c35bfa01047bc2f06d3": {
      "model_module": "@jupyter-widgets/controls",
      "model_module_version": "1.5.0",
      "model_name": "ButtonStyleModel",
      "state": {}
     },
     "e645ec8087434efeb2ea55ac3352304b": {
      "model_module": "@jupyter-widgets/base",
      "model_module_version": "1.2.0",
      "model_name": "LayoutModel",
      "state": {}
     },
     "e6fb736c90994c4982f8008156925975": {
      "model_module": "@jupyter-widgets/controls",
      "model_module_version": "1.5.0",
      "model_name": "DescriptionStyleModel",
      "state": {
       "description_width": ""
      }
     },
     "ea091393e2c14c9097585d2489259680": {
      "model_module": "@jupyter-widgets/controls",
      "model_module_version": "1.5.0",
      "model_name": "DescriptionStyleModel",
      "state": {
       "description_width": ""
      }
     },
     "eac3f0f97c71463dab945c32bc4e26f6": {
      "model_module": "@jupyter-widgets/controls",
      "model_module_version": "1.5.0",
      "model_name": "ButtonStyleModel",
      "state": {}
     },
     "ed25699b093b45dfac77543313521d2b": {
      "model_module": "@jupyter-widgets/base",
      "model_module_version": "1.2.0",
      "model_name": "LayoutModel",
      "state": {}
     },
     "ed652c484f9043e890497feb667b3eb4": {
      "model_module": "@jupyter-widgets/controls",
      "model_module_version": "1.5.0",
      "model_name": "HBoxModel",
      "state": {
       "children": [
        "IPY_MODEL_fa1a29d486f045a6b1fe38014e2cc849",
        "IPY_MODEL_385e87638231402bab5fab4d12b63f5c"
       ],
       "layout": "IPY_MODEL_1214944883f04e3591018d37faac8c22"
      }
     },
     "ed750242c18b4b11addbcc41fb0cf62d": {
      "model_module": "@jupyter-widgets/output",
      "model_module_version": "1.0.0",
      "model_name": "OutputModel",
      "state": {
       "layout": "IPY_MODEL_1f1dcf6b86f54c93af86f3511dab74b9"
      }
     },
     "ef57ebd897194c5cb95c288d167982e8": {
      "model_module": "@jupyter-widgets/controls",
      "model_module_version": "1.5.0",
      "model_name": "IntRangeSliderModel",
      "state": {
       "_model_name": "IntRangeSliderModel",
       "_view_name": "IntRangeSliderView",
       "continuous_update": false,
       "description": "Range:",
       "disabled": true,
       "layout": "IPY_MODEL_b1f62c36c19c414980746b838e6c1c28",
       "max": 0,
       "step": 5,
       "style": "IPY_MODEL_a0642fe721ff455793308d54fb37ae08",
       "value": [
        0,
        0
       ]
      }
     },
     "f6192aabf4244ef2b98721717825e243": {
      "model_module": "@jupyter-widgets/base",
      "model_module_version": "1.2.0",
      "model_name": "LayoutModel",
      "state": {}
     },
     "f928be76e32049a183ecc3c149206523": {
      "model_module": "@jupyter-widgets/controls",
      "model_module_version": "1.5.0",
      "model_name": "SliderStyleModel",
      "state": {
       "description_width": ""
      }
     },
     "fa1a29d486f045a6b1fe38014e2cc849": {
      "model_module": "@jupyter-widgets/controls",
      "model_module_version": "1.5.0",
      "model_name": "DropdownModel",
      "state": {
       "_options_labels": [
        "oasis-397c0e (Apr-12 11:11)",
        "oasis-39732c (Apr-12 11:11)",
        "oasis-397988 (Feb-29 17:44)",
        "oasis-312193 (Nov-23 09:51)"
       ],
       "description": "Node:",
       "index": 0,
       "layout": "IPY_MODEL_6ec23acb0bb74c93820187034b6ab55d",
       "style": "IPY_MODEL_ea091393e2c14c9097585d2489259680"
      }
     },
     "ff01c48a197342b68e8fa87299caee8a": {
      "model_module": "@jupyter-widgets/base",
      "model_module_version": "1.2.0",
      "model_name": "LayoutModel",
      "state": {}
     }
    },
    "version_major": 2,
    "version_minor": 0
   }
  }
 },
 "nbformat": 4,
 "nbformat_minor": 2
}
